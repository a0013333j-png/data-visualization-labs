{
 "cells": [
  {
   "cell_type": "markdown",
   "id": "3bc4a329",
   "metadata": {},
   "source": [
    "# Plotly PNG Export — Robust Example Notebook"
   ]
  },
  {
   "cell_type": "code",
   "execution_count": null,
   "id": "e97bcaa1",
   "metadata": {},
   "outputs": [],
   "source": [
    "# Install/upgrade kaleido once (safe to re-run)\n",
    "try:\n",
    "    import kaleido  # noqa: F401\n",
    "except Exception:\n",
    "    %pip -q install -U kaleido\n"
   ]
  },
  {
   "cell_type": "code",
   "execution_count": null,
   "id": "7c338554",
   "metadata": {},
   "outputs": [],
   "source": [
    "import importlib\n",
    "import plotly.express as px\n",
    "import plotly.io as pio\n",
    "import pandas as pd\n",
    "\n",
    "def save_plotly_png(fig, filename):\n",
    "    if importlib.util.find_spec(\"kaleido\") is None:\n",
    "        import sys, subprocess\n",
    "        subprocess.check_call([sys.executable, \"-m\", \"pip\", \"install\", \"-U\", \"kaleido\"])\n",
    "    try:\n",
    "        try:\n",
    "            pio.kaleido.scope.default_format = \"png\"\n",
    "        except Exception:\n",
    "            pass\n",
    "        fig.write_image(filename, engine=\"kaleido\")\n",
    "        print(f\"✅ PNG exported: {filename}\")\n",
    "    except Exception as e:\n",
    "        html_name = filename.replace(\".png\", \".html\")\n",
    "        pio.write_html(fig, html_name, include_plotlyjs=\"cdn\", full_html=True)\n",
    "        print(f\"⚠️ PNG export failed ({e}). Saved HTML instead: {html_name}\")\n"
   ]
  },
  {
   "cell_type": "code",
   "execution_count": null,
   "id": "de6674ac",
   "metadata": {},
   "outputs": [],
   "source": [
    "gm = px.data.gapminder().query(\"year == 2007\").copy()\n",
    "happy_df = pd.DataFrame({\n",
    "    \"Country or region\": gm[\"country\"],\n",
    "    \"GDP per capita\": gm[\"gdpPercap\"],\n",
    "    \"Score\": gm[\"lifeExp\"],\n",
    "    \"Overall rank\": gm[\"pop\"].rank(ascending=False).astype(int)\n",
    "})\n",
    "happy_df.head()\n"
   ]
  },
  {
   "cell_type": "code",
   "execution_count": null,
   "id": "d7f34031",
   "metadata": {},
   "outputs": [],
   "source": [
    "fig = px.scatter(\n",
    "    happy_df,\n",
    "    x=\"GDP per capita\",\n",
    "    y=\"Score\",\n",
    "    size=\"Overall rank\",\n",
    "    color=\"Country or region\",\n",
    "    hover_name=\"Country or region\",\n",
    "    title=\"Happiness Score vs GDP per Capita\"\n",
    ")\n",
    "\n",
    "target = \"Taiwan\" if (happy_df[\"Country or region\"] == \"Taiwan\").any() else (\"Japan\" if (happy_df[\"Country or region\"] == \"Japan\").any() else happy_df.iloc[0][\"Country or region\"])\n",
    "row = happy_df.loc[happy_df[\"Country or region\"] == target].iloc[0]\n",
    "fig.add_annotation(x=row[\"GDP per capita\"], y=row[\"Score\"], text=target, showarrow=True, arrowhead=2, ax=20, ay=-40)\n",
    "\n",
    "fig.show()\n",
    "save_plotly_png(fig, \"fig1.png\")\n"
   ]
  },
  {
   "cell_type": "markdown",
   "id": "daf1510c",
   "metadata": {},
   "source": [
    "![fig1](fig1.png)"
   ]
  },
  {
   "cell_type": "code",
   "execution_count": null,
   "id": "96613086",
   "metadata": {},
   "outputs": [],
   "source": [
    "corr = happy_df.select_dtypes(\"number\").corr()\n",
    "fig = px.imshow(corr, text_auto=True, aspect=\"auto\", title=\"Correlation heatmap\")\n",
    "fig.update_layout(margin=dict(l=40, r=20, t=40, b=40))\n",
    "fig.show()\n",
    "save_plotly_png(fig, \"fig2.png\")\n"
   ]
  },
  {
   "cell_type": "markdown",
   "id": "3f520b99",
   "metadata": {},
   "source": [
    "![fig2](fig2.png)"
   ]
  },
  {
   "cell_type": "code",
   "execution_count": null,
   "id": "bd4d49ad",
   "metadata": {},
   "outputs": [],
   "source": [
    "fig = px.scatter_matrix(\n",
    "    happy_df,\n",
    "    dimensions=[\"GDP per capita\", \"Score\", \"Overall rank\"],\n",
    "    color=\"Country or region\",\n",
    "    title=\"Scatter Matrix\"\n",
    ")\n",
    "fig.update_traces(diagonal_visible=False)\n",
    "fig.show()\n",
    "save_plotly_png(fig, \"fig3.png\")\n"
   ]
  },
  {
   "cell_type": "markdown",
   "id": "c806592e",
   "metadata": {},
   "source": [
    "![fig3](fig3.png)"
   ]
  }
 ],
 "metadata": {},
 "nbformat": 4,
 "nbformat_minor": 5
}
