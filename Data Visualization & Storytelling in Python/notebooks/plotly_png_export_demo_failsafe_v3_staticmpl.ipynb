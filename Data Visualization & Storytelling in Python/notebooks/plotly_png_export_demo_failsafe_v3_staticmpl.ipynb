{
 "cells": [
  {
   "cell_type": "code",
   "execution_count": 1,
   "id": "23ac92c4",
   "metadata": {},
   "outputs": [
    {
     "name": "stdout",
     "output_type": "stream",
     "text": [
      "\r\n",
      "\u001b[1m[\u001b[0m\u001b[34;49mnotice\u001b[0m\u001b[1;39;49m]\u001b[0m\u001b[39;49m A new release of pip is available: \u001b[0m\u001b[31;49m24.0\u001b[0m\u001b[39;49m -> \u001b[0m\u001b[32;49m25.2\u001b[0m\r\n",
      "\u001b[1m[\u001b[0m\u001b[34;49mnotice\u001b[0m\u001b[1;39;49m]\u001b[0m\u001b[39;49m To update, run: \u001b[0m\u001b[32;49mpip install --upgrade pip\u001b[0m\r\n"
     ]
    }
   ],
   "source": [
    "# Setup: install libs (safe to re-run)\n",
    "!pip -q install -U plotly kaleido matplotlib seaborn pandas\n",
    "\n",
    "import plotly.express as px\n",
    "import plotly.io as pio\n",
    "import pandas as pd\n",
    "import matplotlib.pyplot as plt\n",
    "import seaborn as sns\n",
    "\n",
    "def save_plotly_png_failsafe(fig, filename):\n",
    "    \"\"\"Try to save Plotly figure to PNG.\n",
    "    1) fig.write_image(..., engine='kaleido')\n",
    "    2) fig.to_image(format='png')\n",
    "    3) fallback to HTML\n",
    "    Returns the saved filename (png or html).\n",
    "    \"\"\"\n",
    "    # Attempt 1\n",
    "    try:\n",
    "        fig.write_image(filename, engine=\"kaleido\")\n",
    "        print(f\"✅ PNG exported (kaleido): {filename}\")\n",
    "        return filename\n",
    "    except Exception as e1:\n",
    "        print(\"\\n⚠️ kaleido failed:\\n\", e1, \"\\n\")\n",
    "    # Attempt 2\n",
    "    try:\n",
    "        png_bytes = fig.to_image(format=\"png\")\n",
    "        with open(filename, \"wb\") as f:\n",
    "            f.write(png_bytes)\n",
    "        print(f\"✅ PNG exported (to_image): {filename}\")\n",
    "        return filename\n",
    "    except Exception as e2:\n",
    "        print(\"\\n⚠️ to_image failed:\\n\", e2, \"\\n\")\n",
    "    # Attempt 3: HTML\n",
    "    html_name = filename.replace(\".png\", \".html\")\n",
    "    pio.write_html(fig, html_name, include_plotlyjs=\"cdn\", full_html=True)\n",
    "    print(f\"💾 Saved HTML fallback: {html_name}\")\n",
    "    return html_name\n",
    "\n",
    "def ensure_static_fallback_from_dataframe(kind, df, outfile_png):\n",
    "    \"\"\"When Plotly PNG cannot be produced (e.g., environment lacks Chrome),\n",
    "    create a static PNG via matplotlib/seaborn that approximates the Plotly figure.\n",
    "    kind: 'scatter', 'heatmap', 'scatter_matrix'\n",
    "    \"\"\"\n",
    "    try:\n",
    "        if kind == 'scatter':\n",
    "            plt.figure(figsize=(7,5))\n",
    "            sns.scatterplot(data=df, x=\"GDP per capita\", y=\"Score\", hue=\"Country or region\", s=40, linewidth=0)\n",
    "            plt.title(\"Happiness Score vs GDP per Capita (static)\")\n",
    "            plt.tight_layout()\n",
    "            plt.savefig(outfile_png, dpi=150, bbox_inches='tight')\n",
    "            plt.close()\n",
    "        elif kind == 'heatmap':\n",
    "            plt.figure(figsize=(6,5))\n",
    "            corr = df.select_dtypes('number').corr()\n",
    "            sns.heatmap(corr, annot=True, fmt=\".2f\", cmap=\"viridis\")\n",
    "            plt.title(\"Correlation heatmap (static)\")\n",
    "            plt.tight_layout()\n",
    "            plt.savefig(outfile_png, dpi=150, bbox_inches='tight')\n",
    "            plt.close()\n",
    "        elif kind == 'scatter_matrix':\n",
    "            # Use seaborn pairplot\n",
    "            g = sns.pairplot(df[[\"GDP per capita\",\"Score\",\"Overall rank\"]], corner=False, diag_kind=\"hist\")\n",
    "            g.fig.suptitle(\"Scatter Matrix (static)\", y=1.02)\n",
    "            g.savefig(outfile_png, dpi=150, bbox_inches='tight')\n",
    "            plt.close('all')\n",
    "        print(f\"🖼️ Static PNG fallback created: {outfile_png}\")\n",
    "        return outfile_png\n",
    "    except Exception as ee:\n",
    "        print(\"❌ Failed to create static fallback:\", ee)\n",
    "        return None\n"
   ]
  },
  {
   "cell_type": "markdown",
   "id": "3d8e925f",
   "metadata": {},
   "source": [
    "## Build demo dataframe (`happy_df`) from `gapminder` (2007)"
   ]
  },
  {
   "cell_type": "code",
   "execution_count": 2,
   "id": "49b77238",
   "metadata": {},
   "outputs": [
    {
     "data": {
      "text/html": [
       "<div>\n",
       "<style scoped>\n",
       "    .dataframe tbody tr th:only-of-type {\n",
       "        vertical-align: middle;\n",
       "    }\n",
       "\n",
       "    .dataframe tbody tr th {\n",
       "        vertical-align: top;\n",
       "    }\n",
       "\n",
       "    .dataframe thead th {\n",
       "        text-align: right;\n",
       "    }\n",
       "</style>\n",
       "<table border=\"1\" class=\"dataframe\">\n",
       "  <thead>\n",
       "    <tr style=\"text-align: right;\">\n",
       "      <th></th>\n",
       "      <th>Country or region</th>\n",
       "      <th>GDP per capita</th>\n",
       "      <th>Score</th>\n",
       "      <th>Overall rank</th>\n",
       "    </tr>\n",
       "  </thead>\n",
       "  <tbody>\n",
       "    <tr>\n",
       "      <th>11</th>\n",
       "      <td>Afghanistan</td>\n",
       "      <td>974.580338</td>\n",
       "      <td>43.828</td>\n",
       "      <td>36</td>\n",
       "    </tr>\n",
       "    <tr>\n",
       "      <th>23</th>\n",
       "      <td>Albania</td>\n",
       "      <td>5937.029526</td>\n",
       "      <td>76.423</td>\n",
       "      <td>116</td>\n",
       "    </tr>\n",
       "    <tr>\n",
       "      <th>35</th>\n",
       "      <td>Algeria</td>\n",
       "      <td>6223.367465</td>\n",
       "      <td>72.301</td>\n",
       "      <td>35</td>\n",
       "    </tr>\n",
       "    <tr>\n",
       "      <th>47</th>\n",
       "      <td>Angola</td>\n",
       "      <td>4797.231267</td>\n",
       "      <td>42.731</td>\n",
       "      <td>64</td>\n",
       "    </tr>\n",
       "    <tr>\n",
       "      <th>59</th>\n",
       "      <td>Argentina</td>\n",
       "      <td>12779.379640</td>\n",
       "      <td>75.320</td>\n",
       "      <td>29</td>\n",
       "    </tr>\n",
       "  </tbody>\n",
       "</table>\n",
       "</div>"
      ],
      "text/plain": [
       "   Country or region  GDP per capita   Score  Overall rank\n",
       "11       Afghanistan      974.580338  43.828            36\n",
       "23           Albania     5937.029526  76.423           116\n",
       "35           Algeria     6223.367465  72.301            35\n",
       "47            Angola     4797.231267  42.731            64\n",
       "59         Argentina    12779.379640  75.320            29"
      ]
     },
     "execution_count": 2,
     "metadata": {},
     "output_type": "execute_result"
    }
   ],
   "source": [
    "gm = px.data.gapminder().query(\"year == 2007\").copy()\n",
    "happy_df = pd.DataFrame({\n",
    "    \"Country or region\": gm[\"country\"],\n",
    "    \"GDP per capita\": gm[\"gdpPercap\"],\n",
    "    \"Score\": gm[\"lifeExp\"],  # proxy for score\n",
    "    \"Overall rank\": gm[\"pop\"].rank(ascending=False).astype(int)\n",
    "})\n",
    "happy_df.head()\n"
   ]
  },
  {
   "cell_type": "markdown",
   "id": "d977c79d",
   "metadata": {},
   "source": [
    "## Scatter: Happiness Score vs GDP per Capita"
   ]
  },
  {
   "cell_type": "code",
   "execution_count": 3,
   "id": "e997fd6f",
   "metadata": {},
   "outputs": [
    {
     "data": {
      "application/vnd.plotly.v1+json": {
       "config": {
        "plotlyServerURL": "https://plot.ly"
       },
       "data": [
        {
         "hovertemplate": "<b>%{hovertext}</b><br><br>Country or region=Afghanistan<br>GDP per capita=%{x}<br>Score=%{y}<br>Overall rank=%{marker.size}<extra></extra>",
         "hovertext": [
          "Afghanistan"
         ],
         "legendgroup": "Afghanistan",
         "marker": {
          "color": "#636efa",
          "size": {
           "bdata": "JA==",
           "dtype": "i1"
          },
          "sizemode": "area",
          "sizeref": 0.355,
          "symbol": "circle"
         },
         "mode": "markers",
         "name": "Afghanistan",
         "orientation": "v",
         "showlegend": true,
         "type": "scatter",
         "x": {
          "bdata": "54R1iKR0jkA=",
          "dtype": "f8"
         },
         "xaxis": "x",
         "y": {
          "bdata": "RIts5/vpRUA=",
          "dtype": "f8"
         },
         "yaxis": "y"
        },
        {
         "hovertemplate": "<b>%{hovertext}</b><br><br>Country or region=Albania<br>GDP per capita=%{x}<br>Score=%{y}<br>Overall rank=%{marker.size}<extra></extra>",
         "hovertext": [
          "Albania"
         ],
         "legendgroup": "Albania",
         "marker": {
          "color": "#EF553B",
          "size": {
           "bdata": "dA==",
           "dtype": "i1"
          },
          "sizemode": "area",
          "sizeref": 0.355,
          "symbol": "circle"
         },
         "mode": "markers",
         "name": "Albania",
         "orientation": "v",
         "showlegend": true,
         "type": "scatter",
         "x": {
          "bdata": "YBQEjwcxt0A=",
          "dtype": "f8"
         },
         "xaxis": "x",
         "y": {
          "bdata": "UI2XbhIbU0A=",
          "dtype": "f8"
         },
         "yaxis": "y"
        },
        {
         "hovertemplate": "<b>%{hovertext}</b><br><br>Country or region=Algeria<br>GDP per capita=%{x}<br>Score=%{y}<br>Overall rank=%{marker.size}<extra></extra>",
         "hovertext": [
          "Algeria"
         ],
         "legendgroup": "Algeria",
         "marker": {
          "color": "#00cc96",
          "size": {
           "bdata": "Iw==",
           "dtype": "i1"
          },
          "sizemode": "area",
          "sizeref": 0.355,
          "symbol": "circle"
         },
         "mode": "markers",
         "name": "Algeria",
         "orientation": "v",
         "showlegend": true,
         "type": "scatter",
         "x": {
          "bdata": "ba0vEl5PuEA=",
          "dtype": "f8"
         },
         "xaxis": "x",
         "y": {
          "bdata": "JQaBlUMTUkA=",
          "dtype": "f8"
         },
         "yaxis": "y"
        },
        {
         "hovertemplate": "<b>%{hovertext}</b><br><br>Country or region=Angola<br>GDP per capita=%{x}<br>Score=%{y}<br>Overall rank=%{marker.size}<extra></extra>",
         "hovertext": [
          "Angola"
         ],
         "legendgroup": "Angola",
         "marker": {
          "color": "#ab63fa",
          "size": {
           "bdata": "QA==",
           "dtype": "i1"
          },
          "sizemode": "area",
          "sizeref": 0.355,
          "symbol": "circle"
         },
         "mode": "markers",
         "name": "Angola",
         "orientation": "v",
         "showlegend": true,
         "type": "scatter",
         "x": {
          "bdata": "pWlQNDu9skA=",
          "dtype": "f8"
         },
         "xaxis": "x",
         "y": {
          "bdata": "IbByaJFdRUA=",
          "dtype": "f8"
         },
         "yaxis": "y"
        },
        {
         "hovertemplate": "<b>%{hovertext}</b><br><br>Country or region=Argentina<br>GDP per capita=%{x}<br>Score=%{y}<br>Overall rank=%{marker.size}<extra></extra>",
         "hovertext": [
          "Argentina"
         ],
         "legendgroup": "Argentina",
         "marker": {
          "color": "#FFA15A",
          "size": {
           "bdata": "HQ==",
           "dtype": "i1"
          },
          "sizemode": "area",
          "sizeref": 0.355,
          "symbol": "circle"
         },
         "mode": "markers",
         "name": "Argentina",
         "orientation": "v",
         "showlegend": true,
         "type": "scatter",
         "x": {
          "bdata": "ICQLmLD1yEA=",
          "dtype": "f8"
         },
         "xaxis": "x",
         "y": {
          "bdata": "FK5H4XrUUkA=",
          "dtype": "f8"
         },
         "yaxis": "y"
        },
        {
         "hovertemplate": "<b>%{hovertext}</b><br><br>Country or region=Australia<br>GDP per capita=%{x}<br>Score=%{y}<br>Overall rank=%{marker.size}<extra></extra>",
         "hovertext": [
          "Australia"
         ],
         "legendgroup": "Australia",
         "marker": {
          "color": "#19d3f3",
          "size": {
           "bdata": "MQ==",
           "dtype": "i1"
          },
          "sizemode": "area",
          "sizeref": 0.355,
          "symbol": "circle"
         },
         "mode": "markers",
         "name": "Australia",
         "orientation": "v",
         "showlegend": true,
         "type": "scatter",
         "x": {
          "bdata": "54cRwmvQ4EA=",
          "dtype": "f8"
         },
         "xaxis": "x",
         "y": {
          "bdata": "16NwPQpPVEA=",
          "dtype": "f8"
         },
         "yaxis": "y"
        },
        {
         "hovertemplate": "<b>%{hovertext}</b><br><br>Country or region=Austria<br>GDP per capita=%{x}<br>Score=%{y}<br>Overall rank=%{marker.size}<extra></extra>",
         "hovertext": [
          "Austria"
         ],
         "legendgroup": "Austria",
         "marker": {
          "color": "#FF6692",
          "size": {
           "bdata": "Vg==",
           "dtype": "i1"
          },
          "sizemode": "area",
          "sizeref": 0.355,
          "symbol": "circle"
         },
         "mode": "markers",
         "name": "Austria",
         "orientation": "v",
         "showlegend": true,
         "type": "scatter",
         "x": {
          "bdata": "WMoyxM+j4UA=",
          "dtype": "f8"
         },
         "xaxis": "x",
         "y": {
          "bdata": "kxgEVg71U0A=",
          "dtype": "f8"
         },
         "yaxis": "y"
        },
        {
         "hovertemplate": "<b>%{hovertext}</b><br><br>Country or region=Bahrain<br>GDP per capita=%{x}<br>Score=%{y}<br>Overall rank=%{marker.size}<extra></extra>",
         "hovertext": [
          "Bahrain"
         ],
         "legendgroup": "Bahrain",
         "marker": {
          "color": "#B6E880",
          "size": {
           "bdata": "iQA=",
           "dtype": "i2"
          },
          "sizemode": "area",
          "sizeref": 0.355,
          "symbol": "circle"
         },
         "mode": "markers",
         "name": "Bahrain",
         "orientation": "v",
         "showlegend": true,
         "type": "scatter",
         "x": {
          "bdata": "xqcAGAMZ3UA=",
          "dtype": "f8"
         },
         "xaxis": "x",
         "y": {
          "bdata": "cT0K16PoUkA=",
          "dtype": "f8"
         },
         "yaxis": "y"
        },
        {
         "hovertemplate": "<b>%{hovertext}</b><br><br>Country or region=Bangladesh<br>GDP per capita=%{x}<br>Score=%{y}<br>Overall rank=%{marker.size}<extra></extra>",
         "hovertext": [
          "Bangladesh"
         ],
         "legendgroup": "Bangladesh",
         "marker": {
          "color": "#FF97FF",
          "size": {
           "bdata": "Bw==",
           "dtype": "i1"
          },
          "sizemode": "area",
          "sizeref": 0.355,
          "symbol": "circle"
         },
         "mode": "markers",
         "name": "Bangladesh",
         "orientation": "v",
         "showlegend": true,
         "type": "scatter",
         "x": {
          "bdata": "8s8M4gO9lUA=",
          "dtype": "f8"
         },
         "xaxis": "x",
         "y": {
          "bdata": "hxbZzvcDUEA=",
          "dtype": "f8"
         },
         "yaxis": "y"
        },
        {
         "hovertemplate": "<b>%{hovertext}</b><br><br>Country or region=Belgium<br>GDP per capita=%{x}<br>Score=%{y}<br>Overall rank=%{marker.size}<extra></extra>",
         "hovertext": [
          "Belgium"
         ],
         "legendgroup": "Belgium",
         "marker": {
          "color": "#FECB52",
          "size": {
           "bdata": "SA==",
           "dtype": "i1"
          },
          "sizemode": "area",
          "sizeref": 0.355,
          "symbol": "circle"
         },
         "mode": "markers",
         "name": "Belgium",
         "orientation": "v",
         "showlegend": true,
         "type": "scatter",
         "x": {
          "bdata": "b7vQXJNz4EA=",
          "dtype": "f8"
         },
         "xaxis": "x",
         "y": {
          "bdata": "TmIQWDncU0A=",
          "dtype": "f8"
         },
         "yaxis": "y"
        },
        {
         "hovertemplate": "<b>%{hovertext}</b><br><br>Country or region=Benin<br>GDP per capita=%{x}<br>Score=%{y}<br>Overall rank=%{marker.size}<extra></extra>",
         "hovertext": [
          "Benin"
         ],
         "legendgroup": "Benin",
         "marker": {
          "color": "#636efa",
          "size": {
           "bdata": "Vw==",
           "dtype": "i1"
          },
          "sizemode": "area",
          "sizeref": 0.355,
          "symbol": "circle"
         },
         "mode": "markers",
         "name": "Benin",
         "orientation": "v",
         "showlegend": true,
         "type": "scatter",
         "x": {
          "bdata": "Dmq/tSOFlkA=",
          "dtype": "f8"
         },
         "xaxis": "x",
         "y": {
          "bdata": "d76fGi9dTEA=",
          "dtype": "f8"
         },
         "yaxis": "y"
        },
        {
         "hovertemplate": "<b>%{hovertext}</b><br><br>Country or region=Bolivia<br>GDP per capita=%{x}<br>Score=%{y}<br>Overall rank=%{marker.size}<extra></extra>",
         "hovertext": [
          "Bolivia"
         ],
         "legendgroup": "Bolivia",
         "marker": {
          "color": "#EF553B",
          "size": {
           "bdata": "UA==",
           "dtype": "i1"
          },
          "sizemode": "area",
          "sizeref": 0.355,
          "symbol": "circle"
         },
         "mode": "markers",
         "name": "Bolivia",
         "orientation": "v",
         "showlegend": true,
         "type": "scatter",
         "x": {
          "bdata": "nMHfL0bcrUA=",
          "dtype": "f8"
         },
         "xaxis": "x",
         "y": {
          "bdata": "+n5qvHRjUEA=",
          "dtype": "f8"
         },
         "yaxis": "y"
        },
        {
         "hovertemplate": "<b>%{hovertext}</b><br><br>Country or region=Bosnia and Herzegovina<br>GDP per capita=%{x}<br>Score=%{y}<br>Overall rank=%{marker.size}<extra></extra>",
         "hovertext": [
          "Bosnia and Herzegovina"
         ],
         "legendgroup": "Bosnia and Herzegovina",
         "marker": {
          "color": "#00cc96",
          "size": {
           "bdata": "ag==",
           "dtype": "i1"
          },
          "sizemode": "area",
          "sizeref": 0.355,
          "symbol": "circle"
         },
         "mode": "markers",
         "name": "Bosnia and Herzegovina",
         "orientation": "v",
         "showlegend": true,
         "type": "scatter",
         "x": {
          "bdata": "8nhafkwWvUA=",
          "dtype": "f8"
         },
         "xaxis": "x",
         "y": {
          "bdata": "SgwCK4e2UkA=",
          "dtype": "f8"
         },
         "yaxis": "y"
        },
        {
         "hovertemplate": "<b>%{hovertext}</b><br><br>Country or region=Botswana<br>GDP per capita=%{x}<br>Score=%{y}<br>Overall rank=%{marker.size}<extra></extra>",
         "hovertext": [
          "Botswana"
         ],
         "legendgroup": "Botswana",
         "marker": {
          "color": "#ab63fa",
          "size": {
           "bdata": "gQA=",
           "dtype": "i2"
          },
          "sizemode": "area",
          "sizeref": 0.355,
          "symbol": "circle"
         },
         "mode": "markers",
         "name": "Botswana",
         "orientation": "v",
         "showlegend": true,
         "type": "scatter",
         "x": {
          "bdata": "26LMBu2MyEA=",
          "dtype": "f8"
         },
         "xaxis": "x",
         "y": {
          "bdata": "d76fGi9dSUA=",
          "dtype": "f8"
         },
         "yaxis": "y"
        },
        {
         "hovertemplate": "<b>%{hovertext}</b><br><br>Country or region=Brazil<br>GDP per capita=%{x}<br>Score=%{y}<br>Overall rank=%{marker.size}<extra></extra>",
         "hovertext": [
          "Brazil"
         ],
         "legendgroup": "Brazil",
         "marker": {
          "color": "#FFA15A",
          "size": {
           "bdata": "BQ==",
           "dtype": "i1"
          },
          "sizemode": "area",
          "sizeref": 0.355,
          "symbol": "circle"
         },
         "mode": "markers",
         "name": "Brazil",
         "orientation": "v",
         "showlegend": true,
         "type": "scatter",
         "x": {
          "bdata": "aQBvgea0wUA=",
          "dtype": "f8"
         },
         "xaxis": "x",
         "y": {
          "bdata": "KVyPwvUYUkA=",
          "dtype": "f8"
         },
         "yaxis": "y"
        },
        {
         "hovertemplate": "<b>%{hovertext}</b><br><br>Country or region=Bulgaria<br>GDP per capita=%{x}<br>Score=%{y}<br>Overall rank=%{marker.size}<extra></extra>",
         "hovertext": [
          "Bulgaria"
         ],
         "legendgroup": "Bulgaria",
         "marker": {
          "color": "#19d3f3",
          "size": {
           "bdata": "Wg==",
           "dtype": "i1"
          },
          "sizemode": "area",
          "sizeref": 0.355,
          "symbol": "circle"
         },
         "mode": "markers",
         "name": "Bulgaria",
         "orientation": "v",
         "showlegend": true,
         "type": "scatter",
         "x": {
          "bdata": "zzEge2XcxEA=",
          "dtype": "f8"
         },
         "xaxis": "x",
         "y": {
          "bdata": "uB6F61FAUkA=",
          "dtype": "f8"
         },
         "yaxis": "y"
        },
        {
         "hovertemplate": "<b>%{hovertext}</b><br><br>Country or region=Burkina Faso<br>GDP per capita=%{x}<br>Score=%{y}<br>Overall rank=%{marker.size}<extra></extra>",
         "hovertext": [
          "Burkina Faso"
         ],
         "legendgroup": "Burkina Faso",
         "marker": {
          "color": "#FF6692",
          "size": {
           "bdata": "Og==",
           "dtype": "i1"
          },
          "sizemode": "area",
          "sizeref": 0.355,
          "symbol": "circle"
         },
         "mode": "markers",
         "name": "Burkina Faso",
         "orientation": "v",
         "showlegend": true,
         "type": "scatter",
         "x": {
          "bdata": "29stySEEk0A=",
          "dtype": "f8"
         },
         "xaxis": "x",
         "y": {
          "bdata": "9ihcj8IlSkA=",
          "dtype": "f8"
         },
         "yaxis": "y"
        },
        {
         "hovertemplate": "<b>%{hovertext}</b><br><br>Country or region=Burundi<br>GDP per capita=%{x}<br>Score=%{y}<br>Overall rank=%{marker.size}<extra></extra>",
         "hovertext": [
          "Burundi"
         ],
         "legendgroup": "Burundi",
         "marker": {
          "color": "#B6E880",
          "size": {
           "bdata": "VQ==",
           "dtype": "i1"
          },
          "sizemode": "area",
          "sizeref": 0.355,
          "symbol": "circle"
         },
         "mode": "markers",
         "name": "Burundi",
         "orientation": "v",
         "showlegend": true,
         "type": "scatter",
         "x": {
          "bdata": "oeGDjSHhekA=",
          "dtype": "f8"
         },
         "xaxis": "x",
         "y": {
          "bdata": "CtejcD3KSEA=",
          "dtype": "f8"
         },
         "yaxis": "y"
        },
        {
         "hovertemplate": "<b>%{hovertext}</b><br><br>Country or region=Cambodia<br>GDP per capita=%{x}<br>Score=%{y}<br>Overall rank=%{marker.size}<extra></extra>",
         "hovertext": [
          "Cambodia"
         ],
         "legendgroup": "Cambodia",
         "marker": {
          "color": "#FF97FF",
          "size": {
           "bdata": "Ow==",
           "dtype": "i1"
          },
          "sizemode": "area",
          "sizeref": 0.355,
          "symbol": "circle"
         },
         "mode": "markers",
         "name": "Cambodia",
         "orientation": "v",
         "showlegend": true,
         "type": "scatter",
         "x": {
          "bdata": "at/cXx3HmkA=",
          "dtype": "f8"
         },
         "xaxis": "x",
         "y": {
          "bdata": "BoGVQ4vcTUA=",
          "dtype": "f8"
         },
         "yaxis": "y"
        },
        {
         "hovertemplate": "<b>%{hovertext}</b><br><br>Country or region=Cameroon<br>GDP per capita=%{x}<br>Score=%{y}<br>Overall rank=%{marker.size}<extra></extra>",
         "hovertext": [
          "Cameroon"
         ],
         "legendgroup": "Cameroon",
         "marker": {
          "color": "#FECB52",
          "size": {
           "bdata": "Nw==",
           "dtype": "i1"
          },
          "sizemode": "area",
          "sizeref": 0.355,
          "symbol": "circle"
         },
         "mode": "markers",
         "name": "Cameroon",
         "orientation": "v",
         "showlegend": true,
         "type": "scatter",
         "x": {
          "bdata": "FjWYhmHon0A=",
          "dtype": "f8"
         },
         "xaxis": "x",
         "y": {
          "bdata": "16NwPQo3SUA=",
          "dtype": "f8"
         },
         "yaxis": "y"
        },
        {
         "hovertemplate": "<b>%{hovertext}</b><br><br>Country or region=Canada<br>GDP per capita=%{x}<br>Score=%{y}<br>Overall rank=%{marker.size}<extra></extra>",
         "hovertext": [
          "Canada"
         ],
         "legendgroup": "Canada",
         "marker": {
          "color": "#636efa",
          "size": {
           "bdata": "Ig==",
           "dtype": "i1"
          },
          "sizemode": "area",
          "sizeref": 0.355,
          "symbol": "circle"
         },
         "mode": "markers",
         "name": "Canada",
         "orientation": "v",
         "showlegend": true,
         "type": "scatter",
         "x": {
          "bdata": "B7Ezhee74UA=",
          "dtype": "f8"
         },
         "xaxis": "x",
         "y": {
          "bdata": "bxKDwMopVEA=",
          "dtype": "f8"
         },
         "yaxis": "y"
        },
        {
         "hovertemplate": "<b>%{hovertext}</b><br><br>Country or region=Central African Republic<br>GDP per capita=%{x}<br>Score=%{y}<br>Overall rank=%{marker.size}<extra></extra>",
         "hovertext": [
          "Central African Republic"
         ],
         "legendgroup": "Central African Republic",
         "marker": {
          "color": "#EF553B",
          "size": {
           "bdata": "bA==",
           "dtype": "i1"
          },
          "sizemode": "area",
          "sizeref": 0.355,
          "symbol": "circle"
         },
         "mode": "markers",
         "name": "Central African Republic",
         "orientation": "v",
         "showlegend": true,
         "type": "scatter",
         "x": {
          "bdata": "ZJEm3iEQhkA=",
          "dtype": "f8"
         },
         "xaxis": "x",
         "y": {
          "bdata": "AyuHFtleRkA=",
          "dtype": "f8"
         },
         "yaxis": "y"
        },
        {
         "hovertemplate": "<b>%{hovertext}</b><br><br>Country or region=Chad<br>GDP per capita=%{x}<br>Score=%{y}<br>Overall rank=%{marker.size}<extra></extra>",
         "hovertext": [
          "Chad"
         ],
         "legendgroup": "Chad",
         "marker": {
          "color": "#00cc96",
          "size": {
           "bdata": "Sg==",
           "dtype": "i1"
          },
          "sizemode": "area",
          "sizeref": 0.355,
          "symbol": "circle"
         },
         "mode": "markers",
         "name": "Chad",
         "orientation": "v",
         "showlegend": true,
         "type": "scatter",
         "x": {
          "bdata": "4j/dQEGgmkA=",
          "dtype": "f8"
         },
         "xaxis": "x",
         "y": {
          "bdata": "F9nO91NTSUA=",
          "dtype": "f8"
         },
         "yaxis": "y"
        },
        {
         "hovertemplate": "<b>%{hovertext}</b><br><br>Country or region=Chile<br>GDP per capita=%{x}<br>Score=%{y}<br>Overall rank=%{marker.size}<extra></extra>",
         "hovertext": [
          "Chile"
         ],
         "legendgroup": "Chile",
         "marker": {
          "color": "#ab63fa",
          "size": {
           "bdata": "OQ==",
           "dtype": "i1"
          },
          "sizemode": "area",
          "sizeref": 0.355,
          "symbol": "circle"
         },
         "mode": "markers",
         "name": "Chile",
         "orientation": "v",
         "showlegend": true,
         "type": "scatter",
         "x": {
          "bdata": "hjjWxdG5yUA=",
          "dtype": "f8"
         },
         "xaxis": "x",
         "y": {
          "bdata": "CKwcWmSjU0A=",
          "dtype": "f8"
         },
         "yaxis": "y"
        },
        {
         "hovertemplate": "<b>%{hovertext}</b><br><br>Country or region=China<br>GDP per capita=%{x}<br>Score=%{y}<br>Overall rank=%{marker.size}<extra></extra>",
         "hovertext": [
          "China"
         ],
         "legendgroup": "China",
         "marker": {
          "color": "#FFA15A",
          "size": {
           "bdata": "AQ==",
           "dtype": "i1"
          },
          "sizemode": "area",
          "sizeref": 0.355,
          "symbol": "circle"
         },
         "mode": "markers",
         "name": "China",
         "orientation": "v",
         "showlegend": true,
         "type": "scatter",
         "x": {
          "bdata": "0V0SZx1fs0A=",
          "dtype": "f8"
         },
         "xaxis": "x",
         "y": {
          "bdata": "L90kBoE9UkA=",
          "dtype": "f8"
         },
         "yaxis": "y"
        },
        {
         "hovertemplate": "<b>%{hovertext}</b><br><br>Country or region=Colombia<br>GDP per capita=%{x}<br>Score=%{y}<br>Overall rank=%{marker.size}<extra></extra>",
         "hovertext": [
          "Colombia"
         ],
         "legendgroup": "Colombia",
         "marker": {
          "color": "#19d3f3",
          "size": {
           "bdata": "GQ==",
           "dtype": "i1"
          },
          "sizemode": "area",
          "sizeref": 0.355,
          "symbol": "circle"
         },
         "mode": "markers",
         "name": "Colombia",
         "orientation": "v",
         "showlegend": true,
         "type": "scatter",
         "x": {
          "bdata": "+u5WlpReu0A=",
          "dtype": "f8"
         },
         "xaxis": "x",
         "y": {
          "bdata": "N4lBYOU4UkA=",
          "dtype": "f8"
         },
         "yaxis": "y"
        },
        {
         "hovertemplate": "<b>%{hovertext}</b><br><br>Country or region=Comoros<br>GDP per capita=%{x}<br>Score=%{y}<br>Overall rank=%{marker.size}<extra></extra>",
         "hovertext": [
          "Comoros"
         ],
         "legendgroup": "Comoros",
         "marker": {
          "color": "#FF6692",
          "size": {
           "bdata": "iAA=",
           "dtype": "i2"
          },
          "sizemode": "area",
          "sizeref": 0.355,
          "symbol": "circle"
         },
         "mode": "markers",
         "name": "Comoros",
         "orientation": "v",
         "showlegend": true,
         "type": "scatter",
         "x": {
          "bdata": "Ej5K2y7RjkA=",
          "dtype": "f8"
         },
         "xaxis": "x",
         "y": {
          "bdata": "fT81XrpJUEA=",
          "dtype": "f8"
         },
         "yaxis": "y"
        },
        {
         "hovertemplate": "<b>%{hovertext}</b><br><br>Country or region=Congo, Dem. Rep.<br>GDP per capita=%{x}<br>Score=%{y}<br>Overall rank=%{marker.size}<extra></extra>",
         "hovertext": [
          "Congo, Dem. Rep."
         ],
         "legendgroup": "Congo, Dem. Rep.",
         "marker": {
          "color": "#B6E880",
          "size": {
           "bdata": "Ew==",
           "dtype": "i1"
          },
          "sizemode": "area",
          "sizeref": 0.355,
          "symbol": "circle"
         },
         "mode": "markers",
         "name": "Congo, Dem. Rep.",
         "orientation": "v",
         "showlegend": true,
         "type": "scatter",
         "x": {
          "bdata": "NsjJadRYcUA=",
          "dtype": "f8"
         },
         "xaxis": "x",
         "y": {
          "bdata": "QmDl0CI7R0A=",
          "dtype": "f8"
         },
         "yaxis": "y"
        },
        {
         "hovertemplate": "<b>%{hovertext}</b><br><br>Country or region=Congo, Rep.<br>GDP per capita=%{x}<br>Score=%{y}<br>Overall rank=%{marker.size}<extra></extra>",
         "hovertext": [
          "Congo, Rep."
         ],
         "legendgroup": "Congo, Rep.",
         "marker": {
          "color": "#FF97FF",
          "size": {
           "bdata": "cw==",
           "dtype": "i1"
          },
          "sizemode": "area",
          "sizeref": 0.355,
          "symbol": "circle"
         },
         "mode": "markers",
         "name": "Congo, Rep.",
         "orientation": "v",
         "showlegend": true,
         "type": "scatter",
         "x": {
          "bdata": "jA+zlx1hrEA=",
          "dtype": "f8"
         },
         "xaxis": "x",
         "y": {
          "bdata": "8KfGSzepS0A=",
          "dtype": "f8"
         },
         "yaxis": "y"
        },
        {
         "hovertemplate": "<b>%{hovertext}</b><br><br>Country or region=Costa Rica<br>GDP per capita=%{x}<br>Score=%{y}<br>Overall rank=%{marker.size}<extra></extra>",
         "hovertext": [
          "Costa Rica"
         ],
         "legendgroup": "Costa Rica",
         "marker": {
          "color": "#FECB52",
          "size": {
           "bdata": "bQ==",
           "dtype": "i1"
          },
          "sizemode": "area",
          "sizeref": 0.355,
          "symbol": "circle"
         },
         "mode": "markers",
         "name": "Costa Rica",
         "orientation": "v",
         "showlegend": true,
         "type": "scatter",
         "x": {
          "bdata": "qU2c3IfWwkA=",
          "dtype": "f8"
         },
         "xaxis": "x",
         "y": {
          "bdata": "NV66SQyyU0A=",
          "dtype": "f8"
         },
         "yaxis": "y"
        },
        {
         "hovertemplate": "<b>%{hovertext}</b><br><br>Country or region=Cote d'Ivoire<br>GDP per capita=%{x}<br>Score=%{y}<br>Overall rank=%{marker.size}<extra></extra>",
         "hovertext": [
          "Cote d'Ivoire"
         ],
         "legendgroup": "Cote d'Ivoire",
         "marker": {
          "color": "#636efa",
          "size": {
           "bdata": "Ng==",
           "dtype": "i1"
          },
          "sizemode": "area",
          "sizeref": 0.355,
          "symbol": "circle"
         },
         "mode": "markers",
         "name": "Cote d'Ivoire",
         "orientation": "v",
         "showlegend": true,
         "type": "scatter",
         "x": {
          "bdata": "WTFcHQAjmEA=",
          "dtype": "f8"
         },
         "xaxis": "x",
         "y": {
          "bdata": "RIts5/spSEA=",
          "dtype": "f8"
         },
         "yaxis": "y"
        },
        {
         "hovertemplate": "<b>%{hovertext}</b><br><br>Country or region=Croatia<br>GDP per capita=%{x}<br>Score=%{y}<br>Overall rank=%{marker.size}<extra></extra>",
         "hovertext": [
          "Croatia"
         ],
         "legendgroup": "Croatia",
         "marker": {
          "color": "#EF553B",
          "size": {
           "bdata": "aw==",
           "dtype": "i1"
          },
          "sizemode": "area",
          "sizeref": 0.355,
          "symbol": "circle"
         },
         "mode": "markers",
         "name": "Croatia",
         "orientation": "v",
         "showlegend": true,
         "type": "scatter",
         "x": {
          "bdata": "FMYWgpyNzEA=",
          "dtype": "f8"
         },
         "xaxis": "x",
         "y": {
          "bdata": "HVpkO9/vUkA=",
          "dtype": "f8"
         },
         "yaxis": "y"
        },
        {
         "hovertemplate": "<b>%{hovertext}</b><br><br>Country or region=Cuba<br>GDP per capita=%{x}<br>Score=%{y}<br>Overall rank=%{marker.size}<extra></extra>",
         "hovertext": [
          "Cuba"
         ],
         "legendgroup": "Cuba",
         "marker": {
          "color": "#00cc96",
          "size": {
           "bdata": "RQ==",
           "dtype": "i1"
          },
          "sizemode": "area",
          "sizeref": 0.355,
          "symbol": "circle"
         },
         "mode": "markers",
         "name": "Cuba",
         "orientation": "v",
         "showlegend": true,
         "type": "scatter",
         "x": {
          "bdata": "gbOULA16wUA=",
          "dtype": "f8"
         },
         "xaxis": "x",
         "y": {
          "bdata": "tvP91HiRU0A=",
          "dtype": "f8"
         },
         "yaxis": "y"
        },
        {
         "hovertemplate": "<b>%{hovertext}</b><br><br>Country or region=Czech Republic<br>GDP per capita=%{x}<br>Score=%{y}<br>Overall rank=%{marker.size}<extra></extra>",
         "hovertext": [
          "Czech Republic"
         ],
         "legendgroup": "Czech Republic",
         "marker": {
          "color": "#ab63fa",
          "size": {
           "bdata": "Sw==",
           "dtype": "i1"
          },
          "sizemode": "area",
          "sizeref": 0.355,
          "symbol": "circle"
         },
         "mode": "markers",
         "name": "Czech Republic",
         "orientation": "v",
         "showlegend": true,
         "type": "scatter",
         "x": {
          "bdata": "H7qgvlNM1kA=",
          "dtype": "f8"
         },
         "xaxis": "x",
         "y": {
          "bdata": "yXa+nxofU0A=",
          "dtype": "f8"
         },
         "yaxis": "y"
        },
        {
         "hovertemplate": "<b>%{hovertext}</b><br><br>Country or region=Denmark<br>GDP per capita=%{x}<br>Score=%{y}<br>Overall rank=%{marker.size}<extra></extra>",
         "hovertext": [
          "Denmark"
         ],
         "legendgroup": "Denmark",
         "marker": {
          "color": "#FFA15A",
          "size": {
           "bdata": "ZA==",
           "dtype": "i1"
          },
          "sizemode": "area",
          "sizeref": 0.355,
          "symbol": "circle"
         },
         "mode": "markers",
         "name": "Denmark",
         "orientation": "v",
         "showlegend": true,
         "type": "scatter",
         "x": {
          "bdata": "sW1RZs054UA=",
          "dtype": "f8"
         },
         "xaxis": "x",
         "y": {
          "bdata": "aJHtfD+VU0A=",
          "dtype": "f8"
         },
         "yaxis": "y"
        },
        {
         "hovertemplate": "<b>%{hovertext}</b><br><br>Country or region=Djibouti<br>GDP per capita=%{x}<br>Score=%{y}<br>Overall rank=%{marker.size}<extra></extra>",
         "hovertext": [
          "Djibouti"
         ],
         "legendgroup": "Djibouti",
         "marker": {
          "color": "#19d3f3",
          "size": {
           "bdata": "jAA=",
           "dtype": "i2"
          },
          "sizemode": "area",
          "sizeref": 0.355,
          "symbol": "circle"
         },
         "mode": "markers",
         "name": "Djibouti",
         "orientation": "v",
         "showlegend": true,
         "type": "scatter",
         "x": {
          "bdata": "rCfzj/ZEoEA=",
          "dtype": "f8"
         },
         "xaxis": "x",
         "y": {
          "bdata": "aJHtfD9lS0A=",
          "dtype": "f8"
         },
         "yaxis": "y"
        },
        {
         "hovertemplate": "<b>%{hovertext}</b><br><br>Country or region=Dominican Republic<br>GDP per capita=%{x}<br>Score=%{y}<br>Overall rank=%{marker.size}<extra></extra>",
         "hovertext": [
          "Dominican Republic"
         ],
         "legendgroup": "Dominican Republic",
         "marker": {
          "color": "#FF6692",
          "size": {
           "bdata": "Tw==",
           "dtype": "i1"
          },
          "sizemode": "area",
          "sizeref": 0.355,
          "symbol": "circle"
         },
         "mode": "markers",
         "name": "Dominican Republic",
         "orientation": "v",
         "showlegend": true,
         "type": "scatter",
         "x": {
          "bdata": "HkC/71+Jt0A=",
          "dtype": "f8"
         },
         "xaxis": "x",
         "y": {
          "bdata": "16NwPQoPUkA=",
          "dtype": "f8"
         },
         "yaxis": "y"
        },
        {
         "hovertemplate": "<b>%{hovertext}</b><br><br>Country or region=Ecuador<br>GDP per capita=%{x}<br>Score=%{y}<br>Overall rank=%{marker.size}<extra></extra>",
         "hovertext": [
          "Ecuador"
         ],
         "legendgroup": "Ecuador",
         "marker": {
          "color": "#B6E880",
          "size": {
           "bdata": "PA==",
           "dtype": "i1"
          },
          "sizemode": "area",
          "sizeref": 0.355,
          "symbol": "circle"
         },
         "mode": "markers",
         "name": "Ecuador",
         "orientation": "v",
         "showlegend": true,
         "type": "scatter",
         "x": {
          "bdata": "5fbLJ0PZukA=",
          "dtype": "f8"
         },
         "xaxis": "x",
         "y": {
          "bdata": "Vg4tsp2/UkA=",
          "dtype": "f8"
         },
         "yaxis": "y"
        },
        {
         "hovertemplate": "<b>%{hovertext}</b><br><br>Country or region=Egypt<br>GDP per capita=%{x}<br>Score=%{y}<br>Overall rank=%{marker.size}<extra></extra>",
         "hovertext": [
          "Egypt"
         ],
         "legendgroup": "Egypt",
         "marker": {
          "color": "#FF97FF",
          "size": {
           "bdata": "Dg==",
           "dtype": "i1"
          },
          "sizemode": "area",
          "sizeref": 0.355,
          "symbol": "circle"
         },
         "mode": "markers",
         "name": "Egypt",
         "orientation": "v",
         "showlegend": true,
         "type": "scatter",
         "x": {
          "bdata": "pIriVS7NtUA=",
          "dtype": "f8"
         },
         "xaxis": "x",
         "y": {
          "bdata": "FIPAyqHVUUA=",
          "dtype": "f8"
         },
         "yaxis": "y"
        },
        {
         "hovertemplate": "<b>%{hovertext}</b><br><br>Country or region=El Salvador<br>GDP per capita=%{x}<br>Score=%{y}<br>Overall rank=%{marker.size}<extra></extra>",
         "hovertext": [
          "El Salvador"
         ],
         "legendgroup": "El Salvador",
         "marker": {
          "color": "#FECB52",
          "size": {
           "bdata": "XA==",
           "dtype": "i1"
          },
          "sizemode": "area",
          "sizeref": 0.355,
          "symbol": "circle"
         },
         "mode": "markers",
         "name": "El Salvador",
         "orientation": "v",
         "showlegend": true,
         "type": "scatter",
         "x": {
          "bdata": "rrzkf1pgtkA=",
          "dtype": "f8"
         },
         "xaxis": "x",
         "y": {
          "bdata": "1XjpJjH4UUA=",
          "dtype": "f8"
         },
         "yaxis": "y"
        },
        {
         "hovertemplate": "<b>%{hovertext}</b><br><br>Country or region=Equatorial Guinea<br>GDP per capita=%{x}<br>Score=%{y}<br>Overall rank=%{marker.size}<extra></extra>",
         "hovertext": [
          "Equatorial Guinea"
         ],
         "legendgroup": "Equatorial Guinea",
         "marker": {
          "color": "#636efa",
          "size": {
           "bdata": "iwA=",
           "dtype": "i2"
          },
          "sizemode": "area",
          "sizeref": 0.355,
          "symbol": "circle"
         },
         "mode": "markers",
         "name": "Equatorial Guinea",
         "orientation": "v",
         "showlegend": true,
         "type": "scatter",
         "x": {
          "bdata": "aJHtfAu9x0A=",
          "dtype": "f8"
         },
         "xaxis": "x",
         "y": {
          "bdata": "JjEIrBzKSUA=",
          "dtype": "f8"
         },
         "yaxis": "y"
        },
        {
         "hovertemplate": "<b>%{hovertext}</b><br><br>Country or region=Eritrea<br>GDP per capita=%{x}<br>Score=%{y}<br>Overall rank=%{marker.size}<extra></extra>",
         "hovertext": [
          "Eritrea"
         ],
         "legendgroup": "Eritrea",
         "marker": {
          "color": "#EF553B",
          "size": {
           "bdata": "Zw==",
           "dtype": "i1"
          },
          "sizemode": "area",
          "sizeref": 0.355,
          "symbol": "circle"
         },
         "mode": "markers",
         "name": "Eritrea",
         "orientation": "v",
         "showlegend": true,
         "type": "scatter",
         "x": {
          "bdata": "zwjKyPQKhEA=",
          "dtype": "f8"
         },
         "xaxis": "x",
         "y": {
          "bdata": "hetRuB4FTUA=",
          "dtype": "f8"
         },
         "yaxis": "y"
        },
        {
         "hovertemplate": "<b>%{hovertext}</b><br><br>Country or region=Ethiopia<br>GDP per capita=%{x}<br>Score=%{y}<br>Overall rank=%{marker.size}<extra></extra>",
         "hovertext": [
          "Ethiopia"
         ],
         "legendgroup": "Ethiopia",
         "marker": {
          "color": "#00cc96",
          "size": {
           "bdata": "Dw==",
           "dtype": "i1"
          },
          "sizemode": "area",
          "sizeref": 0.355,
          "symbol": "circle"
         },
         "mode": "markers",
         "name": "Ethiopia",
         "orientation": "v",
         "showlegend": true,
         "type": "scatter",
         "x": {
          "bdata": "kQfH0XGWhUA=",
          "dtype": "f8"
         },
         "xaxis": "x",
         "y": {
          "bdata": "8KfGSzd5SkA=",
          "dtype": "f8"
         },
         "yaxis": "y"
        },
        {
         "hovertemplate": "<b>%{hovertext}</b><br><br>Country or region=Finland<br>GDP per capita=%{x}<br>Score=%{y}<br>Overall rank=%{marker.size}<extra></extra>",
         "hovertext": [
          "Finland"
         ],
         "legendgroup": "Finland",
         "marker": {
          "color": "#ab63fa",
          "size": {
           "bdata": "Zg==",
           "dtype": "i1"
          },
          "sizemode": "area",
          "sizeref": 0.355,
          "symbol": "circle"
         },
         "mode": "markers",
         "name": "Finland",
         "orientation": "v",
         "showlegend": true,
         "type": "scatter",
         "x": {
          "bdata": "+aBns+I24EA=",
          "dtype": "f8"
         },
         "xaxis": "x",
         "y": {
          "bdata": "eekmMQjUU0A=",
          "dtype": "f8"
         },
         "yaxis": "y"
        },
        {
         "hovertemplate": "<b>%{hovertext}</b><br><br>Country or region=France<br>GDP per capita=%{x}<br>Score=%{y}<br>Overall rank=%{marker.size}<extra></extra>",
         "hovertext": [
          "France"
         ],
         "legendgroup": "France",
         "marker": {
          "color": "#FFA15A",
          "size": {
           "bdata": "FA==",
           "dtype": "i1"
          },
          "sizemode": "area",
          "sizeref": 0.355,
          "symbol": "circle"
         },
         "mode": "markers",
         "name": "France",
         "orientation": "v",
         "showlegend": true,
         "type": "scatter",
         "x": {
          "bdata": "duCcEYHB3UA=",
          "dtype": "f8"
         },
         "xaxis": "x",
         "y": {
          "bdata": "NV66SQwqVEA=",
          "dtype": "f8"
         },
         "yaxis": "y"
        },
        {
         "hovertemplate": "<b>%{hovertext}</b><br><br>Country or region=Gabon<br>GDP per capita=%{x}<br>Score=%{y}<br>Overall rank=%{marker.size}<extra></extra>",
         "hovertext": [
          "Gabon"
         ],
         "legendgroup": "Gabon",
         "marker": {
          "color": "#19d3f3",
          "size": {
           "bdata": "gwA=",
           "dtype": "i2"
          },
          "sizemode": "area",
          "sizeref": 0.355,
          "symbol": "circle"
         },
         "mode": "markers",
         "name": "Gabon",
         "orientation": "v",
         "showlegend": true,
         "type": "scatter",
         "x": {
          "bdata": "IVnABD7LyUA=",
          "dtype": "f8"
         },
         "xaxis": "x",
         "y": {
          "bdata": "rkfhehReTEA=",
          "dtype": "f8"
         },
         "yaxis": "y"
        },
        {
         "hovertemplate": "<b>%{hovertext}</b><br><br>Country or region=Gambia<br>GDP per capita=%{x}<br>Score=%{y}<br>Overall rank=%{marker.size}<extra></extra>",
         "hovertext": [
          "Gambia"
         ],
         "legendgroup": "Gambia",
         "marker": {
          "color": "#FF6692",
          "size": {
           "bdata": "gAA=",
           "dtype": "i2"
          },
          "sizemode": "area",
          "sizeref": 0.355,
          "symbol": "circle"
         },
         "mode": "markers",
         "name": "Gambia",
         "orientation": "v",
         "showlegend": true,
         "type": "scatter",
         "x": {
          "bdata": "jnObcP+Fh0A=",
          "dtype": "f8"
         },
         "xaxis": "x",
         "y": {
          "bdata": "001iEFi5TUA=",
          "dtype": "f8"
         },
         "yaxis": "y"
        },
        {
         "hovertemplate": "<b>%{hovertext}</b><br><br>Country or region=Germany<br>GDP per capita=%{x}<br>Score=%{y}<br>Overall rank=%{marker.size}<extra></extra>",
         "hovertext": [
          "Germany"
         ],
         "legendgroup": "Germany",
         "marker": {
          "color": "#B6E880",
          "size": {
           "bdata": "DQ==",
           "dtype": "i1"
          },
          "sizemode": "area",
          "sizeref": 0.355,
          "symbol": "circle"
         },
         "mode": "markers",
         "name": "Germany",
         "orientation": "v",
         "showlegend": true,
         "type": "scatter",
         "x": {
          "bdata": "vk1/9pdq30A=",
          "dtype": "f8"
         },
         "xaxis": "x",
         "y": {
          "bdata": "RIts5/vZU0A=",
          "dtype": "f8"
         },
         "yaxis": "y"
        },
        {
         "hovertemplate": "<b>%{hovertext}</b><br><br>Country or region=Ghana<br>GDP per capita=%{x}<br>Score=%{y}<br>Overall rank=%{marker.size}<extra></extra>",
         "hovertext": [
          "Ghana"
         ],
         "legendgroup": "Ghana",
         "marker": {
          "color": "#FF97FF",
          "size": {
           "bdata": "Lg==",
           "dtype": "i1"
          },
          "sizemode": "area",
          "sizeref": 0.355,
          "symbol": "circle"
         },
         "mode": "markers",
         "name": "Ghana",
         "orientation": "v",
         "showlegend": true,
         "type": "scatter",
         "x": {
          "bdata": "1GAahm++lEA=",
          "dtype": "f8"
         },
         "xaxis": "x",
         "y": {
          "bdata": "iUFg5dACTkA=",
          "dtype": "f8"
         },
         "yaxis": "y"
        },
        {
         "hovertemplate": "<b>%{hovertext}</b><br><br>Country or region=Greece<br>GDP per capita=%{x}<br>Score=%{y}<br>Overall rank=%{marker.size}<extra></extra>",
         "hovertext": [
          "Greece"
         ],
         "legendgroup": "Greece",
         "marker": {
          "color": "#FECB52",
          "size": {
           "bdata": "Rg==",
           "dtype": "i1"
          },
          "sizemode": "area",
          "sizeref": 0.355,
          "symbol": "circle"
         },
         "mode": "markers",
         "name": "Greece",
         "orientation": "v",
         "showlegend": true,
         "type": "scatter",
         "x": {
          "bdata": "eO49XJrk2kA=",
          "dtype": "f8"
         },
         "xaxis": "x",
         "y": {
          "bdata": "9P3UeOneU0A=",
          "dtype": "f8"
         },
         "yaxis": "y"
        },
        {
         "hovertemplate": "<b>%{hovertext}</b><br><br>Country or region=Guatemala<br>GDP per capita=%{x}<br>Score=%{y}<br>Overall rank=%{marker.size}<extra></extra>",
         "hovertext": [
          "Guatemala"
         ],
         "legendgroup": "Guatemala",
         "marker": {
          "color": "#636efa",
          "size": {
           "bdata": "Pw==",
           "dtype": "i1"
          },
          "sizemode": "area",
          "sizeref": 0.355,
          "symbol": "circle"
         },
         "mode": "markers",
         "name": "Guatemala",
         "orientation": "v",
         "showlegend": true,
         "type": "scatter",
         "x": {
          "bdata": "tCH/zAxCtEA=",
          "dtype": "f8"
         },
         "xaxis": "x",
         "y": {
          "bdata": "f2q8dJOQUUA=",
          "dtype": "f8"
         },
         "yaxis": "y"
        },
        {
         "hovertemplate": "<b>%{hovertext}</b><br><br>Country or region=Guinea<br>GDP per capita=%{x}<br>Score=%{y}<br>Overall rank=%{marker.size}<extra></extra>",
         "hovertext": [
          "Guinea"
         ],
         "legendgroup": "Guinea",
         "marker": {
          "color": "#EF553B",
          "size": {
           "bdata": "Tg==",
           "dtype": "i1"
          },
          "sizemode": "area",
          "sizeref": 0.355,
          "symbol": "circle"
         },
         "mode": "markers",
         "name": "Guinea",
         "orientation": "v",
         "showlegend": true,
         "type": "scatter",
         "x": {
          "bdata": "cXkH0zt1jUA=",
          "dtype": "f8"
         },
         "xaxis": "x",
         "y": {
          "bdata": "N4lBYOUATEA=",
          "dtype": "f8"
         },
         "yaxis": "y"
        },
        {
         "hovertemplate": "<b>%{hovertext}</b><br><br>Country or region=Guinea-Bissau<br>GDP per capita=%{x}<br>Score=%{y}<br>Overall rank=%{marker.size}<extra></extra>",
         "hovertext": [
          "Guinea-Bissau"
         ],
         "legendgroup": "Guinea-Bissau",
         "marker": {
          "color": "#00cc96",
          "size": {
           "bdata": "ggA=",
           "dtype": "i2"
          },
          "sizemode": "area",
          "sizeref": 0.355,
          "symbol": "circle"
         },
         "mode": "markers",
         "name": "Guinea-Bissau",
         "orientation": "v",
         "showlegend": true,
         "type": "scatter",
         "x": {
          "bdata": "nPASnNoZgkA=",
          "dtype": "f8"
         },
         "xaxis": "x",
         "y": {
          "bdata": "jWzn+6kxR0A=",
          "dtype": "f8"
         },
         "yaxis": "y"
        },
        {
         "hovertemplate": "<b>%{hovertext}</b><br><br>Country or region=Haiti<br>GDP per capita=%{x}<br>Score=%{y}<br>Overall rank=%{marker.size}<extra></extra>",
         "hovertext": [
          "Haiti"
         ],
         "legendgroup": "Haiti",
         "marker": {
          "color": "#ab63fa",
          "size": {
           "bdata": "VA==",
           "dtype": "i1"
          },
          "sizemode": "area",
          "sizeref": 0.355,
          "symbol": "circle"
         },
         "mode": "markers",
         "name": "Haiti",
         "orientation": "v",
         "showlegend": true,
         "type": "scatter",
         "x": {
          "bdata": "ECIZcozGkkA=",
          "dtype": "f8"
         },
         "xaxis": "x",
         "y": {
          "bdata": "aJHtfD91TkA=",
          "dtype": "f8"
         },
         "yaxis": "y"
        },
        {
         "hovertemplate": "<b>%{hovertext}</b><br><br>Country or region=Honduras<br>GDP per capita=%{x}<br>Score=%{y}<br>Overall rank=%{marker.size}<extra></extra>",
         "hovertext": [
          "Honduras"
         ],
         "legendgroup": "Honduras",
         "marker": {
          "color": "#FFA15A",
          "size": {
           "bdata": "WQ==",
           "dtype": "i1"
          },
          "sizemode": "area",
          "sizeref": 0.355,
          "symbol": "circle"
         },
         "mode": "markers",
         "name": "Honduras",
         "orientation": "v",
         "showlegend": true,
         "type": "scatter",
         "x": {
          "bdata": "CJylZKm4q0A=",
          "dtype": "f8"
         },
         "xaxis": "x",
         "y": {
          "bdata": "6iYxCKyMUUA=",
          "dtype": "f8"
         },
         "yaxis": "y"
        },
        {
         "hovertemplate": "<b>%{hovertext}</b><br><br>Country or region=Hong Kong, China<br>GDP per capita=%{x}<br>Score=%{y}<br>Overall rank=%{marker.size}<extra></extra>",
         "hovertext": [
          "Hong Kong, China"
         ],
         "legendgroup": "Hong Kong, China",
         "marker": {
          "color": "#19d3f3",
          "size": {
           "bdata": "Ww==",
           "dtype": "i1"
          },
          "sizemode": "area",
          "sizeref": 0.355,
          "symbol": "circle"
         },
         "mode": "markers",
         "name": "Hong Kong, China",
         "orientation": "v",
         "showlegend": true,
         "type": "scatter",
         "x": {
          "bdata": "cr9DUZ9l40A=",
          "dtype": "f8"
         },
         "xaxis": "x",
         "y": {
          "bdata": "WmQ730+NVEA=",
          "dtype": "f8"
         },
         "yaxis": "y"
        },
        {
         "hovertemplate": "<b>%{hovertext}</b><br><br>Country or region=Hungary<br>GDP per capita=%{x}<br>Score=%{y}<br>Overall rank=%{marker.size}<extra></extra>",
         "hovertext": [
          "Hungary"
         ],
         "legendgroup": "Hungary",
         "marker": {
          "color": "#FF6692",
          "size": {
           "bdata": "TQ==",
           "dtype": "i1"
          },
          "sizemode": "area",
          "sizeref": 0.355,
          "symbol": "circle"
         },
         "mode": "markers",
         "name": "Hungary",
         "orientation": "v",
         "showlegend": true,
         "type": "scatter",
         "x": {
          "bdata": "Qni0cTyW0UA=",
          "dtype": "f8"
         },
         "xaxis": "x",
         "y": {
          "bdata": "FIPAyqFVUkA=",
          "dtype": "f8"
         },
         "yaxis": "y"
        },
        {
         "hovertemplate": "<b>%{hovertext}</b><br><br>Country or region=Iceland<br>GDP per capita=%{x}<br>Score=%{y}<br>Overall rank=%{marker.size}<extra></extra>",
         "hovertext": [
          "Iceland"
         ],
         "legendgroup": "Iceland",
         "marker": {
          "color": "#B6E880",
          "size": {
           "bdata": "jQA=",
           "dtype": "i2"
          },
          "sizemode": "area",
          "sizeref": 0.355,
          "symbol": "circle"
         },
         "mode": "markers",
         "name": "Iceland",
         "orientation": "v",
         "showlegend": true,
         "type": "scatter",
         "x": {
          "bdata": "C2MLQZmq4UA=",
          "dtype": "f8"
         },
         "xaxis": "x",
         "y": {
          "bdata": "nMQgsHJwVEA=",
          "dtype": "f8"
         },
         "yaxis": "y"
        },
        {
         "hovertemplate": "<b>%{hovertext}</b><br><br>Country or region=India<br>GDP per capita=%{x}<br>Score=%{y}<br>Overall rank=%{marker.size}<extra></extra>",
         "hovertext": [
          "India"
         ],
         "legendgroup": "India",
         "marker": {
          "color": "#FF97FF",
          "size": {
           "bdata": "Ag==",
           "dtype": "i1"
          },
          "sizemode": "area",
          "sizeref": 0.355,
          "symbol": "circle"
         },
         "mode": "markers",
         "name": "India",
         "orientation": "v",
         "showlegend": true,
         "type": "scatter",
         "x": {
          "bdata": "s193umsoo0A=",
          "dtype": "f8"
         },
         "xaxis": "x",
         "y": {
          "bdata": "6iYxCKwsUEA=",
          "dtype": "f8"
         },
         "yaxis": "y"
        },
        {
         "hovertemplate": "<b>%{hovertext}</b><br><br>Country or region=Indonesia<br>GDP per capita=%{x}<br>Score=%{y}<br>Overall rank=%{marker.size}<extra></extra>",
         "hovertext": [
          "Indonesia"
         ],
         "legendgroup": "Indonesia",
         "marker": {
          "color": "#FECB52",
          "size": {
           "bdata": "BA==",
           "dtype": "i1"
          },
          "sizemode": "area",
          "sizeref": 0.355,
          "symbol": "circle"
         },
         "mode": "markers",
         "name": "Indonesia",
         "orientation": "v",
         "showlegend": true,
         "type": "scatter",
         "x": {
          "bdata": "gO7LmU2pq0A=",
          "dtype": "f8"
         },
         "xaxis": "x",
         "y": {
          "bdata": "mpmZmZmpUUA=",
          "dtype": "f8"
         },
         "yaxis": "y"
        },
        {
         "hovertemplate": "<b>%{hovertext}</b><br><br>Country or region=Iran<br>GDP per capita=%{x}<br>Score=%{y}<br>Overall rank=%{marker.size}<extra></extra>",
         "hovertext": [
          "Iran"
         ],
         "legendgroup": "Iran",
         "marker": {
          "color": "#636efa",
          "size": {
           "bdata": "EQ==",
           "dtype": "i1"
          },
          "sizemode": "area",
          "sizeref": 0.355,
          "symbol": "circle"
         },
         "mode": "markers",
         "name": "Iran",
         "orientation": "v",
         "showlegend": true,
         "type": "scatter",
         "x": {
          "bdata": "qYdodNuqxkA=",
          "dtype": "f8"
         },
         "xaxis": "x",
         "y": {
          "bdata": "BFYOLbK9UUA=",
          "dtype": "f8"
         },
         "yaxis": "y"
        },
        {
         "hovertemplate": "<b>%{hovertext}</b><br><br>Country or region=Iraq<br>GDP per capita=%{x}<br>Score=%{y}<br>Overall rank=%{marker.size}<extra></extra>",
         "hovertext": [
          "Iraq"
         ],
         "legendgroup": "Iraq",
         "marker": {
          "color": "#EF553B",
          "size": {
           "bdata": "KQ==",
           "dtype": "i1"
          },
          "sizemode": "area",
          "sizeref": 0.355,
          "symbol": "circle"
         },
         "mode": "markers",
         "name": "Iraq",
         "orientation": "v",
         "showlegend": true,
         "type": "scatter",
         "x": {
          "bdata": "bVUS2Q93sUA=",
          "dtype": "f8"
         },
         "xaxis": "x",
         "y": {
          "bdata": "9ihcj8LFTUA=",
          "dtype": "f8"
         },
         "yaxis": "y"
        },
        {
         "hovertemplate": "<b>%{hovertext}</b><br><br>Country or region=Ireland<br>GDP per capita=%{x}<br>Score=%{y}<br>Overall rank=%{marker.size}<extra></extra>",
         "hovertext": [
          "Ireland"
         ],
         "legendgroup": "Ireland",
         "marker": {
          "color": "#00cc96",
          "size": {
           "bdata": "bw==",
           "dtype": "i1"
          },
          "sizemode": "area",
          "sizeref": 0.355,
          "symbol": "circle"
         },
         "mode": "markers",
         "name": "Ireland",
         "orientation": "v",
         "showlegend": true,
         "type": "scatter",
         "x": {
          "bdata": "LGUZ4n/c40A=",
          "dtype": "f8"
         },
         "xaxis": "x",
         "y": {
          "bdata": "cT0K16O4U0A=",
          "dtype": "f8"
         },
         "yaxis": "y"
        },
        {
         "hovertemplate": "<b>%{hovertext}</b><br><br>Country or region=Israel<br>GDP per capita=%{x}<br>Score=%{y}<br>Overall rank=%{marker.size}<extra></extra>",
         "hovertext": [
          "Israel"
         ],
         "legendgroup": "Israel",
         "marker": {
          "color": "#ab63fa",
          "size": {
           "bdata": "Xg==",
           "dtype": "i1"
          },
          "sizemode": "area",
          "sizeref": 0.355,
          "symbol": "circle"
         },
         "mode": "markers",
         "name": "Israel",
         "orientation": "v",
         "showlegend": true,
         "type": "scatter",
         "x": {
          "bdata": "bqMBvNHs2EA=",
          "dtype": "f8"
         },
         "xaxis": "x",
         "y": {
          "bdata": "SOF6FK4vVEA=",
          "dtype": "f8"
         },
         "yaxis": "y"
        },
        {
         "hovertemplate": "<b>%{hovertext}</b><br><br>Country or region=Italy<br>GDP per capita=%{x}<br>Score=%{y}<br>Overall rank=%{marker.size}<extra></extra>",
         "hovertext": [
          "Italy"
         ],
         "legendgroup": "Italy",
         "marker": {
          "color": "#FFA15A",
          "size": {
           "bdata": "Fg==",
           "dtype": "i1"
          },
          "sizemode": "area",
          "sizeref": 0.355,
          "symbol": "circle"
         },
         "mode": "markers",
         "name": "Italy",
         "orientation": "v",
         "showlegend": true,
         "type": "scatter",
         "x": {
          "bdata": "vJaQD27m20A=",
          "dtype": "f8"
         },
         "xaxis": "x",
         "y": {
          "bdata": "bef7qfEiVEA=",
          "dtype": "f8"
         },
         "yaxis": "y"
        },
        {
         "hovertemplate": "<b>%{hovertext}</b><br><br>Country or region=Jamaica<br>GDP per capita=%{x}<br>Score=%{y}<br>Overall rank=%{marker.size}<extra></extra>",
         "hovertext": [
          "Jamaica"
         ],
         "legendgroup": "Jamaica",
         "marker": {
          "color": "#19d3f3",
          "size": {
           "bdata": "ew==",
           "dtype": "i1"
          },
          "sizemode": "area",
          "sizeref": 0.355,
          "symbol": "circle"
         },
         "mode": "markers",
         "name": "Jamaica",
         "orientation": "v",
         "showlegend": true,
         "type": "scatter",
         "x": {
          "bdata": "67XZWOGYvEA=",
          "dtype": "f8"
         },
         "xaxis": "x",
         "y": {
          "bdata": "PzVeukkkUkA=",
          "dtype": "f8"
         },
         "yaxis": "y"
        },
        {
         "hovertemplate": "<b>%{hovertext}</b><br><br>Country or region=Japan<br>GDP per capita=%{x}<br>Score=%{y}<br>Overall rank=%{marker.size}<extra></extra>",
         "hovertext": [
          "Japan"
         ],
         "legendgroup": "Japan",
         "marker": {
          "color": "#FF6692",
          "size": {
           "bdata": "CQ==",
           "dtype": "i1"
          },
          "sizemode": "area",
          "sizeref": 0.355,
          "symbol": "circle"
         },
         "mode": "markers",
         "name": "Japan",
         "orientation": "v",
         "showlegend": true,
         "type": "scatter",
         "x": {
          "bdata": "i1QYWwTq3kA=",
          "dtype": "f8"
         },
         "xaxis": "x",
         "y": {
          "bdata": "O99PjZemVEA=",
          "dtype": "f8"
         },
         "yaxis": "y"
        },
        {
         "hovertemplate": "<b>%{hovertext}</b><br><br>Country or region=Jordan<br>GDP per capita=%{x}<br>Score=%{y}<br>Overall rank=%{marker.size}<extra></extra>",
         "hovertext": [
          "Jordan"
         ],
         "legendgroup": "Jordan",
         "marker": {
          "color": "#B6E880",
          "size": {
           "bdata": "YA==",
           "dtype": "i1"
          },
          "sizemode": "area",
          "sizeref": 0.355,
          "symbol": "circle"
         },
         "mode": "markers",
         "name": "Jordan",
         "orientation": "v",
         "showlegend": true,
         "type": "scatter",
         "x": {
          "bdata": "3XpND3ansUA=",
          "dtype": "f8"
         },
         "xaxis": "x",
         "y": {
          "bdata": "CtejcD0iUkA=",
          "dtype": "f8"
         },
         "yaxis": "y"
        },
        {
         "hovertemplate": "<b>%{hovertext}</b><br><br>Country or region=Kenya<br>GDP per capita=%{x}<br>Score=%{y}<br>Overall rank=%{marker.size}<extra></extra>",
         "hovertext": [
          "Kenya"
         ],
         "legendgroup": "Kenya",
         "marker": {
          "color": "#FF97FF",
          "size": {
           "bdata": "IA==",
           "dtype": "i1"
          },
          "sizemode": "area",
          "sizeref": 0.355,
          "symbol": "circle"
         },
         "mode": "markers",
         "name": "Kenya",
         "orientation": "v",
         "showlegend": true,
         "type": "scatter",
         "x": {
          "bdata": "7dXHQ//clkA=",
          "dtype": "f8"
         },
         "xaxis": "x",
         "y": {
          "bdata": "rkfhehQOS0A=",
          "dtype": "f8"
         },
         "yaxis": "y"
        },
        {
         "hovertemplate": "<b>%{hovertext}</b><br><br>Country or region=Korea, Dem. Rep.<br>GDP per capita=%{x}<br>Score=%{y}<br>Overall rank=%{marker.size}<extra></extra>",
         "hovertext": [
          "Korea, Dem. Rep."
         ],
         "legendgroup": "Korea, Dem. Rep.",
         "marker": {
          "color": "#FECB52",
          "size": {
           "bdata": "LA==",
           "dtype": "i1"
          },
          "sizemode": "area",
          "sizeref": 0.355,
          "symbol": "circle"
         },
         "mode": "markers",
         "name": "Korea, Dem. Rep.",
         "orientation": "v",
         "showlegend": true,
         "type": "scatter",
         "x": {
          "bdata": "K2owDUPkmEA=",
          "dtype": "f8"
         },
         "xaxis": "x",
         "y": {
          "bdata": "XrpJDALTUEA=",
          "dtype": "f8"
         },
         "yaxis": "y"
        },
        {
         "hovertemplate": "<b>%{hovertext}</b><br><br>Country or region=Korea, Rep.<br>GDP per capita=%{x}<br>Score=%{y}<br>Overall rank=%{marker.size}<extra></extra>",
         "hovertext": [
          "Korea, Rep."
         ],
         "legendgroup": "Korea, Rep.",
         "marker": {
          "color": "#636efa",
          "size": {
           "bdata": "Fw==",
           "dtype": "i1"
          },
          "sizemode": "area",
          "sizeref": 0.355,
          "symbol": "circle"
         },
         "mode": "markers",
         "name": "Korea, Rep.",
         "orientation": "v",
         "showlegend": true,
         "type": "scatter",
         "x": {
          "bdata": "ExlW8QjN1kA=",
          "dtype": "f8"
         },
         "xaxis": "x",
         "y": {
          "bdata": "HVpkO9+nU0A=",
          "dtype": "f8"
         },
         "yaxis": "y"
        },
        {
         "hovertemplate": "<b>%{hovertext}</b><br><br>Country or region=Kuwait<br>GDP per capita=%{x}<br>Score=%{y}<br>Overall rank=%{marker.size}<extra></extra>",
         "hovertext": [
          "Kuwait"
         ],
         "legendgroup": "Kuwait",
         "marker": {
          "color": "#EF553B",
          "size": {
           "bdata": "fA==",
           "dtype": "i1"
          },
          "sizemode": "area",
          "sizeref": 0.355,
          "symbol": "circle"
         },
         "mode": "markers",
         "name": "Kuwait",
         "orientation": "v",
         "showlegend": true,
         "type": "scatter",
         "x": {
          "bdata": "SBtHrF8Z50A=",
          "dtype": "f8"
         },
         "xaxis": "x",
         "y": {
          "bdata": "FIPAyqFlU0A=",
          "dtype": "f8"
         },
         "yaxis": "y"
        },
        {
         "hovertemplate": "<b>%{hovertext}</b><br><br>Country or region=Lebanon<br>GDP per capita=%{x}<br>Score=%{y}<br>Overall rank=%{marker.size}<extra></extra>",
         "hovertext": [
          "Lebanon"
         ],
         "legendgroup": "Lebanon",
         "marker": {
          "color": "#00cc96",
          "size": {
           "bdata": "cg==",
           "dtype": "i1"
          },
          "sizemode": "area",
          "sizeref": 0.355,
          "symbol": "circle"
         },
         "mode": "markers",
         "name": "Lebanon",
         "orientation": "v",
         "showlegend": true,
         "type": "scatter",
         "x": {
          "bdata": "d4TTgoduxEA=",
          "dtype": "f8"
         },
         "xaxis": "x",
         "y": {
          "bdata": "ZDvfT43/UUA=",
          "dtype": "f8"
         },
         "yaxis": "y"
        },
        {
         "hovertemplate": "<b>%{hovertext}</b><br><br>Country or region=Lesotho<br>GDP per capita=%{x}<br>Score=%{y}<br>Overall rank=%{marker.size}<extra></extra>",
         "hovertext": [
          "Lesotho"
         ],
         "legendgroup": "Lesotho",
         "marker": {
          "color": "#ab63fa",
          "size": {
           "bdata": "fg==",
           "dtype": "i1"
          },
          "sizemode": "area",
          "sizeref": 0.355,
          "symbol": "circle"
         },
         "mode": "markers",
         "name": "Lesotho",
         "orientation": "v",
         "showlegend": true,
         "type": "scatter",
         "x": {
          "bdata": "FRqIZVOFmEA=",
          "dtype": "f8"
         },
         "xaxis": "x",
         "y": {
          "bdata": "sp3vp8ZLRUA=",
          "dtype": "f8"
         },
         "yaxis": "y"
        },
        {
         "hovertemplate": "<b>%{hovertext}</b><br><br>Country or region=Liberia<br>GDP per capita=%{x}<br>Score=%{y}<br>Overall rank=%{marker.size}<extra></extra>",
         "hovertext": [
          "Liberia"
         ],
         "legendgroup": "Liberia",
         "marker": {
          "color": "#FFA15A",
          "size": {
           "bdata": "eQ==",
           "dtype": "i1"
          },
          "sizemode": "area",
          "sizeref": 0.355,
          "symbol": "circle"
         },
         "mode": "markers",
         "name": "Liberia",
         "orientation": "v",
         "showlegend": true,
         "type": "scatter",
         "x": {
          "bdata": "deYeEh7oeUA=",
          "dtype": "f8"
         },
         "xaxis": "x",
         "y": {
          "bdata": "EFg5tMjWRkA=",
          "dtype": "f8"
         },
         "yaxis": "y"
        },
        {
         "hovertemplate": "<b>%{hovertext}</b><br><br>Country or region=Libya<br>GDP per capita=%{x}<br>Score=%{y}<br>Overall rank=%{marker.size}<extra></extra>",
         "hovertext": [
          "Libya"
         ],
         "legendgroup": "Libya",
         "marker": {
          "color": "#19d3f3",
          "size": {
           "bdata": "YQ==",
           "dtype": "i1"
          },
          "sizemode": "area",
          "sizeref": 0.355,
          "symbol": "circle"
         },
         "mode": "markers",
         "name": "Libya",
         "orientation": "v",
         "showlegend": true,
         "type": "scatter",
         "x": {
          "bdata": "xjNo6L+Mx0A=",
          "dtype": "f8"
         },
         "xaxis": "x",
         "y": {
          "bdata": "sHJoke18UkA=",
          "dtype": "f8"
         },
         "yaxis": "y"
        },
        {
         "hovertemplate": "<b>%{hovertext}</b><br><br>Country or region=Madagascar<br>GDP per capita=%{x}<br>Score=%{y}<br>Overall rank=%{marker.size}<extra></extra>",
         "hovertext": [
          "Madagascar"
         ],
         "legendgroup": "Madagascar",
         "marker": {
          "color": "#FF6692",
          "size": {
           "bdata": "NQ==",
           "dtype": "i1"
          },
          "sizemode": "area",
          "sizeref": 0.355,
          "symbol": "circle"
         },
         "mode": "markers",
         "name": "Madagascar",
         "orientation": "v",
         "showlegend": true,
         "type": "scatter",
         "x": {
          "bdata": "Mv/omxRTkEA=",
          "dtype": "f8"
         },
         "xaxis": "x",
         "y": {
          "bdata": "ZBBYObS4TUA=",
          "dtype": "f8"
         },
         "yaxis": "y"
        },
        {
         "hovertemplate": "<b>%{hovertext}</b><br><br>Country or region=Malawi<br>GDP per capita=%{x}<br>Score=%{y}<br>Overall rank=%{marker.size}<extra></extra>",
         "hovertext": [
          "Malawi"
         ],
         "legendgroup": "Malawi",
         "marker": {
          "color": "#B6E880",
          "size": {
           "bdata": "PQ==",
           "dtype": "i1"
          },
          "sizemode": "area",
          "sizeref": 0.355,
          "symbol": "circle"
         },
         "mode": "markers",
         "name": "Malawi",
         "orientation": "v",
         "showlegend": true,
         "type": "scatter",
         "x": {
          "bdata": "UqCqncy6h0A=",
          "dtype": "f8"
         },
         "xaxis": "x",
         "y": {
          "bdata": "EFg5tMgmSEA=",
          "dtype": "f8"
         },
         "yaxis": "y"
        },
        {
         "hovertemplate": "<b>%{hovertext}</b><br><br>Country or region=Malaysia<br>GDP per capita=%{x}<br>Score=%{y}<br>Overall rank=%{marker.size}<extra></extra>",
         "hovertext": [
          "Malaysia"
         ],
         "legendgroup": "Malaysia",
         "marker": {
          "color": "#FF97FF",
          "size": {
           "bdata": "Kw==",
           "dtype": "i1"
          },
          "sizemode": "area",
          "sizeref": 0.355,
          "symbol": "circle"
         },
         "mode": "markers",
         "name": "Malaysia",
         "orientation": "v",
         "showlegend": true,
         "type": "scatter",
         "x": {
          "bdata": "XCBB8dNRyEA=",
          "dtype": "f8"
         },
         "xaxis": "x",
         "y": {
          "bdata": "gZVDi2yPUkA=",
          "dtype": "f8"
         },
         "yaxis": "y"
        },
        {
         "hovertemplate": "<b>%{hovertext}</b><br><br>Country or region=Mali<br>GDP per capita=%{x}<br>Score=%{y}<br>Overall rank=%{marker.size}<extra></extra>",
         "hovertext": [
          "Mali"
         ],
         "legendgroup": "Mali",
         "marker": {
          "color": "#FECB52",
          "size": {
           "bdata": "Qw==",
           "dtype": "i1"
          },
          "sizemode": "area",
          "sizeref": 0.355,
          "symbol": "circle"
         },
         "mode": "markers",
         "name": "Mali",
         "orientation": "v",
         "showlegend": true,
         "type": "scatter",
         "x": {
          "bdata": "Cp+tg1NKkEA=",
          "dtype": "f8"
         },
         "xaxis": "x",
         "y": {
          "bdata": "sp3vp8Y7S0A=",
          "dtype": "f8"
         },
         "yaxis": "y"
        },
        {
         "hovertemplate": "<b>%{hovertext}</b><br><br>Country or region=Mauritania<br>GDP per capita=%{x}<br>Score=%{y}<br>Overall rank=%{marker.size}<extra></extra>",
         "hovertext": [
          "Mauritania"
         ],
         "legendgroup": "Mauritania",
         "marker": {
          "color": "#636efa",
          "size": {
           "bdata": "dg==",
           "dtype": "i1"
          },
          "sizemode": "area",
          "sizeref": 0.355,
          "symbol": "circle"
         },
         "mode": "markers",
         "name": "Mauritania",
         "orientation": "v",
         "showlegend": true,
         "type": "scatter",
         "x": {
          "bdata": "5nXEIZssnEA=",
          "dtype": "f8"
         },
         "xaxis": "x",
         "y": {
          "bdata": "0SLb+X4KUEA=",
          "dtype": "f8"
         },
         "yaxis": "y"
        },
        {
         "hovertemplate": "<b>%{hovertext}</b><br><br>Country or region=Mauritius<br>GDP per capita=%{x}<br>Score=%{y}<br>Overall rank=%{marker.size}<extra></extra>",
         "hovertext": [
          "Mauritius"
         ],
         "legendgroup": "Mauritius",
         "marker": {
          "color": "#EF553B",
          "size": {
           "bdata": "hAA=",
           "dtype": "i2"
          },
          "sizemode": "area",
          "sizeref": 0.355,
          "symbol": "circle"
         },
         "mode": "markers",
         "name": "Mauritius",
         "orientation": "v",
         "showlegend": true,
         "type": "scatter",
         "x": {
          "bdata": "NSkF3X5mxUA=",
          "dtype": "f8"
         },
         "xaxis": "x",
         "y": {
          "bdata": "JQaBlUMzUkA=",
          "dtype": "f8"
         },
         "yaxis": "y"
        },
        {
         "hovertemplate": "<b>%{hovertext}</b><br><br>Country or region=Mexico<br>GDP per capita=%{x}<br>Score=%{y}<br>Overall rank=%{marker.size}<extra></extra>",
         "hovertext": [
          "Mexico"
         ],
         "legendgroup": "Mexico",
         "marker": {
          "color": "#00cc96",
          "size": {
           "bdata": "Cg==",
           "dtype": "i1"
          },
          "sizemode": "area",
          "sizeref": 0.355,
          "symbol": "circle"
         },
         "mode": "markers",
         "name": "Mexico",
         "orientation": "v",
         "showlegend": true,
         "type": "scatter",
         "x": {
          "bdata": "QQ5KmMlkx0A=",
          "dtype": "f8"
         },
         "xaxis": "x",
         "y": {
          "bdata": "FK5H4XoMU0A=",
          "dtype": "f8"
         },
         "yaxis": "y"
        },
        {
         "hovertemplate": "<b>%{hovertext}</b><br><br>Country or region=Mongolia<br>GDP per capita=%{x}<br>Score=%{y}<br>Overall rank=%{marker.size}<extra></extra>",
         "hovertext": [
          "Mongolia"
         ],
         "legendgroup": "Mongolia",
         "marker": {
          "color": "#ab63fa",
          "size": {
           "bdata": "eg==",
           "dtype": "i1"
          },
          "sizemode": "area",
          "sizeref": 0.355,
          "symbol": "circle"
         },
         "mode": "markers",
         "name": "Mongolia",
         "orientation": "v",
         "showlegend": true,
         "type": "scatter",
         "x": {
          "bdata": "TsEaZ4svqEA=",
          "dtype": "f8"
         },
         "xaxis": "x",
         "y": {
          "bdata": "CKwcWmSzUEA=",
          "dtype": "f8"
         },
         "yaxis": "y"
        },
        {
         "hovertemplate": "<b>%{hovertext}</b><br><br>Country or region=Montenegro<br>GDP per capita=%{x}<br>Score=%{y}<br>Overall rank=%{marker.size}<extra></extra>",
         "hovertext": [
          "Montenegro"
         ],
         "legendgroup": "Montenegro",
         "marker": {
          "color": "#FFA15A",
          "size": {
           "bdata": "igA=",
           "dtype": "i2"
          },
          "sizemode": "area",
          "sizeref": 0.355,
          "symbol": "circle"
         },
         "mode": "markers",
         "name": "Montenegro",
         "orientation": "v",
         "showlegend": true,
         "type": "scatter",
         "x": {
          "bdata": "S+fDs/ISwkA=",
          "dtype": "f8"
         },
         "xaxis": "x",
         "y": {
          "bdata": "mG4Sg8CiUkA=",
          "dtype": "f8"
         },
         "yaxis": "y"
        },
        {
         "hovertemplate": "<b>%{hovertext}</b><br><br>Country or region=Morocco<br>GDP per capita=%{x}<br>Score=%{y}<br>Overall rank=%{marker.size}<extra></extra>",
         "hovertext": [
          "Morocco"
         ],
         "legendgroup": "Morocco",
         "marker": {
          "color": "#19d3f3",
          "size": {
           "bdata": "IQ==",
           "dtype": "i1"
          },
          "sizemode": "area",
          "sizeref": 0.355,
          "symbol": "circle"
         },
         "mode": "markers",
         "name": "Morocco",
         "orientation": "v",
         "showlegend": true,
         "type": "scatter",
         "x": {
          "bdata": "jh6/t1nYrUA=",
          "dtype": "f8"
         },
         "xaxis": "x",
         "y": {
          "bdata": "0SLb+X7KUUA=",
          "dtype": "f8"
         },
         "yaxis": "y"
        },
        {
         "hovertemplate": "<b>%{hovertext}</b><br><br>Country or region=Mozambique<br>GDP per capita=%{x}<br>Score=%{y}<br>Overall rank=%{marker.size}<extra></extra>",
         "hovertext": [
          "Mozambique"
         ],
         "legendgroup": "Mozambique",
         "marker": {
          "color": "#FF6692",
          "size": {
           "bdata": "Mw==",
           "dtype": "i1"
          },
          "sizemode": "area",
          "sizeref": 0.355,
          "symbol": "circle"
         },
         "mode": "markers",
         "name": "Mozambique",
         "orientation": "v",
         "showlegend": true,
         "type": "scatter",
         "x": {
          "bdata": "vceZJny9iUA=",
          "dtype": "f8"
         },
         "xaxis": "x",
         "y": {
          "bdata": "0SLb+X4KRUA=",
          "dtype": "f8"
         },
         "yaxis": "y"
        },
        {
         "hovertemplate": "<b>%{hovertext}</b><br><br>Country or region=Myanmar<br>GDP per capita=%{x}<br>Score=%{y}<br>Overall rank=%{marker.size}<extra></extra>",
         "hovertext": [
          "Myanmar"
         ],
         "legendgroup": "Myanmar",
         "marker": {
          "color": "#B6E880",
          "size": {
           "bdata": "GA==",
           "dtype": "i1"
          },
          "sizemode": "area",
          "sizeref": 0.355,
          "symbol": "circle"
         },
         "mode": "markers",
         "name": "Myanmar",
         "orientation": "v",
         "showlegend": true,
         "type": "scatter",
         "x": {
          "bdata": "AAAAAACAjUA=",
          "dtype": "f8"
         },
         "xaxis": "x",
         "y": {
          "bdata": "Rrbz/dQIT0A=",
          "dtype": "f8"
         },
         "yaxis": "y"
        },
        {
         "hovertemplate": "<b>%{hovertext}</b><br><br>Country or region=Namibia<br>GDP per capita=%{x}<br>Score=%{y}<br>Overall rank=%{marker.size}<extra></extra>",
         "hovertext": [
          "Namibia"
         ],
         "legendgroup": "Namibia",
         "marker": {
          "color": "#FF97FF",
          "size": {
           "bdata": "fQ==",
           "dtype": "i1"
          },
          "sizemode": "area",
          "sizeref": 0.355,
          "symbol": "circle"
         },
         "mode": "markers",
         "name": "Namibia",
         "orientation": "v",
         "showlegend": true,
         "type": "scatter",
         "x": {
          "bdata": "u2JGeA/LskA=",
          "dtype": "f8"
         },
         "xaxis": "x",
         "y": {
          "bdata": "iRbZzvdzSkA=",
          "dtype": "f8"
         },
         "yaxis": "y"
        },
        {
         "hovertemplate": "<b>%{hovertext}</b><br><br>Country or region=Nepal<br>GDP per capita=%{x}<br>Score=%{y}<br>Overall rank=%{marker.size}<extra></extra>",
         "hovertext": [
          "Nepal"
         ],
         "legendgroup": "Nepal",
         "marker": {
          "color": "#FECB52",
          "size": {
           "bdata": "Jg==",
           "dtype": "i1"
          },
          "sizemode": "area",
          "sizeref": 0.355,
          "symbol": "circle"
         },
         "mode": "markers",
         "name": "Nepal",
         "orientation": "v",
         "showlegend": true,
         "type": "scatter",
         "x": {
          "bdata": "SN+kaXANkUA=",
          "dtype": "f8"
         },
         "xaxis": "x",
         "y": {
          "bdata": "FK5H4XrkT0A=",
          "dtype": "f8"
         },
         "yaxis": "y"
        },
        {
         "hovertemplate": "<b>%{hovertext}</b><br><br>Country or region=Netherlands<br>GDP per capita=%{x}<br>Score=%{y}<br>Overall rank=%{marker.size}<extra></extra>",
         "hovertext": [
          "Netherlands"
         ],
         "legendgroup": "Netherlands",
         "marker": {
          "color": "#636efa",
          "size": {
           "bdata": "OA==",
           "dtype": "i1"
          },
          "sizemode": "area",
          "sizeref": 0.355,
          "symbol": "circle"
         },
         "mode": "markers",
         "name": "Netherlands",
         "orientation": "v",
         "showlegend": true,
         "type": "scatter",
         "x": {
          "bdata": "lufB3b334UA=",
          "dtype": "f8"
         },
         "xaxis": "x",
         "y": {
          "bdata": "VOOlm8TwU0A=",
          "dtype": "f8"
         },
         "yaxis": "y"
        },
        {
         "hovertemplate": "<b>%{hovertext}</b><br><br>Country or region=New Zealand<br>GDP per capita=%{x}<br>Score=%{y}<br>Overall rank=%{marker.size}<extra></extra>",
         "hovertext": [
          "New Zealand"
         ],
         "legendgroup": "New Zealand",
         "marker": {
          "color": "#EF553B",
          "size": {
           "bdata": "bg==",
           "dtype": "i1"
          },
          "sizemode": "area",
          "sizeref": 0.355,
          "symbol": "circle"
         },
         "mode": "markers",
         "name": "New Zealand",
         "orientation": "v",
         "showlegend": true,
         "type": "scatter",
         "x": {
          "bdata": "BBxClUCY2EA=",
          "dtype": "f8"
         },
         "xaxis": "x",
         "y": {
          "bdata": "kxgEVg4NVEA=",
          "dtype": "f8"
         },
         "yaxis": "y"
        },
        {
         "hovertemplate": "<b>%{hovertext}</b><br><br>Country or region=Nicaragua<br>GDP per capita=%{x}<br>Score=%{y}<br>Overall rank=%{marker.size}<extra></extra>",
         "hovertext": [
          "Nicaragua"
         ],
         "legendgroup": "Nicaragua",
         "marker": {
          "color": "#00cc96",
          "size": {
           "bdata": "Yw==",
           "dtype": "i1"
          },
          "sizemode": "area",
          "sizeref": 0.355,
          "symbol": "circle"
         },
         "mode": "markers",
         "name": "Nicaragua",
         "orientation": "v",
         "showlegend": true,
         "type": "scatter",
         "x": {
          "bdata": "UkSGVaR6pUA=",
          "dtype": "f8"
         },
         "xaxis": "x",
         "y": {
          "bdata": "qMZLN4k5UkA=",
          "dtype": "f8"
         },
         "yaxis": "y"
        },
        {
         "hovertemplate": "<b>%{hovertext}</b><br><br>Country or region=Niger<br>GDP per capita=%{x}<br>Score=%{y}<br>Overall rank=%{marker.size}<extra></extra>",
         "hovertext": [
          "Niger"
         ],
         "legendgroup": "Niger",
         "marker": {
          "color": "#ab63fa",
          "size": {
           "bdata": "Pg==",
           "dtype": "i1"
          },
          "sizemode": "area",
          "sizeref": 0.355,
          "symbol": "circle"
         },
         "mode": "markers",
         "name": "Niger",
         "orientation": "v",
         "showlegend": true,
         "type": "scatter",
         "x": {
          "bdata": "SAeQRmpdg0A=",
          "dtype": "f8"
         },
         "xaxis": "x",
         "y": {
          "bdata": "5dAi2/luTEA=",
          "dtype": "f8"
         },
         "yaxis": "y"
        },
        {
         "hovertemplate": "<b>%{hovertext}</b><br><br>Country or region=Nigeria<br>GDP per capita=%{x}<br>Score=%{y}<br>Overall rank=%{marker.size}<extra></extra>",
         "hovertext": [
          "Nigeria"
         ],
         "legendgroup": "Nigeria",
         "marker": {
          "color": "#FFA15A",
          "size": {
           "bdata": "CA==",
           "dtype": "i1"
          },
          "sizemode": "area",
          "sizeref": 0.355,
          "symbol": "circle"
         },
         "mode": "markers",
         "name": "Nigeria",
         "orientation": "v",
         "showlegend": true,
         "type": "scatter",
         "x": {
          "bdata": "3lSkwuh3n0A=",
          "dtype": "f8"
         },
         "xaxis": "x",
         "y": {
          "bdata": "y6FFtvNtR0A=",
          "dtype": "f8"
         },
         "yaxis": "y"
        },
        {
         "hovertemplate": "<b>%{hovertext}</b><br><br>Country or region=Norway<br>GDP per capita=%{x}<br>Score=%{y}<br>Overall rank=%{marker.size}<extra></extra>",
         "hovertext": [
          "Norway"
         ],
         "legendgroup": "Norway",
         "marker": {
          "color": "#19d3f3",
          "size": {
           "bdata": "aA==",
           "dtype": "i1"
          },
          "sizemode": "area",
          "sizeref": 0.355,
          "symbol": "circle"
         },
         "mode": "markers",
         "name": "Norway",
         "orientation": "v",
         "showlegend": true,
         "type": "scatter",
         "x": {
          "bdata": "VmXfFaYZ6EA=",
          "dtype": "f8"
         },
         "xaxis": "x",
         "y": {
          "bdata": "BoGVQ4sMVEA=",
          "dtype": "f8"
         },
         "yaxis": "y"
        },
        {
         "hovertemplate": "<b>%{hovertext}</b><br><br>Country or region=Oman<br>GDP per capita=%{x}<br>Score=%{y}<br>Overall rank=%{marker.size}<extra></extra>",
         "hovertext": [
          "Oman"
         ],
         "legendgroup": "Oman",
         "marker": {
          "color": "#FF6692",
          "size": {
           "bdata": "eA==",
           "dtype": "i1"
          },
          "sizemode": "area",
          "sizeref": 0.355,
          "symbol": "circle"
         },
         "mode": "markers",
         "name": "Oman",
         "orientation": "v",
         "showlegend": true,
         "type": "scatter",
         "x": {
          "bdata": "mGn7VwzL1UA=",
          "dtype": "f8"
         },
         "xaxis": "x",
         "y": {
          "bdata": "KVyPwvXoUkA=",
          "dtype": "f8"
         },
         "yaxis": "y"
        },
        {
         "hovertemplate": "<b>%{hovertext}</b><br><br>Country or region=Pakistan<br>GDP per capita=%{x}<br>Score=%{y}<br>Overall rank=%{marker.size}<extra></extra>",
         "hovertext": [
          "Pakistan"
         ],
         "legendgroup": "Pakistan",
         "marker": {
          "color": "#B6E880",
          "size": {
           "bdata": "Bg==",
           "dtype": "i1"
          },
          "sizemode": "area",
          "sizeref": 0.355,
          "symbol": "circle"
         },
         "mode": "markers",
         "name": "Pakistan",
         "orientation": "v",
         "showlegend": true,
         "type": "scatter",
         "x": {
          "bdata": "sKw0KeVbpEA=",
          "dtype": "f8"
         },
         "xaxis": "x",
         "y": {
          "bdata": "9P3UeOleUEA=",
          "dtype": "f8"
         },
         "yaxis": "y"
        },
        {
         "hovertemplate": "<b>%{hovertext}</b><br><br>Country or region=Panama<br>GDP per capita=%{x}<br>Score=%{y}<br>Overall rank=%{marker.size}<extra></extra>",
         "hovertext": [
          "Panama"
         ],
         "legendgroup": "Panama",
         "marker": {
          "color": "#FF97FF",
          "size": {
           "bdata": "dw==",
           "dtype": "i1"
          },
          "sizemode": "area",
          "sizeref": 0.355,
          "symbol": "circle"
         },
         "mode": "markers",
         "name": "Panama",
         "orientation": "v",
         "showlegend": true,
         "type": "scatter",
         "x": {
          "bdata": "e6Lrwpcow0A=",
          "dtype": "f8"
         },
         "xaxis": "x",
         "y": {
          "bdata": "7Hw/NV7iUkA=",
          "dtype": "f8"
         },
         "yaxis": "y"
        },
        {
         "hovertemplate": "<b>%{hovertext}</b><br><br>Country or region=Paraguay<br>GDP per capita=%{x}<br>Score=%{y}<br>Overall rank=%{marker.size}<extra></extra>",
         "hovertext": [
          "Paraguay"
         ],
         "legendgroup": "Paraguay",
         "marker": {
          "color": "#FECB52",
          "size": {
           "bdata": "XQ==",
           "dtype": "i1"
          },
          "sizemode": "area",
          "sizeref": 0.355,
          "symbol": "circle"
         },
         "mode": "markers",
         "name": "Paraguay",
         "orientation": "v",
         "showlegend": true,
         "type": "scatter",
         "x": {
          "bdata": "4KKTpdZMsEA=",
          "dtype": "f8"
         },
         "xaxis": "x",
         "y": {
          "bdata": "46WbxCDwUUA=",
          "dtype": "f8"
         },
         "yaxis": "y"
        },
        {
         "hovertemplate": "<b>%{hovertext}</b><br><br>Country or region=Peru<br>GDP per capita=%{x}<br>Score=%{y}<br>Overall rank=%{marker.size}<extra></extra>",
         "hovertext": [
          "Peru"
         ],
         "legendgroup": "Peru",
         "marker": {
          "color": "#636efa",
          "size": {
           "bdata": "Jw==",
           "dtype": "i1"
          },
          "sizemode": "area",
          "sizeref": 0.355,
          "symbol": "circle"
         },
         "mode": "markers",
         "name": "Peru",
         "orientation": "v",
         "showlegend": true,
         "type": "scatter",
         "x": {
          "bdata": "iH/Y0ufwvEA=",
          "dtype": "f8"
         },
         "xaxis": "x",
         "y": {
          "bdata": "bef7qfHaUUA=",
          "dtype": "f8"
         },
         "yaxis": "y"
        },
        {
         "hovertemplate": "<b>%{hovertext}</b><br><br>Country or region=Philippines<br>GDP per capita=%{x}<br>Score=%{y}<br>Overall rank=%{marker.size}<extra></extra>",
         "hovertext": [
          "Philippines"
         ],
         "legendgroup": "Philippines",
         "marker": {
          "color": "#EF553B",
          "size": {
           "bdata": "Cw==",
           "dtype": "i1"
          },
          "sizemode": "area",
          "sizeref": 0.355,
          "symbol": "circle"
         },
         "mode": "markers",
         "name": "Philippines",
         "orientation": "v",
         "showlegend": true,
         "type": "scatter",
         "x": {
          "bdata": "tam6R/bsqEA=",
          "dtype": "f8"
         },
         "xaxis": "x",
         "y": {
          "bdata": "eekmMQjsUUA=",
          "dtype": "f8"
         },
         "yaxis": "y"
        },
        {
         "hovertemplate": "<b>%{hovertext}</b><br><br>Country or region=Poland<br>GDP per capita=%{x}<br>Score=%{y}<br>Overall rank=%{marker.size}<extra></extra>",
         "hovertext": [
          "Poland"
         ],
         "legendgroup": "Poland",
         "marker": {
          "color": "#00cc96",
          "size": {
           "bdata": "Hg==",
           "dtype": "i1"
          },
          "sizemode": "area",
          "sizeref": 0.355,
          "symbol": "circle"
         },
         "mode": "markers",
         "name": "Poland",
         "orientation": "v",
         "showlegend": true,
         "type": "scatter",
         "x": {
          "bdata": "owvqW/YOzkA=",
          "dtype": "f8"
         },
         "xaxis": "x",
         "y": {
          "bdata": "eekmMQjkUkA=",
          "dtype": "f8"
         },
         "yaxis": "y"
        },
        {
         "hovertemplate": "<b>%{hovertext}</b><br><br>Country or region=Portugal<br>GDP per capita=%{x}<br>Score=%{y}<br>Overall rank=%{marker.size}<extra></extra>",
         "hovertext": [
          "Portugal"
         ],
         "legendgroup": "Portugal",
         "marker": {
          "color": "#ab63fa",
          "size": {
           "bdata": "Rw==",
           "dtype": "i1"
          },
          "sizemode": "area",
          "sizeref": 0.355,
          "symbol": "circle"
         },
         "mode": "markers",
         "name": "Portugal",
         "orientation": "v",
         "showlegend": true,
         "type": "scatter",
         "x": {
          "bdata": "VU0QdWkH1EA=",
          "dtype": "f8"
         },
         "xaxis": "x",
         "y": {
          "bdata": "g8DKoUWGU0A=",
          "dtype": "f8"
         },
         "yaxis": "y"
        },
        {
         "hovertemplate": "<b>%{hovertext}</b><br><br>Country or region=Puerto Rico<br>GDP per capita=%{x}<br>Score=%{y}<br>Overall rank=%{marker.size}<extra></extra>",
         "hovertext": [
          "Puerto Rico"
         ],
         "legendgroup": "Puerto Rico",
         "marker": {
          "color": "#FFA15A",
          "size": {
           "bdata": "cQ==",
           "dtype": "i1"
          },
          "sizemode": "area",
          "sizeref": 0.355,
          "symbol": "circle"
         },
         "mode": "markers",
         "name": "Puerto Rico",
         "orientation": "v",
         "showlegend": true,
         "type": "scatter",
         "x": {
          "bdata": "onprYC3g0kA=",
          "dtype": "f8"
         },
         "xaxis": "x",
         "y": {
          "bdata": "O7TIdr6vU0A=",
          "dtype": "f8"
         },
         "yaxis": "y"
        },
        {
         "hovertemplate": "<b>%{hovertext}</b><br><br>Country or region=Reunion<br>GDP per capita=%{x}<br>Score=%{y}<br>Overall rank=%{marker.size}<extra></extra>",
         "hovertext": [
          "Reunion"
         ],
         "legendgroup": "Reunion",
         "marker": {
          "color": "#19d3f3",
          "size": {
           "bdata": "hwA=",
           "dtype": "i2"
          },
          "sizemode": "area",
          "sizeref": 0.355,
          "symbol": "circle"
         },
         "mode": "markers",
         "name": "Reunion",
         "orientation": "v",
         "showlegend": true,
         "type": "scatter",
         "x": {
          "bdata": "3Qn2Xx/2vUA=",
          "dtype": "f8"
         },
         "xaxis": "x",
         "y": {
          "bdata": "PzVeukkcU0A=",
          "dtype": "f8"
         },
         "yaxis": "y"
        },
        {
         "hovertemplate": "<b>%{hovertext}</b><br><br>Country or region=Romania<br>GDP per capita=%{x}<br>Score=%{y}<br>Overall rank=%{marker.size}<extra></extra>",
         "hovertext": [
          "Romania"
         ],
         "legendgroup": "Romania",
         "marker": {
          "color": "#FF6692",
          "size": {
           "bdata": "Lw==",
           "dtype": "i1"
          },
          "sizemode": "area",
          "sizeref": 0.355,
          "symbol": "circle"
         },
         "mode": "markers",
         "name": "Romania",
         "orientation": "v",
         "showlegend": true,
         "type": "scatter",
         "x": {
          "bdata": "09nJ4DwcxUA=",
          "dtype": "f8"
         },
         "xaxis": "x",
         "y": {
          "bdata": "WDm0yHYeUkA=",
          "dtype": "f8"
         },
         "yaxis": "y"
        },
        {
         "hovertemplate": "<b>%{hovertext}</b><br><br>Country or region=Rwanda<br>GDP per capita=%{x}<br>Score=%{y}<br>Overall rank=%{marker.size}<extra></extra>",
         "hovertext": [
          "Rwanda"
         ],
         "legendgroup": "Rwanda",
         "marker": {
          "color": "#B6E880",
          "size": {
           "bdata": "Uw==",
           "dtype": "i1"
          },
          "sizemode": "area",
          "sizeref": 0.355,
          "symbol": "circle"
         },
         "mode": "markers",
         "name": "Rwanda",
         "orientation": "v",
         "showlegend": true,
         "type": "scatter",
         "x": {
          "bdata": "BauPLLX4ikA=",
          "dtype": "f8"
         },
         "xaxis": "x",
         "y": {
          "bdata": "5dAi2/keR0A=",
          "dtype": "f8"
         },
         "yaxis": "y"
        },
        {
         "hovertemplate": "<b>%{hovertext}</b><br><br>Country or region=Sao Tome and Principe<br>GDP per capita=%{x}<br>Score=%{y}<br>Overall rank=%{marker.size}<extra></extra>",
         "hovertext": [
          "Sao Tome and Principe"
         ],
         "legendgroup": "Sao Tome and Principe",
         "marker": {
          "color": "#FF97FF",
          "size": {
           "bdata": "jgA=",
           "dtype": "i2"
          },
          "sizemode": "area",
          "sizeref": 0.355,
          "symbol": "circle"
         },
         "mode": "markers",
         "name": "Sao Tome and Principe",
         "orientation": "v",
         "showlegend": true,
         "type": "scatter",
         "x": {
          "bdata": "Zof4h735mEA=",
          "dtype": "f8"
         },
         "xaxis": "x",
         "y": {
          "bdata": "bxKDwMphUEA=",
          "dtype": "f8"
         },
         "yaxis": "y"
        },
        {
         "hovertemplate": "<b>%{hovertext}</b><br><br>Country or region=Saudi Arabia<br>GDP per capita=%{x}<br>Score=%{y}<br>Overall rank=%{marker.size}<extra></extra>",
         "hovertext": [
          "Saudi Arabia"
         ],
         "legendgroup": "Saudi Arabia",
         "marker": {
          "color": "#FECB52",
          "size": {
           "bdata": "KA==",
           "dtype": "i1"
          },
          "sizemode": "area",
          "sizeref": 0.355,
          "symbol": "circle"
         },
         "mode": "markers",
         "name": "Saudi Arabia",
         "orientation": "v",
         "showlegend": true,
         "type": "scatter",
         "x": {
          "bdata": "D0WBPrUl1UA=",
          "dtype": "f8"
         },
         "xaxis": "x",
         "y": {
          "bdata": "fT81XroxUkA=",
          "dtype": "f8"
         },
         "yaxis": "y"
        },
        {
         "hovertemplate": "<b>%{hovertext}</b><br><br>Country or region=Senegal<br>GDP per capita=%{x}<br>Score=%{y}<br>Overall rank=%{marker.size}<extra></extra>",
         "hovertext": [
          "Senegal"
         ],
         "legendgroup": "Senegal",
         "marker": {
          "color": "#636efa",
          "size": {
           "bdata": "Qg==",
           "dtype": "i1"
          },
          "sizemode": "area",
          "sizeref": 0.355,
          "symbol": "circle"
         },
         "mode": "markers",
         "name": "Senegal",
         "orientation": "v",
         "showlegend": true,
         "type": "scatter",
         "x": {
          "bdata": "D52ed+PBmkA=",
          "dtype": "f8"
         },
         "xaxis": "x",
         "y": {
          "bdata": "Di2yne+HT0A=",
          "dtype": "f8"
         },
         "yaxis": "y"
        },
        {
         "hovertemplate": "<b>%{hovertext}</b><br><br>Country or region=Serbia<br>GDP per capita=%{x}<br>Score=%{y}<br>Overall rank=%{marker.size}<extra></extra>",
         "hovertext": [
          "Serbia"
         ],
         "legendgroup": "Serbia",
         "marker": {
          "color": "#EF553B",
          "size": {
           "bdata": "TA==",
           "dtype": "i1"
          },
          "sizemode": "area",
          "sizeref": 0.355,
          "symbol": "circle"
         },
         "mode": "markers",
         "name": "Serbia",
         "orientation": "v",
         "showlegend": true,
         "type": "scatter",
         "x": {
          "bdata": "WyOCcUQdw0A=",
          "dtype": "f8"
         },
         "xaxis": "x",
         "y": {
          "bdata": "46WbxCCAUkA=",
          "dtype": "f8"
         },
         "yaxis": "y"
        },
        {
         "hovertemplate": "<b>%{hovertext}</b><br><br>Country or region=Sierra Leone<br>GDP per capita=%{x}<br>Score=%{y}<br>Overall rank=%{marker.size}<extra></extra>",
         "hovertext": [
          "Sierra Leone"
         ],
         "legendgroup": "Sierra Leone",
         "marker": {
          "color": "#00cc96",
          "size": {
           "bdata": "Xw==",
           "dtype": "i1"
          },
          "sizemode": "area",
          "sizeref": 0.355,
          "symbol": "circle"
         },
         "mode": "markers",
         "name": "Sierra Leone",
         "orientation": "v",
         "showlegend": true,
         "type": "scatter",
         "x": {
          "bdata": "6CTvd1P0ikA=",
          "dtype": "f8"
         },
         "xaxis": "x",
         "y": {
          "bdata": "ZBBYObRIRUA=",
          "dtype": "f8"
         },
         "yaxis": "y"
        },
        {
         "hovertemplate": "<b>%{hovertext}</b><br><br>Country or region=Singapore<br>GDP per capita=%{x}<br>Score=%{y}<br>Overall rank=%{marker.size}<extra></extra>",
         "hovertext": [
          "Singapore"
         ],
         "legendgroup": "Singapore",
         "marker": {
          "color": "#ab63fa",
          "size": {
           "bdata": "aQ==",
           "dtype": "i1"
          },
          "sizemode": "area",
          "sizeref": 0.355,
          "symbol": "circle"
         },
         "mode": "markers",
         "name": "Singapore",
         "orientation": "v",
         "showlegend": true,
         "type": "scatter",
         "x": {
          "bdata": "omKcv+UE50A=",
          "dtype": "f8"
         },
         "xaxis": "x",
         "y": {
          "bdata": "ke18PzX+U0A=",
          "dtype": "f8"
         },
         "yaxis": "y"
        },
        {
         "hovertemplate": "<b>%{hovertext}</b><br><br>Country or region=Slovak Republic<br>GDP per capita=%{x}<br>Score=%{y}<br>Overall rank=%{marker.size}<extra></extra>",
         "hovertext": [
          "Slovak Republic"
         ],
         "legendgroup": "Slovak Republic",
         "marker": {
          "color": "#FFA15A",
          "size": {
           "bdata": "ZQ==",
           "dtype": "i1"
          },
          "sizemode": "area",
          "sizeref": 0.355,
          "symbol": "circle"
         },
         "mode": "markers",
         "name": "Slovak Republic",
         "orientation": "v",
         "showlegend": true,
         "type": "scatter",
         "x": {
          "bdata": "YHZPHpQ90kA=",
          "dtype": "f8"
         },
         "xaxis": "x",
         "y": {
          "bdata": "30+Nl26qUkA=",
          "dtype": "f8"
         },
         "yaxis": "y"
        },
        {
         "hovertemplate": "<b>%{hovertext}</b><br><br>Country or region=Slovenia<br>GDP per capita=%{x}<br>Score=%{y}<br>Overall rank=%{marker.size}<extra></extra>",
         "hovertext": [
          "Slovenia"
         ],
         "legendgroup": "Slovenia",
         "marker": {
          "color": "#19d3f3",
          "size": {
           "bdata": "fw==",
           "dtype": "i1"
          },
          "sizemode": "area",
          "sizeref": 0.355,
          "symbol": "circle"
         },
         "mode": "markers",
         "name": "Slovenia",
         "orientation": "v",
         "showlegend": true,
         "type": "scatter",
         "x": {
          "bdata": "csRafBAq2UA=",
          "dtype": "f8"
         },
         "xaxis": "x",
         "y": {
          "bdata": "JQaBlUN7U0A=",
          "dtype": "f8"
         },
         "yaxis": "y"
        },
        {
         "hovertemplate": "<b>%{hovertext}</b><br><br>Country or region=Somalia<br>GDP per capita=%{x}<br>Score=%{y}<br>Overall rank=%{marker.size}<extra></extra>",
         "hovertext": [
          "Somalia"
         ],
         "legendgroup": "Somalia",
         "marker": {
          "color": "#FF6692",
          "size": {
           "bdata": "UQ==",
           "dtype": "i1"
          },
          "sizemode": "area",
          "sizeref": 0.355,
          "symbol": "circle"
         },
         "mode": "markers",
         "name": "Somalia",
         "orientation": "v",
         "showlegend": true,
         "type": "scatter",
         "x": {
          "bdata": "Bbhq6CDxjEA=",
          "dtype": "f8"
         },
         "xaxis": "x",
         "y": {
          "bdata": "MQisHFoUSEA=",
          "dtype": "f8"
         },
         "yaxis": "y"
        },
        {
         "hovertemplate": "<b>%{hovertext}</b><br><br>Country or region=South Africa<br>GDP per capita=%{x}<br>Score=%{y}<br>Overall rank=%{marker.size}<extra></extra>",
         "hovertext": [
          "South Africa"
         ],
         "legendgroup": "South Africa",
         "marker": {
          "color": "#B6E880",
          "size": {
           "bdata": "Gg==",
           "dtype": "i1"
          },
          "sizemode": "area",
          "sizeref": 0.355,
          "symbol": "circle"
         },
         "mode": "markers",
         "name": "South Africa",
         "orientation": "v",
         "showlegend": true,
         "type": "scatter",
         "x": {
          "bdata": "hnMNM9QawkA=",
          "dtype": "f8"
         },
         "xaxis": "x",
         "y": {
          "bdata": "CKwcWmSrSEA=",
          "dtype": "f8"
         },
         "yaxis": "y"
        },
        {
         "hovertemplate": "<b>%{hovertext}</b><br><br>Country or region=Spain<br>GDP per capita=%{x}<br>Score=%{y}<br>Overall rank=%{marker.size}<extra></extra>",
         "hovertext": [
          "Spain"
         ],
         "legendgroup": "Spain",
         "marker": {
          "color": "#FF97FF",
          "size": {
           "bdata": "HA==",
           "dtype": "i1"
          },
          "sizemode": "area",
          "sizeref": 0.355,
          "symbol": "circle"
         },
         "mode": "markers",
         "name": "Spain",
         "orientation": "v",
         "showlegend": true,
         "type": "scatter",
         "x": {
          "bdata": "MCqpE0Ql3EA=",
          "dtype": "f8"
         },
         "xaxis": "x",
         "y": {
          "bdata": "TmIQWDk8VEA=",
          "dtype": "f8"
         },
         "yaxis": "y"
        },
        {
         "hovertemplate": "<b>%{hovertext}</b><br><br>Country or region=Sri Lanka<br>GDP per capita=%{x}<br>Score=%{y}<br>Overall rank=%{marker.size}<extra></extra>",
         "hovertext": [
          "Sri Lanka"
         ],
         "legendgroup": "Sri Lanka",
         "marker": {
          "color": "#FECB52",
          "size": {
           "bdata": "Mg==",
           "dtype": "i1"
          },
          "sizemode": "area",
          "sizeref": 0.355,
          "symbol": "circle"
         },
         "mode": "markers",
         "name": "Sri Lanka",
         "orientation": "v",
         "showlegend": true,
         "type": "scatter",
         "x": {
          "bdata": "nrEv2TAEr0A=",
          "dtype": "f8"
         },
         "xaxis": "x",
         "y": {
          "bdata": "001iEFgZUkA=",
          "dtype": "f8"
         },
         "yaxis": "y"
        },
        {
         "hovertemplate": "<b>%{hovertext}</b><br><br>Country or region=Sudan<br>GDP per capita=%{x}<br>Score=%{y}<br>Overall rank=%{marker.size}<extra></extra>",
         "hovertext": [
          "Sudan"
         ],
         "legendgroup": "Sudan",
         "marker": {
          "color": "#636efa",
          "size": {
           "bdata": "Gw==",
           "dtype": "i1"
          },
          "sizemode": "area",
          "sizeref": 0.355,
          "symbol": "circle"
         },
         "mode": "markers",
         "name": "Sudan",
         "orientation": "v",
         "showlegend": true,
         "type": "scatter",
         "x": {
          "bdata": "K97IPMpUpEA=",
          "dtype": "f8"
         },
         "xaxis": "x",
         "y": {
          "bdata": "ukkMAitHTUA=",
          "dtype": "f8"
         },
         "yaxis": "y"
        },
        {
         "hovertemplate": "<b>%{hovertext}</b><br><br>Country or region=Swaziland<br>GDP per capita=%{x}<br>Score=%{y}<br>Overall rank=%{marker.size}<extra></extra>",
         "hovertext": [
          "Swaziland"
         ],
         "legendgroup": "Swaziland",
         "marker": {
          "color": "#EF553B",
          "size": {
           "bdata": "hQA=",
           "dtype": "i2"
          },
          "sizemode": "area",
          "sizeref": 0.355,
          "symbol": "circle"
         },
         "mode": "markers",
         "name": "Swaziland",
         "orientation": "v",
         "showlegend": true,
         "type": "scatter",
         "x": {
          "bdata": "DW5rC3uhsUA=",
          "dtype": "f8"
         },
         "xaxis": "x",
         "y": {
          "bdata": "WDm0yHbOQ0A=",
          "dtype": "f8"
         },
         "yaxis": "y"
        },
        {
         "hovertemplate": "<b>%{hovertext}</b><br><br>Country or region=Sweden<br>GDP per capita=%{x}<br>Score=%{y}<br>Overall rank=%{marker.size}<extra></extra>",
         "hovertext": [
          "Sweden"
         ],
         "legendgroup": "Sweden",
         "marker": {
          "color": "#00cc96",
          "size": {
           "bdata": "Ug==",
           "dtype": "i1"
          },
          "sizemode": "area",
          "sizeref": 0.355,
          "symbol": "circle"
         },
         "mode": "markers",
         "name": "Sweden",
         "orientation": "v",
         "showlegend": true,
         "type": "scatter",
         "x": {
          "bdata": "/7J78neI4EA=",
          "dtype": "f8"
         },
         "xaxis": "x",
         "y": {
          "bdata": "f2q8dJM4VEA=",
          "dtype": "f8"
         },
         "yaxis": "y"
        },
        {
         "hovertemplate": "<b>%{hovertext}</b><br><br>Country or region=Switzerland<br>GDP per capita=%{x}<br>Score=%{y}<br>Overall rank=%{marker.size}<extra></extra>",
         "hovertext": [
          "Switzerland"
         ],
         "legendgroup": "Switzerland",
         "marker": {
          "color": "#ab63fa",
          "size": {
           "bdata": "WA==",
           "dtype": "i1"
          },
          "sizemode": "area",
          "sizeref": 0.355,
          "symbol": "circle"
         },
         "mode": "markers",
         "name": "Switzerland",
         "orientation": "v",
         "showlegend": true,
         "type": "scatter",
         "x": {
          "bdata": "GH0FaU1Q4kA=",
          "dtype": "f8"
         },
         "xaxis": "x",
         "y": {
          "bdata": "wJ8aL91sVEA=",
          "dtype": "f8"
         },
         "yaxis": "y"
        },
        {
         "hovertemplate": "<b>%{hovertext}</b><br><br>Country or region=Syria<br>GDP per capita=%{x}<br>Score=%{y}<br>Overall rank=%{marker.size}<extra></extra>",
         "hovertext": [
          "Syria"
         ],
         "legendgroup": "Syria",
         "marker": {
          "color": "#FFA15A",
          "size": {
           "bdata": "NA==",
           "dtype": "i1"
          },
          "sizemode": "area",
          "sizeref": 0.355,
          "symbol": "circle"
         },
         "mode": "markers",
         "name": "Syria",
         "orientation": "v",
         "showlegend": true,
         "type": "scatter",
         "x": {
          "bdata": "TIqPT4xYsEA=",
          "dtype": "f8"
         },
         "xaxis": "x",
         "y": {
          "bdata": "/tR46SaJUkA=",
          "dtype": "f8"
         },
         "yaxis": "y"
        },
        {
         "hovertemplate": "<b>%{hovertext}</b><br><br>Country or region=Taiwan<br>GDP per capita=%{x}<br>Score=%{y}<br>Overall rank=%{marker.size}<extra></extra>",
         "hovertext": [
          "Taiwan"
         ],
         "legendgroup": "Taiwan",
         "marker": {
          "color": "#19d3f3",
          "size": {
           "bdata": "LQ==",
           "dtype": "i1"
          },
          "sizemode": "area",
          "sizeref": 0.355,
          "symbol": "circle"
         },
         "mode": "markers",
         "name": "Taiwan",
         "orientation": "v",
         "showlegend": true,
         "type": "scatter",
         "x": {
          "bdata": "jh6/t5EL3EA=",
          "dtype": "f8"
         },
         "xaxis": "x",
         "y": {
          "bdata": "mpmZmZmZU0A=",
          "dtype": "f8"
         },
         "yaxis": "y"
        },
        {
         "hovertemplate": "<b>%{hovertext}</b><br><br>Country or region=Tanzania<br>GDP per capita=%{x}<br>Score=%{y}<br>Overall rank=%{marker.size}<extra></extra>",
         "hovertext": [
          "Tanzania"
         ],
         "legendgroup": "Tanzania",
         "marker": {
          "color": "#FF6692",
          "size": {
           "bdata": "Hw==",
           "dtype": "i1"
          },
          "sizemode": "area",
          "sizeref": 0.355,
          "symbol": "circle"
         },
         "mode": "markers",
         "name": "Tanzania",
         "orientation": "v",
         "showlegend": true,
         "type": "scatter",
         "x": {
          "bdata": "4UIewe1NkUA=",
          "dtype": "f8"
         },
         "xaxis": "x",
         "y": {
          "bdata": "GQRWDi1CSkA=",
          "dtype": "f8"
         },
         "yaxis": "y"
        },
        {
         "hovertemplate": "<b>%{hovertext}</b><br><br>Country or region=Thailand<br>GDP per capita=%{x}<br>Score=%{y}<br>Overall rank=%{marker.size}<extra></extra>",
         "hovertext": [
          "Thailand"
         ],
         "legendgroup": "Thailand",
         "marker": {
          "color": "#B6E880",
          "size": {
           "bdata": "Eg==",
           "dtype": "i1"
          },
          "sizemode": "area",
          "sizeref": 0.355,
          "symbol": "circle"
         },
         "mode": "markers",
         "name": "Thailand",
         "orientation": "v",
         "showlegend": true,
         "type": "scatter",
         "x": {
          "bdata": "g6+vdWUivUA=",
          "dtype": "f8"
         },
         "xaxis": "x",
         "y": {
          "bdata": "gZVDi2ynUUA=",
          "dtype": "f8"
         },
         "yaxis": "y"
        },
        {
         "hovertemplate": "<b>%{hovertext}</b><br><br>Country or region=Togo<br>GDP per capita=%{x}<br>Score=%{y}<br>Overall rank=%{marker.size}<extra></extra>",
         "hovertext": [
          "Togo"
         ],
         "legendgroup": "Togo",
         "marker": {
          "color": "#FF97FF",
          "size": {
           "bdata": "Yg==",
           "dtype": "i1"
          },
          "sizemode": "area",
          "sizeref": 0.355,
          "symbol": "circle"
         },
         "mode": "markers",
         "name": "Togo",
         "orientation": "v",
         "showlegend": true,
         "type": "scatter",
         "x": {
          "bdata": "qR/lccKXi0A=",
          "dtype": "f8"
         },
         "xaxis": "x",
         "y": {
          "bdata": "9ihcj8I1TUA=",
          "dtype": "f8"
         },
         "yaxis": "y"
        },
        {
         "hovertemplate": "<b>%{hovertext}</b><br><br>Country or region=Trinidad and Tobago<br>GDP per capita=%{x}<br>Score=%{y}<br>Overall rank=%{marker.size}<extra></extra>",
         "hovertext": [
          "Trinidad and Tobago"
         ],
         "legendgroup": "Trinidad and Tobago",
         "marker": {
          "color": "#FECB52",
          "size": {
           "bdata": "hgA=",
           "dtype": "i2"
          },
          "sizemode": "area",
          "sizeref": 0.355,
          "symbol": "circle"
         },
         "mode": "markers",
         "name": "Trinidad and Tobago",
         "orientation": "v",
         "showlegend": true,
         "type": "scatter",
         "x": {
          "bdata": "dF5jlyCW0UA=",
          "dtype": "f8"
         },
         "xaxis": "x",
         "y": {
          "bdata": "I9v5fmp0UUA=",
          "dtype": "f8"
         },
         "yaxis": "y"
        },
        {
         "hovertemplate": "<b>%{hovertext}</b><br><br>Country or region=Tunisia<br>GDP per capita=%{x}<br>Score=%{y}<br>Overall rank=%{marker.size}<extra></extra>",
         "hovertext": [
          "Tunisia"
         ],
         "legendgroup": "Tunisia",
         "marker": {
          "color": "#636efa",
          "size": {
           "bdata": "SQ==",
           "dtype": "i1"
          },
          "sizemode": "area",
          "sizeref": 0.355,
          "symbol": "circle"
         },
         "mode": "markers",
         "name": "Tunisia",
         "orientation": "v",
         "showlegend": true,
         "type": "scatter",
         "x": {
          "bdata": "ZMxdS+y0u0A=",
          "dtype": "f8"
         },
         "xaxis": "x",
         "y": {
          "bdata": "UI2XbhJ7UkA=",
          "dtype": "f8"
         },
         "yaxis": "y"
        },
        {
         "hovertemplate": "<b>%{hovertext}</b><br><br>Country or region=Turkey<br>GDP per capita=%{x}<br>Score=%{y}<br>Overall rank=%{marker.size}<extra></extra>",
         "hovertext": [
          "Turkey"
         ],
         "legendgroup": "Turkey",
         "marker": {
          "color": "#EF553B",
          "size": {
           "bdata": "EA==",
           "dtype": "i1"
          },
          "sizemode": "area",
          "sizeref": 0.355,
          "symbol": "circle"
         },
         "mode": "markers",
         "name": "Turkey",
         "orientation": "v",
         "showlegend": true,
         "type": "scatter",
         "x": {
          "bdata": "kgiNYCOFwEA=",
          "dtype": "f8"
         },
         "xaxis": "x",
         "y": {
          "bdata": "fT81XrrxUUA=",
          "dtype": "f8"
         },
         "yaxis": "y"
        },
        {
         "hovertemplate": "<b>%{hovertext}</b><br><br>Country or region=Uganda<br>GDP per capita=%{x}<br>Score=%{y}<br>Overall rank=%{marker.size}<extra></extra>",
         "hovertext": [
          "Uganda"
         ],
         "legendgroup": "Uganda",
         "marker": {
          "color": "#00cc96",
          "size": {
           "bdata": "JQ==",
           "dtype": "i1"
          },
          "sizemode": "area",
          "sizeref": 0.355,
          "symbol": "circle"
         },
         "mode": "markers",
         "name": "Uganda",
         "orientation": "v",
         "showlegend": true,
         "type": "scatter",
         "x": {
          "bdata": "F35wPoWBkEA=",
          "dtype": "f8"
         },
         "xaxis": "x",
         "y": {
          "bdata": "TDeJQWDFSUA=",
          "dtype": "f8"
         },
         "yaxis": "y"
        },
        {
         "hovertemplate": "<b>%{hovertext}</b><br><br>Country or region=United Kingdom<br>GDP per capita=%{x}<br>Score=%{y}<br>Overall rank=%{marker.size}<extra></extra>",
         "hovertext": [
          "United Kingdom"
         ],
         "legendgroup": "United Kingdom",
         "marker": {
          "color": "#ab63fa",
          "size": {
           "bdata": "FQ==",
           "dtype": "i1"
          },
          "sizemode": "area",
          "sizeref": 0.355,
          "symbol": "circle"
         },
         "mode": "markers",
         "name": "United Kingdom",
         "orientation": "v",
         "showlegend": true,
         "type": "scatter",
         "x": {
          "bdata": "499nXGg24EA=",
          "dtype": "f8"
         },
         "xaxis": "x",
         "y": {
          "bdata": "MzMzMzPbU0A=",
          "dtype": "f8"
         },
         "yaxis": "y"
        },
        {
         "hovertemplate": "<b>%{hovertext}</b><br><br>Country or region=United States<br>GDP per capita=%{x}<br>Score=%{y}<br>Overall rank=%{marker.size}<extra></extra>",
         "hovertext": [
          "United States"
         ],
         "legendgroup": "United States",
         "marker": {
          "color": "#FFA15A",
          "size": {
           "bdata": "Aw==",
           "dtype": "i1"
          },
          "sizemode": "area",
          "sizeref": 0.355,
          "symbol": "circle"
         },
         "mode": "markers",
         "name": "United States",
         "orientation": "v",
         "showlegend": true,
         "type": "scatter",
         "x": {
          "bdata": "6/8c5vT45EA=",
          "dtype": "f8"
         },
         "xaxis": "x",
         "y": {
          "bdata": "c2iR7XyPU0A=",
          "dtype": "f8"
         },
         "yaxis": "y"
        },
        {
         "hovertemplate": "<b>%{hovertext}</b><br><br>Country or region=Uruguay<br>GDP per capita=%{x}<br>Score=%{y}<br>Overall rank=%{marker.size}<extra></extra>",
         "hovertext": [
          "Uruguay"
         ],
         "legendgroup": "Uruguay",
         "marker": {
          "color": "#19d3f3",
          "size": {
           "bdata": "dQ==",
           "dtype": "i1"
          },
          "sizemode": "area",
          "sizeref": 0.355,
          "symbol": "circle"
         },
         "mode": "markers",
         "name": "Uruguay",
         "orientation": "v",
         "showlegend": true,
         "type": "scatter",
         "x": {
          "bdata": "MJ5BQ7u5xEA=",
          "dtype": "f8"
         },
         "xaxis": "x",
         "y": {
          "bdata": "f2q8dJMYU0A=",
          "dtype": "f8"
         },
         "yaxis": "y"
        },
        {
         "hovertemplate": "<b>%{hovertext}</b><br><br>Country or region=Venezuela<br>GDP per capita=%{x}<br>Score=%{y}<br>Overall rank=%{marker.size}<extra></extra>",
         "hovertext": [
          "Venezuela"
         ],
         "legendgroup": "Venezuela",
         "marker": {
          "color": "#FF6692",
          "size": {
           "bdata": "Kg==",
           "dtype": "i1"
          },
          "sizemode": "area",
          "sizeref": 0.355,
          "symbol": "circle"
         },
         "mode": "markers",
         "name": "Venezuela",
         "orientation": "v",
         "showlegend": true,
         "type": "scatter",
         "x": {
          "bdata": "W5TZIOdLxkA=",
          "dtype": "f8"
         },
         "xaxis": "x",
         "y": {
          "bdata": "K4cW2c5vUkA=",
          "dtype": "f8"
         },
         "yaxis": "y"
        },
        {
         "hovertemplate": "<b>%{hovertext}</b><br><br>Country or region=Vietnam<br>GDP per capita=%{x}<br>Score=%{y}<br>Overall rank=%{marker.size}<extra></extra>",
         "hovertext": [
          "Vietnam"
         ],
         "legendgroup": "Vietnam",
         "marker": {
          "color": "#B6E880",
          "size": {
           "bdata": "DA==",
           "dtype": "i1"
          },
          "sizemode": "area",
          "sizeref": 0.355,
          "symbol": "circle"
         },
         "mode": "markers",
         "name": "Vietnam",
         "orientation": "v",
         "showlegend": true,
         "type": "scatter",
         "x": {
          "bdata": "kdJsHicTo0A=",
          "dtype": "f8"
         },
         "xaxis": "x",
         "y": {
          "bdata": "Di2yne+PUkA=",
          "dtype": "f8"
         },
         "yaxis": "y"
        },
        {
         "hovertemplate": "<b>%{hovertext}</b><br><br>Country or region=West Bank and Gaza<br>GDP per capita=%{x}<br>Score=%{y}<br>Overall rank=%{marker.size}<extra></extra>",
         "hovertext": [
          "West Bank and Gaza"
         ],
         "legendgroup": "West Bank and Gaza",
         "marker": {
          "color": "#FF97FF",
          "size": {
           "bdata": "cA==",
           "dtype": "i1"
          },
          "sizemode": "area",
          "sizeref": 0.355,
          "symbol": "circle"
         },
         "mode": "markers",
         "name": "West Bank and Gaza",
         "orientation": "v",
         "showlegend": true,
         "type": "scatter",
         "x": {
          "bdata": "ajS5GLOip0A=",
          "dtype": "f8"
         },
         "xaxis": "x",
         "y": {
          "bdata": "XrpJDAJbUkA=",
          "dtype": "f8"
         },
         "yaxis": "y"
        },
        {
         "hovertemplate": "<b>%{hovertext}</b><br><br>Country or region=Yemen, Rep.<br>GDP per capita=%{x}<br>Score=%{y}<br>Overall rank=%{marker.size}<extra></extra>",
         "hovertext": [
          "Yemen, Rep."
         ],
         "legendgroup": "Yemen, Rep.",
         "marker": {
          "color": "#FECB52",
          "size": {
           "bdata": "MA==",
           "dtype": "i1"
          },
          "sizemode": "area",
          "sizeref": 0.355,
          "symbol": "circle"
         },
         "mode": "markers",
         "name": "Yemen, Rep.",
         "orientation": "v",
         "showlegend": true,
         "type": "scatter",
         "x": {
          "bdata": "/YUeMYrRoUA=",
          "dtype": "f8"
         },
         "xaxis": "x",
         "y": {
          "bdata": "001iEFhZT0A=",
          "dtype": "f8"
         },
         "yaxis": "y"
        },
        {
         "hovertemplate": "<b>%{hovertext}</b><br><br>Country or region=Zambia<br>GDP per capita=%{x}<br>Score=%{y}<br>Overall rank=%{marker.size}<extra></extra>",
         "hovertext": [
          "Zambia"
         ],
         "legendgroup": "Zambia",
         "marker": {
          "color": "#636efa",
          "size": {
           "bdata": "RA==",
           "dtype": "i1"
          },
          "sizemode": "area",
          "sizeref": 0.355,
          "symbol": "circle"
         },
         "mode": "markers",
         "name": "Zambia",
         "orientation": "v",
         "showlegend": true,
         "type": "scatter",
         "x": {
          "bdata": "QNzVq9jck0A=",
          "dtype": "f8"
         },
         "xaxis": "x",
         "y": {
          "bdata": "/dR46SYxRUA=",
          "dtype": "f8"
         },
         "yaxis": "y"
        },
        {
         "hovertemplate": "<b>%{hovertext}</b><br><br>Country or region=Zimbabwe<br>GDP per capita=%{x}<br>Score=%{y}<br>Overall rank=%{marker.size}<extra></extra>",
         "hovertext": [
          "Zimbabwe"
         ],
         "legendgroup": "Zimbabwe",
         "marker": {
          "color": "#EF553B",
          "size": {
           "bdata": "QQ==",
           "dtype": "i1"
          },
          "sizemode": "area",
          "sizeref": 0.355,
          "symbol": "circle"
         },
         "mode": "markers",
         "name": "Zimbabwe",
         "orientation": "v",
         "showlegend": true,
         "type": "scatter",
         "x": {
          "bdata": "2On2SFlbfUA=",
          "dtype": "f8"
         },
         "xaxis": "x",
         "y": {
          "bdata": "dZMYBFa+RUA=",
          "dtype": "f8"
         },
         "yaxis": "y"
        }
       ],
       "layout": {
        "annotations": [
         {
          "arrowhead": 2,
          "ax": 20,
          "ay": -40,
          "showarrow": true,
          "text": "Taiwan",
          "x": 28718.27684,
          "y": 78.4
         }
        ],
        "legend": {
         "itemsizing": "constant",
         "title": {
          "text": "Country or region"
         },
         "tracegroupgap": 0
        },
        "template": {
         "data": {
          "bar": [
           {
            "error_x": {
             "color": "#2a3f5f"
            },
            "error_y": {
             "color": "#2a3f5f"
            },
            "marker": {
             "line": {
              "color": "#E5ECF6",
              "width": 0.5
             },
             "pattern": {
              "fillmode": "overlay",
              "size": 10,
              "solidity": 0.2
             }
            },
            "type": "bar"
           }
          ],
          "barpolar": [
           {
            "marker": {
             "line": {
              "color": "#E5ECF6",
              "width": 0.5
             },
             "pattern": {
              "fillmode": "overlay",
              "size": 10,
              "solidity": 0.2
             }
            },
            "type": "barpolar"
           }
          ],
          "carpet": [
           {
            "aaxis": {
             "endlinecolor": "#2a3f5f",
             "gridcolor": "white",
             "linecolor": "white",
             "minorgridcolor": "white",
             "startlinecolor": "#2a3f5f"
            },
            "baxis": {
             "endlinecolor": "#2a3f5f",
             "gridcolor": "white",
             "linecolor": "white",
             "minorgridcolor": "white",
             "startlinecolor": "#2a3f5f"
            },
            "type": "carpet"
           }
          ],
          "choropleth": [
           {
            "colorbar": {
             "outlinewidth": 0,
             "ticks": ""
            },
            "type": "choropleth"
           }
          ],
          "contour": [
           {
            "colorbar": {
             "outlinewidth": 0,
             "ticks": ""
            },
            "colorscale": [
             [
              0,
              "#0d0887"
             ],
             [
              0.1111111111111111,
              "#46039f"
             ],
             [
              0.2222222222222222,
              "#7201a8"
             ],
             [
              0.3333333333333333,
              "#9c179e"
             ],
             [
              0.4444444444444444,
              "#bd3786"
             ],
             [
              0.5555555555555556,
              "#d8576b"
             ],
             [
              0.6666666666666666,
              "#ed7953"
             ],
             [
              0.7777777777777778,
              "#fb9f3a"
             ],
             [
              0.8888888888888888,
              "#fdca26"
             ],
             [
              1,
              "#f0f921"
             ]
            ],
            "type": "contour"
           }
          ],
          "contourcarpet": [
           {
            "colorbar": {
             "outlinewidth": 0,
             "ticks": ""
            },
            "type": "contourcarpet"
           }
          ],
          "heatmap": [
           {
            "colorbar": {
             "outlinewidth": 0,
             "ticks": ""
            },
            "colorscale": [
             [
              0,
              "#0d0887"
             ],
             [
              0.1111111111111111,
              "#46039f"
             ],
             [
              0.2222222222222222,
              "#7201a8"
             ],
             [
              0.3333333333333333,
              "#9c179e"
             ],
             [
              0.4444444444444444,
              "#bd3786"
             ],
             [
              0.5555555555555556,
              "#d8576b"
             ],
             [
              0.6666666666666666,
              "#ed7953"
             ],
             [
              0.7777777777777778,
              "#fb9f3a"
             ],
             [
              0.8888888888888888,
              "#fdca26"
             ],
             [
              1,
              "#f0f921"
             ]
            ],
            "type": "heatmap"
           }
          ],
          "histogram": [
           {
            "marker": {
             "pattern": {
              "fillmode": "overlay",
              "size": 10,
              "solidity": 0.2
             }
            },
            "type": "histogram"
           }
          ],
          "histogram2d": [
           {
            "colorbar": {
             "outlinewidth": 0,
             "ticks": ""
            },
            "colorscale": [
             [
              0,
              "#0d0887"
             ],
             [
              0.1111111111111111,
              "#46039f"
             ],
             [
              0.2222222222222222,
              "#7201a8"
             ],
             [
              0.3333333333333333,
              "#9c179e"
             ],
             [
              0.4444444444444444,
              "#bd3786"
             ],
             [
              0.5555555555555556,
              "#d8576b"
             ],
             [
              0.6666666666666666,
              "#ed7953"
             ],
             [
              0.7777777777777778,
              "#fb9f3a"
             ],
             [
              0.8888888888888888,
              "#fdca26"
             ],
             [
              1,
              "#f0f921"
             ]
            ],
            "type": "histogram2d"
           }
          ],
          "histogram2dcontour": [
           {
            "colorbar": {
             "outlinewidth": 0,
             "ticks": ""
            },
            "colorscale": [
             [
              0,
              "#0d0887"
             ],
             [
              0.1111111111111111,
              "#46039f"
             ],
             [
              0.2222222222222222,
              "#7201a8"
             ],
             [
              0.3333333333333333,
              "#9c179e"
             ],
             [
              0.4444444444444444,
              "#bd3786"
             ],
             [
              0.5555555555555556,
              "#d8576b"
             ],
             [
              0.6666666666666666,
              "#ed7953"
             ],
             [
              0.7777777777777778,
              "#fb9f3a"
             ],
             [
              0.8888888888888888,
              "#fdca26"
             ],
             [
              1,
              "#f0f921"
             ]
            ],
            "type": "histogram2dcontour"
           }
          ],
          "mesh3d": [
           {
            "colorbar": {
             "outlinewidth": 0,
             "ticks": ""
            },
            "type": "mesh3d"
           }
          ],
          "parcoords": [
           {
            "line": {
             "colorbar": {
              "outlinewidth": 0,
              "ticks": ""
             }
            },
            "type": "parcoords"
           }
          ],
          "pie": [
           {
            "automargin": true,
            "type": "pie"
           }
          ],
          "scatter": [
           {
            "fillpattern": {
             "fillmode": "overlay",
             "size": 10,
             "solidity": 0.2
            },
            "type": "scatter"
           }
          ],
          "scatter3d": [
           {
            "line": {
             "colorbar": {
              "outlinewidth": 0,
              "ticks": ""
             }
            },
            "marker": {
             "colorbar": {
              "outlinewidth": 0,
              "ticks": ""
             }
            },
            "type": "scatter3d"
           }
          ],
          "scattercarpet": [
           {
            "marker": {
             "colorbar": {
              "outlinewidth": 0,
              "ticks": ""
             }
            },
            "type": "scattercarpet"
           }
          ],
          "scattergeo": [
           {
            "marker": {
             "colorbar": {
              "outlinewidth": 0,
              "ticks": ""
             }
            },
            "type": "scattergeo"
           }
          ],
          "scattergl": [
           {
            "marker": {
             "colorbar": {
              "outlinewidth": 0,
              "ticks": ""
             }
            },
            "type": "scattergl"
           }
          ],
          "scattermap": [
           {
            "marker": {
             "colorbar": {
              "outlinewidth": 0,
              "ticks": ""
             }
            },
            "type": "scattermap"
           }
          ],
          "scattermapbox": [
           {
            "marker": {
             "colorbar": {
              "outlinewidth": 0,
              "ticks": ""
             }
            },
            "type": "scattermapbox"
           }
          ],
          "scatterpolar": [
           {
            "marker": {
             "colorbar": {
              "outlinewidth": 0,
              "ticks": ""
             }
            },
            "type": "scatterpolar"
           }
          ],
          "scatterpolargl": [
           {
            "marker": {
             "colorbar": {
              "outlinewidth": 0,
              "ticks": ""
             }
            },
            "type": "scatterpolargl"
           }
          ],
          "scatterternary": [
           {
            "marker": {
             "colorbar": {
              "outlinewidth": 0,
              "ticks": ""
             }
            },
            "type": "scatterternary"
           }
          ],
          "surface": [
           {
            "colorbar": {
             "outlinewidth": 0,
             "ticks": ""
            },
            "colorscale": [
             [
              0,
              "#0d0887"
             ],
             [
              0.1111111111111111,
              "#46039f"
             ],
             [
              0.2222222222222222,
              "#7201a8"
             ],
             [
              0.3333333333333333,
              "#9c179e"
             ],
             [
              0.4444444444444444,
              "#bd3786"
             ],
             [
              0.5555555555555556,
              "#d8576b"
             ],
             [
              0.6666666666666666,
              "#ed7953"
             ],
             [
              0.7777777777777778,
              "#fb9f3a"
             ],
             [
              0.8888888888888888,
              "#fdca26"
             ],
             [
              1,
              "#f0f921"
             ]
            ],
            "type": "surface"
           }
          ],
          "table": [
           {
            "cells": {
             "fill": {
              "color": "#EBF0F8"
             },
             "line": {
              "color": "white"
             }
            },
            "header": {
             "fill": {
              "color": "#C8D4E3"
             },
             "line": {
              "color": "white"
             }
            },
            "type": "table"
           }
          ]
         },
         "layout": {
          "annotationdefaults": {
           "arrowcolor": "#2a3f5f",
           "arrowhead": 0,
           "arrowwidth": 1
          },
          "autotypenumbers": "strict",
          "coloraxis": {
           "colorbar": {
            "outlinewidth": 0,
            "ticks": ""
           }
          },
          "colorscale": {
           "diverging": [
            [
             0,
             "#8e0152"
            ],
            [
             0.1,
             "#c51b7d"
            ],
            [
             0.2,
             "#de77ae"
            ],
            [
             0.3,
             "#f1b6da"
            ],
            [
             0.4,
             "#fde0ef"
            ],
            [
             0.5,
             "#f7f7f7"
            ],
            [
             0.6,
             "#e6f5d0"
            ],
            [
             0.7,
             "#b8e186"
            ],
            [
             0.8,
             "#7fbc41"
            ],
            [
             0.9,
             "#4d9221"
            ],
            [
             1,
             "#276419"
            ]
           ],
           "sequential": [
            [
             0,
             "#0d0887"
            ],
            [
             0.1111111111111111,
             "#46039f"
            ],
            [
             0.2222222222222222,
             "#7201a8"
            ],
            [
             0.3333333333333333,
             "#9c179e"
            ],
            [
             0.4444444444444444,
             "#bd3786"
            ],
            [
             0.5555555555555556,
             "#d8576b"
            ],
            [
             0.6666666666666666,
             "#ed7953"
            ],
            [
             0.7777777777777778,
             "#fb9f3a"
            ],
            [
             0.8888888888888888,
             "#fdca26"
            ],
            [
             1,
             "#f0f921"
            ]
           ],
           "sequentialminus": [
            [
             0,
             "#0d0887"
            ],
            [
             0.1111111111111111,
             "#46039f"
            ],
            [
             0.2222222222222222,
             "#7201a8"
            ],
            [
             0.3333333333333333,
             "#9c179e"
            ],
            [
             0.4444444444444444,
             "#bd3786"
            ],
            [
             0.5555555555555556,
             "#d8576b"
            ],
            [
             0.6666666666666666,
             "#ed7953"
            ],
            [
             0.7777777777777778,
             "#fb9f3a"
            ],
            [
             0.8888888888888888,
             "#fdca26"
            ],
            [
             1,
             "#f0f921"
            ]
           ]
          },
          "colorway": [
           "#636efa",
           "#EF553B",
           "#00cc96",
           "#ab63fa",
           "#FFA15A",
           "#19d3f3",
           "#FF6692",
           "#B6E880",
           "#FF97FF",
           "#FECB52"
          ],
          "font": {
           "color": "#2a3f5f"
          },
          "geo": {
           "bgcolor": "white",
           "lakecolor": "white",
           "landcolor": "#E5ECF6",
           "showlakes": true,
           "showland": true,
           "subunitcolor": "white"
          },
          "hoverlabel": {
           "align": "left"
          },
          "hovermode": "closest",
          "mapbox": {
           "style": "light"
          },
          "paper_bgcolor": "white",
          "plot_bgcolor": "#E5ECF6",
          "polar": {
           "angularaxis": {
            "gridcolor": "white",
            "linecolor": "white",
            "ticks": ""
           },
           "bgcolor": "#E5ECF6",
           "radialaxis": {
            "gridcolor": "white",
            "linecolor": "white",
            "ticks": ""
           }
          },
          "scene": {
           "xaxis": {
            "backgroundcolor": "#E5ECF6",
            "gridcolor": "white",
            "gridwidth": 2,
            "linecolor": "white",
            "showbackground": true,
            "ticks": "",
            "zerolinecolor": "white"
           },
           "yaxis": {
            "backgroundcolor": "#E5ECF6",
            "gridcolor": "white",
            "gridwidth": 2,
            "linecolor": "white",
            "showbackground": true,
            "ticks": "",
            "zerolinecolor": "white"
           },
           "zaxis": {
            "backgroundcolor": "#E5ECF6",
            "gridcolor": "white",
            "gridwidth": 2,
            "linecolor": "white",
            "showbackground": true,
            "ticks": "",
            "zerolinecolor": "white"
           }
          },
          "shapedefaults": {
           "line": {
            "color": "#2a3f5f"
           }
          },
          "ternary": {
           "aaxis": {
            "gridcolor": "white",
            "linecolor": "white",
            "ticks": ""
           },
           "baxis": {
            "gridcolor": "white",
            "linecolor": "white",
            "ticks": ""
           },
           "bgcolor": "#E5ECF6",
           "caxis": {
            "gridcolor": "white",
            "linecolor": "white",
            "ticks": ""
           }
          },
          "title": {
           "x": 0.05
          },
          "xaxis": {
           "automargin": true,
           "gridcolor": "white",
           "linecolor": "white",
           "ticks": "",
           "title": {
            "standoff": 15
           },
           "zerolinecolor": "white",
           "zerolinewidth": 2
          },
          "yaxis": {
           "automargin": true,
           "gridcolor": "white",
           "linecolor": "white",
           "ticks": "",
           "title": {
            "standoff": 15
           },
           "zerolinecolor": "white",
           "zerolinewidth": 2
          }
         }
        },
        "title": {
         "text": "Happiness Score vs GDP per Capita"
        },
        "xaxis": {
         "anchor": "y",
         "domain": [
          0,
          1
         ],
         "title": {
          "text": "GDP per capita"
         }
        },
        "yaxis": {
         "anchor": "x",
         "domain": [
          0,
          1
         ],
         "title": {
          "text": "Score"
         }
        }
       }
      }
     },
     "metadata": {},
     "output_type": "display_data"
    },
    {
     "name": "stdout",
     "output_type": "stream",
     "text": [
      "\n",
      "⚠️ kaleido failed:\n",
      " \n",
      "\n",
      "Kaleido requires Google Chrome to be installed.\n",
      "\n",
      "Either download and install Chrome yourself following Google's instructions for your operating system,\n",
      "or install it from your terminal by running:\n",
      "\n",
      "    $ plotly_get_chrome\n",
      "\n",
      " \n",
      "\n",
      "\n",
      "⚠️ to_image failed:\n",
      " \n",
      "\n",
      "Kaleido requires Google Chrome to be installed.\n",
      "\n",
      "Either download and install Chrome yourself following Google's instructions for your operating system,\n",
      "or install it from your terminal by running:\n",
      "\n",
      "    $ plotly_get_chrome\n",
      "\n",
      " \n",
      "\n",
      "💾 Saved HTML fallback: fig1.html\n",
      "🖼️ Static PNG fallback created: fig1_static.png\n"
     ]
    }
   ],
   "source": [
    "fig = px.scatter(\n",
    "    happy_df, x=\"GDP per capita\", y=\"Score\",\n",
    "    size=\"Overall rank\", color=\"Country or region\",\n",
    "    hover_name=\"Country or region\",\n",
    "    title=\"Happiness Score vs GDP per Capita\"\n",
    ")\n",
    "# annotate Taiwan/Japan/first row\n",
    "target = \"Taiwan\" if (happy_df[\"Country or region\"] == \"Taiwan\").any() else (\"Japan\" if (happy_df[\"Country or region\"] == \"Japan\").any() else happy_df.iloc[0][\"Country or region\"])\n",
    "row = happy_df.loc[happy_df[\"Country or region\"] == target].iloc[0]\n",
    "fig.add_annotation(x=row[\"GDP per capita\"], y=row[\"Score\"], text=target, showarrow=True, arrowhead=2, ax=20, ay=-40)\n",
    "\n",
    "fig.show()\n",
    "out = save_plotly_png_failsafe(fig, \"fig1.png\")\n",
    "# if HTML fallback, also make a static PNG approximation\n",
    "if out.endswith('.html'):\n",
    "    ensure_static_fallback_from_dataframe('scatter', happy_df, 'fig1_static.png')\n"
   ]
  },
  {
   "cell_type": "markdown",
   "id": "41ca49b3",
   "metadata": {},
   "source": [
    "![fig1](fig1.png)\n",
    "\n",
    "*If PNG failed above, a static fallback may be saved as `fig1_static.png`.*"
   ]
  },
  {
   "cell_type": "markdown",
   "id": "a69b32e4",
   "metadata": {},
   "source": [
    "## Correlation heatmap"
   ]
  },
  {
   "cell_type": "code",
   "execution_count": 4,
   "id": "ba00fc83",
   "metadata": {},
   "outputs": [
    {
     "data": {
      "application/vnd.plotly.v1+json": {
       "config": {
        "plotlyServerURL": "https://plot.ly"
       },
       "data": [
        {
         "coloraxis": "coloraxis",
         "hovertemplate": "x: %{x}<br>y: %{y}<br>color: %{z}<extra></extra>",
         "name": "0",
         "texttemplate": "%{z}",
         "type": "heatmap",
         "x": [
          "GDP per capita",
          "Score",
          "Overall rank"
         ],
         "xaxis": "x",
         "y": [
          "GDP per capita",
          "Score",
          "Overall rank"
         ],
         "yaxis": "y",
         "z": {
          "bdata": "AAAAAAAA8D9/Ees0mrflPy8kXpXX+7E/fxHrNJq35T8AAAAAAADwP+owuiet36W/LyReldf7sT/qMLonrd+lvwAAAAAAAPA/",
          "dtype": "f8",
          "shape": "3, 3"
         }
        }
       ],
       "layout": {
        "coloraxis": {
         "colorscale": [
          [
           0,
           "#0d0887"
          ],
          [
           0.1111111111111111,
           "#46039f"
          ],
          [
           0.2222222222222222,
           "#7201a8"
          ],
          [
           0.3333333333333333,
           "#9c179e"
          ],
          [
           0.4444444444444444,
           "#bd3786"
          ],
          [
           0.5555555555555556,
           "#d8576b"
          ],
          [
           0.6666666666666666,
           "#ed7953"
          ],
          [
           0.7777777777777778,
           "#fb9f3a"
          ],
          [
           0.8888888888888888,
           "#fdca26"
          ],
          [
           1,
           "#f0f921"
          ]
         ]
        },
        "margin": {
         "b": 40,
         "l": 40,
         "r": 20,
         "t": 40
        },
        "template": {
         "data": {
          "bar": [
           {
            "error_x": {
             "color": "#2a3f5f"
            },
            "error_y": {
             "color": "#2a3f5f"
            },
            "marker": {
             "line": {
              "color": "#E5ECF6",
              "width": 0.5
             },
             "pattern": {
              "fillmode": "overlay",
              "size": 10,
              "solidity": 0.2
             }
            },
            "type": "bar"
           }
          ],
          "barpolar": [
           {
            "marker": {
             "line": {
              "color": "#E5ECF6",
              "width": 0.5
             },
             "pattern": {
              "fillmode": "overlay",
              "size": 10,
              "solidity": 0.2
             }
            },
            "type": "barpolar"
           }
          ],
          "carpet": [
           {
            "aaxis": {
             "endlinecolor": "#2a3f5f",
             "gridcolor": "white",
             "linecolor": "white",
             "minorgridcolor": "white",
             "startlinecolor": "#2a3f5f"
            },
            "baxis": {
             "endlinecolor": "#2a3f5f",
             "gridcolor": "white",
             "linecolor": "white",
             "minorgridcolor": "white",
             "startlinecolor": "#2a3f5f"
            },
            "type": "carpet"
           }
          ],
          "choropleth": [
           {
            "colorbar": {
             "outlinewidth": 0,
             "ticks": ""
            },
            "type": "choropleth"
           }
          ],
          "contour": [
           {
            "colorbar": {
             "outlinewidth": 0,
             "ticks": ""
            },
            "colorscale": [
             [
              0,
              "#0d0887"
             ],
             [
              0.1111111111111111,
              "#46039f"
             ],
             [
              0.2222222222222222,
              "#7201a8"
             ],
             [
              0.3333333333333333,
              "#9c179e"
             ],
             [
              0.4444444444444444,
              "#bd3786"
             ],
             [
              0.5555555555555556,
              "#d8576b"
             ],
             [
              0.6666666666666666,
              "#ed7953"
             ],
             [
              0.7777777777777778,
              "#fb9f3a"
             ],
             [
              0.8888888888888888,
              "#fdca26"
             ],
             [
              1,
              "#f0f921"
             ]
            ],
            "type": "contour"
           }
          ],
          "contourcarpet": [
           {
            "colorbar": {
             "outlinewidth": 0,
             "ticks": ""
            },
            "type": "contourcarpet"
           }
          ],
          "heatmap": [
           {
            "colorbar": {
             "outlinewidth": 0,
             "ticks": ""
            },
            "colorscale": [
             [
              0,
              "#0d0887"
             ],
             [
              0.1111111111111111,
              "#46039f"
             ],
             [
              0.2222222222222222,
              "#7201a8"
             ],
             [
              0.3333333333333333,
              "#9c179e"
             ],
             [
              0.4444444444444444,
              "#bd3786"
             ],
             [
              0.5555555555555556,
              "#d8576b"
             ],
             [
              0.6666666666666666,
              "#ed7953"
             ],
             [
              0.7777777777777778,
              "#fb9f3a"
             ],
             [
              0.8888888888888888,
              "#fdca26"
             ],
             [
              1,
              "#f0f921"
             ]
            ],
            "type": "heatmap"
           }
          ],
          "histogram": [
           {
            "marker": {
             "pattern": {
              "fillmode": "overlay",
              "size": 10,
              "solidity": 0.2
             }
            },
            "type": "histogram"
           }
          ],
          "histogram2d": [
           {
            "colorbar": {
             "outlinewidth": 0,
             "ticks": ""
            },
            "colorscale": [
             [
              0,
              "#0d0887"
             ],
             [
              0.1111111111111111,
              "#46039f"
             ],
             [
              0.2222222222222222,
              "#7201a8"
             ],
             [
              0.3333333333333333,
              "#9c179e"
             ],
             [
              0.4444444444444444,
              "#bd3786"
             ],
             [
              0.5555555555555556,
              "#d8576b"
             ],
             [
              0.6666666666666666,
              "#ed7953"
             ],
             [
              0.7777777777777778,
              "#fb9f3a"
             ],
             [
              0.8888888888888888,
              "#fdca26"
             ],
             [
              1,
              "#f0f921"
             ]
            ],
            "type": "histogram2d"
           }
          ],
          "histogram2dcontour": [
           {
            "colorbar": {
             "outlinewidth": 0,
             "ticks": ""
            },
            "colorscale": [
             [
              0,
              "#0d0887"
             ],
             [
              0.1111111111111111,
              "#46039f"
             ],
             [
              0.2222222222222222,
              "#7201a8"
             ],
             [
              0.3333333333333333,
              "#9c179e"
             ],
             [
              0.4444444444444444,
              "#bd3786"
             ],
             [
              0.5555555555555556,
              "#d8576b"
             ],
             [
              0.6666666666666666,
              "#ed7953"
             ],
             [
              0.7777777777777778,
              "#fb9f3a"
             ],
             [
              0.8888888888888888,
              "#fdca26"
             ],
             [
              1,
              "#f0f921"
             ]
            ],
            "type": "histogram2dcontour"
           }
          ],
          "mesh3d": [
           {
            "colorbar": {
             "outlinewidth": 0,
             "ticks": ""
            },
            "type": "mesh3d"
           }
          ],
          "parcoords": [
           {
            "line": {
             "colorbar": {
              "outlinewidth": 0,
              "ticks": ""
             }
            },
            "type": "parcoords"
           }
          ],
          "pie": [
           {
            "automargin": true,
            "type": "pie"
           }
          ],
          "scatter": [
           {
            "fillpattern": {
             "fillmode": "overlay",
             "size": 10,
             "solidity": 0.2
            },
            "type": "scatter"
           }
          ],
          "scatter3d": [
           {
            "line": {
             "colorbar": {
              "outlinewidth": 0,
              "ticks": ""
             }
            },
            "marker": {
             "colorbar": {
              "outlinewidth": 0,
              "ticks": ""
             }
            },
            "type": "scatter3d"
           }
          ],
          "scattercarpet": [
           {
            "marker": {
             "colorbar": {
              "outlinewidth": 0,
              "ticks": ""
             }
            },
            "type": "scattercarpet"
           }
          ],
          "scattergeo": [
           {
            "marker": {
             "colorbar": {
              "outlinewidth": 0,
              "ticks": ""
             }
            },
            "type": "scattergeo"
           }
          ],
          "scattergl": [
           {
            "marker": {
             "colorbar": {
              "outlinewidth": 0,
              "ticks": ""
             }
            },
            "type": "scattergl"
           }
          ],
          "scattermap": [
           {
            "marker": {
             "colorbar": {
              "outlinewidth": 0,
              "ticks": ""
             }
            },
            "type": "scattermap"
           }
          ],
          "scattermapbox": [
           {
            "marker": {
             "colorbar": {
              "outlinewidth": 0,
              "ticks": ""
             }
            },
            "type": "scattermapbox"
           }
          ],
          "scatterpolar": [
           {
            "marker": {
             "colorbar": {
              "outlinewidth": 0,
              "ticks": ""
             }
            },
            "type": "scatterpolar"
           }
          ],
          "scatterpolargl": [
           {
            "marker": {
             "colorbar": {
              "outlinewidth": 0,
              "ticks": ""
             }
            },
            "type": "scatterpolargl"
           }
          ],
          "scatterternary": [
           {
            "marker": {
             "colorbar": {
              "outlinewidth": 0,
              "ticks": ""
             }
            },
            "type": "scatterternary"
           }
          ],
          "surface": [
           {
            "colorbar": {
             "outlinewidth": 0,
             "ticks": ""
            },
            "colorscale": [
             [
              0,
              "#0d0887"
             ],
             [
              0.1111111111111111,
              "#46039f"
             ],
             [
              0.2222222222222222,
              "#7201a8"
             ],
             [
              0.3333333333333333,
              "#9c179e"
             ],
             [
              0.4444444444444444,
              "#bd3786"
             ],
             [
              0.5555555555555556,
              "#d8576b"
             ],
             [
              0.6666666666666666,
              "#ed7953"
             ],
             [
              0.7777777777777778,
              "#fb9f3a"
             ],
             [
              0.8888888888888888,
              "#fdca26"
             ],
             [
              1,
              "#f0f921"
             ]
            ],
            "type": "surface"
           }
          ],
          "table": [
           {
            "cells": {
             "fill": {
              "color": "#EBF0F8"
             },
             "line": {
              "color": "white"
             }
            },
            "header": {
             "fill": {
              "color": "#C8D4E3"
             },
             "line": {
              "color": "white"
             }
            },
            "type": "table"
           }
          ]
         },
         "layout": {
          "annotationdefaults": {
           "arrowcolor": "#2a3f5f",
           "arrowhead": 0,
           "arrowwidth": 1
          },
          "autotypenumbers": "strict",
          "coloraxis": {
           "colorbar": {
            "outlinewidth": 0,
            "ticks": ""
           }
          },
          "colorscale": {
           "diverging": [
            [
             0,
             "#8e0152"
            ],
            [
             0.1,
             "#c51b7d"
            ],
            [
             0.2,
             "#de77ae"
            ],
            [
             0.3,
             "#f1b6da"
            ],
            [
             0.4,
             "#fde0ef"
            ],
            [
             0.5,
             "#f7f7f7"
            ],
            [
             0.6,
             "#e6f5d0"
            ],
            [
             0.7,
             "#b8e186"
            ],
            [
             0.8,
             "#7fbc41"
            ],
            [
             0.9,
             "#4d9221"
            ],
            [
             1,
             "#276419"
            ]
           ],
           "sequential": [
            [
             0,
             "#0d0887"
            ],
            [
             0.1111111111111111,
             "#46039f"
            ],
            [
             0.2222222222222222,
             "#7201a8"
            ],
            [
             0.3333333333333333,
             "#9c179e"
            ],
            [
             0.4444444444444444,
             "#bd3786"
            ],
            [
             0.5555555555555556,
             "#d8576b"
            ],
            [
             0.6666666666666666,
             "#ed7953"
            ],
            [
             0.7777777777777778,
             "#fb9f3a"
            ],
            [
             0.8888888888888888,
             "#fdca26"
            ],
            [
             1,
             "#f0f921"
            ]
           ],
           "sequentialminus": [
            [
             0,
             "#0d0887"
            ],
            [
             0.1111111111111111,
             "#46039f"
            ],
            [
             0.2222222222222222,
             "#7201a8"
            ],
            [
             0.3333333333333333,
             "#9c179e"
            ],
            [
             0.4444444444444444,
             "#bd3786"
            ],
            [
             0.5555555555555556,
             "#d8576b"
            ],
            [
             0.6666666666666666,
             "#ed7953"
            ],
            [
             0.7777777777777778,
             "#fb9f3a"
            ],
            [
             0.8888888888888888,
             "#fdca26"
            ],
            [
             1,
             "#f0f921"
            ]
           ]
          },
          "colorway": [
           "#636efa",
           "#EF553B",
           "#00cc96",
           "#ab63fa",
           "#FFA15A",
           "#19d3f3",
           "#FF6692",
           "#B6E880",
           "#FF97FF",
           "#FECB52"
          ],
          "font": {
           "color": "#2a3f5f"
          },
          "geo": {
           "bgcolor": "white",
           "lakecolor": "white",
           "landcolor": "#E5ECF6",
           "showlakes": true,
           "showland": true,
           "subunitcolor": "white"
          },
          "hoverlabel": {
           "align": "left"
          },
          "hovermode": "closest",
          "mapbox": {
           "style": "light"
          },
          "paper_bgcolor": "white",
          "plot_bgcolor": "#E5ECF6",
          "polar": {
           "angularaxis": {
            "gridcolor": "white",
            "linecolor": "white",
            "ticks": ""
           },
           "bgcolor": "#E5ECF6",
           "radialaxis": {
            "gridcolor": "white",
            "linecolor": "white",
            "ticks": ""
           }
          },
          "scene": {
           "xaxis": {
            "backgroundcolor": "#E5ECF6",
            "gridcolor": "white",
            "gridwidth": 2,
            "linecolor": "white",
            "showbackground": true,
            "ticks": "",
            "zerolinecolor": "white"
           },
           "yaxis": {
            "backgroundcolor": "#E5ECF6",
            "gridcolor": "white",
            "gridwidth": 2,
            "linecolor": "white",
            "showbackground": true,
            "ticks": "",
            "zerolinecolor": "white"
           },
           "zaxis": {
            "backgroundcolor": "#E5ECF6",
            "gridcolor": "white",
            "gridwidth": 2,
            "linecolor": "white",
            "showbackground": true,
            "ticks": "",
            "zerolinecolor": "white"
           }
          },
          "shapedefaults": {
           "line": {
            "color": "#2a3f5f"
           }
          },
          "ternary": {
           "aaxis": {
            "gridcolor": "white",
            "linecolor": "white",
            "ticks": ""
           },
           "baxis": {
            "gridcolor": "white",
            "linecolor": "white",
            "ticks": ""
           },
           "bgcolor": "#E5ECF6",
           "caxis": {
            "gridcolor": "white",
            "linecolor": "white",
            "ticks": ""
           }
          },
          "title": {
           "x": 0.05
          },
          "xaxis": {
           "automargin": true,
           "gridcolor": "white",
           "linecolor": "white",
           "ticks": "",
           "title": {
            "standoff": 15
           },
           "zerolinecolor": "white",
           "zerolinewidth": 2
          },
          "yaxis": {
           "automargin": true,
           "gridcolor": "white",
           "linecolor": "white",
           "ticks": "",
           "title": {
            "standoff": 15
           },
           "zerolinecolor": "white",
           "zerolinewidth": 2
          }
         }
        },
        "title": {
         "text": "Correlation heatmap"
        },
        "xaxis": {
         "anchor": "y",
         "domain": [
          0,
          1
         ]
        },
        "yaxis": {
         "anchor": "x",
         "autorange": "reversed",
         "domain": [
          0,
          1
         ]
        }
       }
      }
     },
     "metadata": {},
     "output_type": "display_data"
    },
    {
     "name": "stdout",
     "output_type": "stream",
     "text": [
      "\n",
      "⚠️ kaleido failed:\n",
      " \n",
      "\n",
      "Kaleido requires Google Chrome to be installed.\n",
      "\n",
      "Either download and install Chrome yourself following Google's instructions for your operating system,\n",
      "or install it from your terminal by running:\n",
      "\n",
      "    $ plotly_get_chrome\n",
      "\n",
      " \n",
      "\n",
      "\n",
      "⚠️ to_image failed:\n",
      " \n",
      "\n",
      "Kaleido requires Google Chrome to be installed.\n",
      "\n",
      "Either download and install Chrome yourself following Google's instructions for your operating system,\n",
      "or install it from your terminal by running:\n",
      "\n",
      "    $ plotly_get_chrome\n",
      "\n",
      " \n",
      "\n",
      "💾 Saved HTML fallback: fig2.html\n",
      "🖼️ Static PNG fallback created: fig2_static.png\n"
     ]
    }
   ],
   "source": [
    "corr = happy_df.select_dtypes('number').corr()\n",
    "fig = px.imshow(corr, text_auto=True, aspect='auto', title='Correlation heatmap')\n",
    "fig.update_layout(margin=dict(l=40, r=20, t=40, b=40))\n",
    "fig.show()\n",
    "out = save_plotly_png_failsafe(fig, 'fig2.png')\n",
    "if out.endswith('.html'):\n",
    "    ensure_static_fallback_from_dataframe('heatmap', happy_df, 'fig2_static.png')\n"
   ]
  },
  {
   "cell_type": "markdown",
   "id": "630fe5fa",
   "metadata": {},
   "source": [
    "![fig2](fig2.png)\n",
    "\n",
    "*If PNG failed above, a static fallback may be saved as `fig2_static.png`.*"
   ]
  },
  {
   "cell_type": "markdown",
   "id": "7593094d",
   "metadata": {},
   "source": [
    "## Scatter matrix"
   ]
  },
  {
   "cell_type": "code",
   "execution_count": 5,
   "id": "8d6030ba",
   "metadata": {},
   "outputs": [
    {
     "data": {
      "application/vnd.plotly.v1+json": {
       "config": {
        "plotlyServerURL": "https://plot.ly"
       },
       "data": [
        {
         "diagonal": {
          "visible": false
         },
         "dimensions": [
          {
           "axis": {
            "matches": true
           },
           "label": "GDP per capita",
           "values": {
            "bdata": "54R1iKR0jkA=",
            "dtype": "f8"
           }
          },
          {
           "axis": {
            "matches": true
           },
           "label": "Score",
           "values": {
            "bdata": "RIts5/vpRUA=",
            "dtype": "f8"
           }
          },
          {
           "axis": {
            "matches": true
           },
           "label": "Overall rank",
           "values": {
            "bdata": "JA==",
            "dtype": "i1"
           }
          }
         ],
         "hovertemplate": "Country or region=Afghanistan<br>%{xaxis.title.text}=%{x}<br>%{yaxis.title.text}=%{y}<extra></extra>",
         "legendgroup": "Afghanistan",
         "marker": {
          "color": "#636efa",
          "symbol": "circle"
         },
         "name": "Afghanistan",
         "showlegend": true,
         "type": "splom"
        },
        {
         "diagonal": {
          "visible": false
         },
         "dimensions": [
          {
           "axis": {
            "matches": true
           },
           "label": "GDP per capita",
           "values": {
            "bdata": "YBQEjwcxt0A=",
            "dtype": "f8"
           }
          },
          {
           "axis": {
            "matches": true
           },
           "label": "Score",
           "values": {
            "bdata": "UI2XbhIbU0A=",
            "dtype": "f8"
           }
          },
          {
           "axis": {
            "matches": true
           },
           "label": "Overall rank",
           "values": {
            "bdata": "dA==",
            "dtype": "i1"
           }
          }
         ],
         "hovertemplate": "Country or region=Albania<br>%{xaxis.title.text}=%{x}<br>%{yaxis.title.text}=%{y}<extra></extra>",
         "legendgroup": "Albania",
         "marker": {
          "color": "#EF553B",
          "symbol": "circle"
         },
         "name": "Albania",
         "showlegend": true,
         "type": "splom"
        },
        {
         "diagonal": {
          "visible": false
         },
         "dimensions": [
          {
           "axis": {
            "matches": true
           },
           "label": "GDP per capita",
           "values": {
            "bdata": "ba0vEl5PuEA=",
            "dtype": "f8"
           }
          },
          {
           "axis": {
            "matches": true
           },
           "label": "Score",
           "values": {
            "bdata": "JQaBlUMTUkA=",
            "dtype": "f8"
           }
          },
          {
           "axis": {
            "matches": true
           },
           "label": "Overall rank",
           "values": {
            "bdata": "Iw==",
            "dtype": "i1"
           }
          }
         ],
         "hovertemplate": "Country or region=Algeria<br>%{xaxis.title.text}=%{x}<br>%{yaxis.title.text}=%{y}<extra></extra>",
         "legendgroup": "Algeria",
         "marker": {
          "color": "#00cc96",
          "symbol": "circle"
         },
         "name": "Algeria",
         "showlegend": true,
         "type": "splom"
        },
        {
         "diagonal": {
          "visible": false
         },
         "dimensions": [
          {
           "axis": {
            "matches": true
           },
           "label": "GDP per capita",
           "values": {
            "bdata": "pWlQNDu9skA=",
            "dtype": "f8"
           }
          },
          {
           "axis": {
            "matches": true
           },
           "label": "Score",
           "values": {
            "bdata": "IbByaJFdRUA=",
            "dtype": "f8"
           }
          },
          {
           "axis": {
            "matches": true
           },
           "label": "Overall rank",
           "values": {
            "bdata": "QA==",
            "dtype": "i1"
           }
          }
         ],
         "hovertemplate": "Country or region=Angola<br>%{xaxis.title.text}=%{x}<br>%{yaxis.title.text}=%{y}<extra></extra>",
         "legendgroup": "Angola",
         "marker": {
          "color": "#ab63fa",
          "symbol": "circle"
         },
         "name": "Angola",
         "showlegend": true,
         "type": "splom"
        },
        {
         "diagonal": {
          "visible": false
         },
         "dimensions": [
          {
           "axis": {
            "matches": true
           },
           "label": "GDP per capita",
           "values": {
            "bdata": "ICQLmLD1yEA=",
            "dtype": "f8"
           }
          },
          {
           "axis": {
            "matches": true
           },
           "label": "Score",
           "values": {
            "bdata": "FK5H4XrUUkA=",
            "dtype": "f8"
           }
          },
          {
           "axis": {
            "matches": true
           },
           "label": "Overall rank",
           "values": {
            "bdata": "HQ==",
            "dtype": "i1"
           }
          }
         ],
         "hovertemplate": "Country or region=Argentina<br>%{xaxis.title.text}=%{x}<br>%{yaxis.title.text}=%{y}<extra></extra>",
         "legendgroup": "Argentina",
         "marker": {
          "color": "#FFA15A",
          "symbol": "circle"
         },
         "name": "Argentina",
         "showlegend": true,
         "type": "splom"
        },
        {
         "diagonal": {
          "visible": false
         },
         "dimensions": [
          {
           "axis": {
            "matches": true
           },
           "label": "GDP per capita",
           "values": {
            "bdata": "54cRwmvQ4EA=",
            "dtype": "f8"
           }
          },
          {
           "axis": {
            "matches": true
           },
           "label": "Score",
           "values": {
            "bdata": "16NwPQpPVEA=",
            "dtype": "f8"
           }
          },
          {
           "axis": {
            "matches": true
           },
           "label": "Overall rank",
           "values": {
            "bdata": "MQ==",
            "dtype": "i1"
           }
          }
         ],
         "hovertemplate": "Country or region=Australia<br>%{xaxis.title.text}=%{x}<br>%{yaxis.title.text}=%{y}<extra></extra>",
         "legendgroup": "Australia",
         "marker": {
          "color": "#19d3f3",
          "symbol": "circle"
         },
         "name": "Australia",
         "showlegend": true,
         "type": "splom"
        },
        {
         "diagonal": {
          "visible": false
         },
         "dimensions": [
          {
           "axis": {
            "matches": true
           },
           "label": "GDP per capita",
           "values": {
            "bdata": "WMoyxM+j4UA=",
            "dtype": "f8"
           }
          },
          {
           "axis": {
            "matches": true
           },
           "label": "Score",
           "values": {
            "bdata": "kxgEVg71U0A=",
            "dtype": "f8"
           }
          },
          {
           "axis": {
            "matches": true
           },
           "label": "Overall rank",
           "values": {
            "bdata": "Vg==",
            "dtype": "i1"
           }
          }
         ],
         "hovertemplate": "Country or region=Austria<br>%{xaxis.title.text}=%{x}<br>%{yaxis.title.text}=%{y}<extra></extra>",
         "legendgroup": "Austria",
         "marker": {
          "color": "#FF6692",
          "symbol": "circle"
         },
         "name": "Austria",
         "showlegend": true,
         "type": "splom"
        },
        {
         "diagonal": {
          "visible": false
         },
         "dimensions": [
          {
           "axis": {
            "matches": true
           },
           "label": "GDP per capita",
           "values": {
            "bdata": "xqcAGAMZ3UA=",
            "dtype": "f8"
           }
          },
          {
           "axis": {
            "matches": true
           },
           "label": "Score",
           "values": {
            "bdata": "cT0K16PoUkA=",
            "dtype": "f8"
           }
          },
          {
           "axis": {
            "matches": true
           },
           "label": "Overall rank",
           "values": {
            "bdata": "iQA=",
            "dtype": "i2"
           }
          }
         ],
         "hovertemplate": "Country or region=Bahrain<br>%{xaxis.title.text}=%{x}<br>%{yaxis.title.text}=%{y}<extra></extra>",
         "legendgroup": "Bahrain",
         "marker": {
          "color": "#B6E880",
          "symbol": "circle"
         },
         "name": "Bahrain",
         "showlegend": true,
         "type": "splom"
        },
        {
         "diagonal": {
          "visible": false
         },
         "dimensions": [
          {
           "axis": {
            "matches": true
           },
           "label": "GDP per capita",
           "values": {
            "bdata": "8s8M4gO9lUA=",
            "dtype": "f8"
           }
          },
          {
           "axis": {
            "matches": true
           },
           "label": "Score",
           "values": {
            "bdata": "hxbZzvcDUEA=",
            "dtype": "f8"
           }
          },
          {
           "axis": {
            "matches": true
           },
           "label": "Overall rank",
           "values": {
            "bdata": "Bw==",
            "dtype": "i1"
           }
          }
         ],
         "hovertemplate": "Country or region=Bangladesh<br>%{xaxis.title.text}=%{x}<br>%{yaxis.title.text}=%{y}<extra></extra>",
         "legendgroup": "Bangladesh",
         "marker": {
          "color": "#FF97FF",
          "symbol": "circle"
         },
         "name": "Bangladesh",
         "showlegend": true,
         "type": "splom"
        },
        {
         "diagonal": {
          "visible": false
         },
         "dimensions": [
          {
           "axis": {
            "matches": true
           },
           "label": "GDP per capita",
           "values": {
            "bdata": "b7vQXJNz4EA=",
            "dtype": "f8"
           }
          },
          {
           "axis": {
            "matches": true
           },
           "label": "Score",
           "values": {
            "bdata": "TmIQWDncU0A=",
            "dtype": "f8"
           }
          },
          {
           "axis": {
            "matches": true
           },
           "label": "Overall rank",
           "values": {
            "bdata": "SA==",
            "dtype": "i1"
           }
          }
         ],
         "hovertemplate": "Country or region=Belgium<br>%{xaxis.title.text}=%{x}<br>%{yaxis.title.text}=%{y}<extra></extra>",
         "legendgroup": "Belgium",
         "marker": {
          "color": "#FECB52",
          "symbol": "circle"
         },
         "name": "Belgium",
         "showlegend": true,
         "type": "splom"
        },
        {
         "diagonal": {
          "visible": false
         },
         "dimensions": [
          {
           "axis": {
            "matches": true
           },
           "label": "GDP per capita",
           "values": {
            "bdata": "Dmq/tSOFlkA=",
            "dtype": "f8"
           }
          },
          {
           "axis": {
            "matches": true
           },
           "label": "Score",
           "values": {
            "bdata": "d76fGi9dTEA=",
            "dtype": "f8"
           }
          },
          {
           "axis": {
            "matches": true
           },
           "label": "Overall rank",
           "values": {
            "bdata": "Vw==",
            "dtype": "i1"
           }
          }
         ],
         "hovertemplate": "Country or region=Benin<br>%{xaxis.title.text}=%{x}<br>%{yaxis.title.text}=%{y}<extra></extra>",
         "legendgroup": "Benin",
         "marker": {
          "color": "#636efa",
          "symbol": "circle"
         },
         "name": "Benin",
         "showlegend": true,
         "type": "splom"
        },
        {
         "diagonal": {
          "visible": false
         },
         "dimensions": [
          {
           "axis": {
            "matches": true
           },
           "label": "GDP per capita",
           "values": {
            "bdata": "nMHfL0bcrUA=",
            "dtype": "f8"
           }
          },
          {
           "axis": {
            "matches": true
           },
           "label": "Score",
           "values": {
            "bdata": "+n5qvHRjUEA=",
            "dtype": "f8"
           }
          },
          {
           "axis": {
            "matches": true
           },
           "label": "Overall rank",
           "values": {
            "bdata": "UA==",
            "dtype": "i1"
           }
          }
         ],
         "hovertemplate": "Country or region=Bolivia<br>%{xaxis.title.text}=%{x}<br>%{yaxis.title.text}=%{y}<extra></extra>",
         "legendgroup": "Bolivia",
         "marker": {
          "color": "#EF553B",
          "symbol": "circle"
         },
         "name": "Bolivia",
         "showlegend": true,
         "type": "splom"
        },
        {
         "diagonal": {
          "visible": false
         },
         "dimensions": [
          {
           "axis": {
            "matches": true
           },
           "label": "GDP per capita",
           "values": {
            "bdata": "8nhafkwWvUA=",
            "dtype": "f8"
           }
          },
          {
           "axis": {
            "matches": true
           },
           "label": "Score",
           "values": {
            "bdata": "SgwCK4e2UkA=",
            "dtype": "f8"
           }
          },
          {
           "axis": {
            "matches": true
           },
           "label": "Overall rank",
           "values": {
            "bdata": "ag==",
            "dtype": "i1"
           }
          }
         ],
         "hovertemplate": "Country or region=Bosnia and Herzegovina<br>%{xaxis.title.text}=%{x}<br>%{yaxis.title.text}=%{y}<extra></extra>",
         "legendgroup": "Bosnia and Herzegovina",
         "marker": {
          "color": "#00cc96",
          "symbol": "circle"
         },
         "name": "Bosnia and Herzegovina",
         "showlegend": true,
         "type": "splom"
        },
        {
         "diagonal": {
          "visible": false
         },
         "dimensions": [
          {
           "axis": {
            "matches": true
           },
           "label": "GDP per capita",
           "values": {
            "bdata": "26LMBu2MyEA=",
            "dtype": "f8"
           }
          },
          {
           "axis": {
            "matches": true
           },
           "label": "Score",
           "values": {
            "bdata": "d76fGi9dSUA=",
            "dtype": "f8"
           }
          },
          {
           "axis": {
            "matches": true
           },
           "label": "Overall rank",
           "values": {
            "bdata": "gQA=",
            "dtype": "i2"
           }
          }
         ],
         "hovertemplate": "Country or region=Botswana<br>%{xaxis.title.text}=%{x}<br>%{yaxis.title.text}=%{y}<extra></extra>",
         "legendgroup": "Botswana",
         "marker": {
          "color": "#ab63fa",
          "symbol": "circle"
         },
         "name": "Botswana",
         "showlegend": true,
         "type": "splom"
        },
        {
         "diagonal": {
          "visible": false
         },
         "dimensions": [
          {
           "axis": {
            "matches": true
           },
           "label": "GDP per capita",
           "values": {
            "bdata": "aQBvgea0wUA=",
            "dtype": "f8"
           }
          },
          {
           "axis": {
            "matches": true
           },
           "label": "Score",
           "values": {
            "bdata": "KVyPwvUYUkA=",
            "dtype": "f8"
           }
          },
          {
           "axis": {
            "matches": true
           },
           "label": "Overall rank",
           "values": {
            "bdata": "BQ==",
            "dtype": "i1"
           }
          }
         ],
         "hovertemplate": "Country or region=Brazil<br>%{xaxis.title.text}=%{x}<br>%{yaxis.title.text}=%{y}<extra></extra>",
         "legendgroup": "Brazil",
         "marker": {
          "color": "#FFA15A",
          "symbol": "circle"
         },
         "name": "Brazil",
         "showlegend": true,
         "type": "splom"
        },
        {
         "diagonal": {
          "visible": false
         },
         "dimensions": [
          {
           "axis": {
            "matches": true
           },
           "label": "GDP per capita",
           "values": {
            "bdata": "zzEge2XcxEA=",
            "dtype": "f8"
           }
          },
          {
           "axis": {
            "matches": true
           },
           "label": "Score",
           "values": {
            "bdata": "uB6F61FAUkA=",
            "dtype": "f8"
           }
          },
          {
           "axis": {
            "matches": true
           },
           "label": "Overall rank",
           "values": {
            "bdata": "Wg==",
            "dtype": "i1"
           }
          }
         ],
         "hovertemplate": "Country or region=Bulgaria<br>%{xaxis.title.text}=%{x}<br>%{yaxis.title.text}=%{y}<extra></extra>",
         "legendgroup": "Bulgaria",
         "marker": {
          "color": "#19d3f3",
          "symbol": "circle"
         },
         "name": "Bulgaria",
         "showlegend": true,
         "type": "splom"
        },
        {
         "diagonal": {
          "visible": false
         },
         "dimensions": [
          {
           "axis": {
            "matches": true
           },
           "label": "GDP per capita",
           "values": {
            "bdata": "29stySEEk0A=",
            "dtype": "f8"
           }
          },
          {
           "axis": {
            "matches": true
           },
           "label": "Score",
           "values": {
            "bdata": "9ihcj8IlSkA=",
            "dtype": "f8"
           }
          },
          {
           "axis": {
            "matches": true
           },
           "label": "Overall rank",
           "values": {
            "bdata": "Og==",
            "dtype": "i1"
           }
          }
         ],
         "hovertemplate": "Country or region=Burkina Faso<br>%{xaxis.title.text}=%{x}<br>%{yaxis.title.text}=%{y}<extra></extra>",
         "legendgroup": "Burkina Faso",
         "marker": {
          "color": "#FF6692",
          "symbol": "circle"
         },
         "name": "Burkina Faso",
         "showlegend": true,
         "type": "splom"
        },
        {
         "diagonal": {
          "visible": false
         },
         "dimensions": [
          {
           "axis": {
            "matches": true
           },
           "label": "GDP per capita",
           "values": {
            "bdata": "oeGDjSHhekA=",
            "dtype": "f8"
           }
          },
          {
           "axis": {
            "matches": true
           },
           "label": "Score",
           "values": {
            "bdata": "CtejcD3KSEA=",
            "dtype": "f8"
           }
          },
          {
           "axis": {
            "matches": true
           },
           "label": "Overall rank",
           "values": {
            "bdata": "VQ==",
            "dtype": "i1"
           }
          }
         ],
         "hovertemplate": "Country or region=Burundi<br>%{xaxis.title.text}=%{x}<br>%{yaxis.title.text}=%{y}<extra></extra>",
         "legendgroup": "Burundi",
         "marker": {
          "color": "#B6E880",
          "symbol": "circle"
         },
         "name": "Burundi",
         "showlegend": true,
         "type": "splom"
        },
        {
         "diagonal": {
          "visible": false
         },
         "dimensions": [
          {
           "axis": {
            "matches": true
           },
           "label": "GDP per capita",
           "values": {
            "bdata": "at/cXx3HmkA=",
            "dtype": "f8"
           }
          },
          {
           "axis": {
            "matches": true
           },
           "label": "Score",
           "values": {
            "bdata": "BoGVQ4vcTUA=",
            "dtype": "f8"
           }
          },
          {
           "axis": {
            "matches": true
           },
           "label": "Overall rank",
           "values": {
            "bdata": "Ow==",
            "dtype": "i1"
           }
          }
         ],
         "hovertemplate": "Country or region=Cambodia<br>%{xaxis.title.text}=%{x}<br>%{yaxis.title.text}=%{y}<extra></extra>",
         "legendgroup": "Cambodia",
         "marker": {
          "color": "#FF97FF",
          "symbol": "circle"
         },
         "name": "Cambodia",
         "showlegend": true,
         "type": "splom"
        },
        {
         "diagonal": {
          "visible": false
         },
         "dimensions": [
          {
           "axis": {
            "matches": true
           },
           "label": "GDP per capita",
           "values": {
            "bdata": "FjWYhmHon0A=",
            "dtype": "f8"
           }
          },
          {
           "axis": {
            "matches": true
           },
           "label": "Score",
           "values": {
            "bdata": "16NwPQo3SUA=",
            "dtype": "f8"
           }
          },
          {
           "axis": {
            "matches": true
           },
           "label": "Overall rank",
           "values": {
            "bdata": "Nw==",
            "dtype": "i1"
           }
          }
         ],
         "hovertemplate": "Country or region=Cameroon<br>%{xaxis.title.text}=%{x}<br>%{yaxis.title.text}=%{y}<extra></extra>",
         "legendgroup": "Cameroon",
         "marker": {
          "color": "#FECB52",
          "symbol": "circle"
         },
         "name": "Cameroon",
         "showlegend": true,
         "type": "splom"
        },
        {
         "diagonal": {
          "visible": false
         },
         "dimensions": [
          {
           "axis": {
            "matches": true
           },
           "label": "GDP per capita",
           "values": {
            "bdata": "B7Ezhee74UA=",
            "dtype": "f8"
           }
          },
          {
           "axis": {
            "matches": true
           },
           "label": "Score",
           "values": {
            "bdata": "bxKDwMopVEA=",
            "dtype": "f8"
           }
          },
          {
           "axis": {
            "matches": true
           },
           "label": "Overall rank",
           "values": {
            "bdata": "Ig==",
            "dtype": "i1"
           }
          }
         ],
         "hovertemplate": "Country or region=Canada<br>%{xaxis.title.text}=%{x}<br>%{yaxis.title.text}=%{y}<extra></extra>",
         "legendgroup": "Canada",
         "marker": {
          "color": "#636efa",
          "symbol": "circle"
         },
         "name": "Canada",
         "showlegend": true,
         "type": "splom"
        },
        {
         "diagonal": {
          "visible": false
         },
         "dimensions": [
          {
           "axis": {
            "matches": true
           },
           "label": "GDP per capita",
           "values": {
            "bdata": "ZJEm3iEQhkA=",
            "dtype": "f8"
           }
          },
          {
           "axis": {
            "matches": true
           },
           "label": "Score",
           "values": {
            "bdata": "AyuHFtleRkA=",
            "dtype": "f8"
           }
          },
          {
           "axis": {
            "matches": true
           },
           "label": "Overall rank",
           "values": {
            "bdata": "bA==",
            "dtype": "i1"
           }
          }
         ],
         "hovertemplate": "Country or region=Central African Republic<br>%{xaxis.title.text}=%{x}<br>%{yaxis.title.text}=%{y}<extra></extra>",
         "legendgroup": "Central African Republic",
         "marker": {
          "color": "#EF553B",
          "symbol": "circle"
         },
         "name": "Central African Republic",
         "showlegend": true,
         "type": "splom"
        },
        {
         "diagonal": {
          "visible": false
         },
         "dimensions": [
          {
           "axis": {
            "matches": true
           },
           "label": "GDP per capita",
           "values": {
            "bdata": "4j/dQEGgmkA=",
            "dtype": "f8"
           }
          },
          {
           "axis": {
            "matches": true
           },
           "label": "Score",
           "values": {
            "bdata": "F9nO91NTSUA=",
            "dtype": "f8"
           }
          },
          {
           "axis": {
            "matches": true
           },
           "label": "Overall rank",
           "values": {
            "bdata": "Sg==",
            "dtype": "i1"
           }
          }
         ],
         "hovertemplate": "Country or region=Chad<br>%{xaxis.title.text}=%{x}<br>%{yaxis.title.text}=%{y}<extra></extra>",
         "legendgroup": "Chad",
         "marker": {
          "color": "#00cc96",
          "symbol": "circle"
         },
         "name": "Chad",
         "showlegend": true,
         "type": "splom"
        },
        {
         "diagonal": {
          "visible": false
         },
         "dimensions": [
          {
           "axis": {
            "matches": true
           },
           "label": "GDP per capita",
           "values": {
            "bdata": "hjjWxdG5yUA=",
            "dtype": "f8"
           }
          },
          {
           "axis": {
            "matches": true
           },
           "label": "Score",
           "values": {
            "bdata": "CKwcWmSjU0A=",
            "dtype": "f8"
           }
          },
          {
           "axis": {
            "matches": true
           },
           "label": "Overall rank",
           "values": {
            "bdata": "OQ==",
            "dtype": "i1"
           }
          }
         ],
         "hovertemplate": "Country or region=Chile<br>%{xaxis.title.text}=%{x}<br>%{yaxis.title.text}=%{y}<extra></extra>",
         "legendgroup": "Chile",
         "marker": {
          "color": "#ab63fa",
          "symbol": "circle"
         },
         "name": "Chile",
         "showlegend": true,
         "type": "splom"
        },
        {
         "diagonal": {
          "visible": false
         },
         "dimensions": [
          {
           "axis": {
            "matches": true
           },
           "label": "GDP per capita",
           "values": {
            "bdata": "0V0SZx1fs0A=",
            "dtype": "f8"
           }
          },
          {
           "axis": {
            "matches": true
           },
           "label": "Score",
           "values": {
            "bdata": "L90kBoE9UkA=",
            "dtype": "f8"
           }
          },
          {
           "axis": {
            "matches": true
           },
           "label": "Overall rank",
           "values": {
            "bdata": "AQ==",
            "dtype": "i1"
           }
          }
         ],
         "hovertemplate": "Country or region=China<br>%{xaxis.title.text}=%{x}<br>%{yaxis.title.text}=%{y}<extra></extra>",
         "legendgroup": "China",
         "marker": {
          "color": "#FFA15A",
          "symbol": "circle"
         },
         "name": "China",
         "showlegend": true,
         "type": "splom"
        },
        {
         "diagonal": {
          "visible": false
         },
         "dimensions": [
          {
           "axis": {
            "matches": true
           },
           "label": "GDP per capita",
           "values": {
            "bdata": "+u5WlpReu0A=",
            "dtype": "f8"
           }
          },
          {
           "axis": {
            "matches": true
           },
           "label": "Score",
           "values": {
            "bdata": "N4lBYOU4UkA=",
            "dtype": "f8"
           }
          },
          {
           "axis": {
            "matches": true
           },
           "label": "Overall rank",
           "values": {
            "bdata": "GQ==",
            "dtype": "i1"
           }
          }
         ],
         "hovertemplate": "Country or region=Colombia<br>%{xaxis.title.text}=%{x}<br>%{yaxis.title.text}=%{y}<extra></extra>",
         "legendgroup": "Colombia",
         "marker": {
          "color": "#19d3f3",
          "symbol": "circle"
         },
         "name": "Colombia",
         "showlegend": true,
         "type": "splom"
        },
        {
         "diagonal": {
          "visible": false
         },
         "dimensions": [
          {
           "axis": {
            "matches": true
           },
           "label": "GDP per capita",
           "values": {
            "bdata": "Ej5K2y7RjkA=",
            "dtype": "f8"
           }
          },
          {
           "axis": {
            "matches": true
           },
           "label": "Score",
           "values": {
            "bdata": "fT81XrpJUEA=",
            "dtype": "f8"
           }
          },
          {
           "axis": {
            "matches": true
           },
           "label": "Overall rank",
           "values": {
            "bdata": "iAA=",
            "dtype": "i2"
           }
          }
         ],
         "hovertemplate": "Country or region=Comoros<br>%{xaxis.title.text}=%{x}<br>%{yaxis.title.text}=%{y}<extra></extra>",
         "legendgroup": "Comoros",
         "marker": {
          "color": "#FF6692",
          "symbol": "circle"
         },
         "name": "Comoros",
         "showlegend": true,
         "type": "splom"
        },
        {
         "diagonal": {
          "visible": false
         },
         "dimensions": [
          {
           "axis": {
            "matches": true
           },
           "label": "GDP per capita",
           "values": {
            "bdata": "NsjJadRYcUA=",
            "dtype": "f8"
           }
          },
          {
           "axis": {
            "matches": true
           },
           "label": "Score",
           "values": {
            "bdata": "QmDl0CI7R0A=",
            "dtype": "f8"
           }
          },
          {
           "axis": {
            "matches": true
           },
           "label": "Overall rank",
           "values": {
            "bdata": "Ew==",
            "dtype": "i1"
           }
          }
         ],
         "hovertemplate": "Country or region=Congo, Dem. Rep.<br>%{xaxis.title.text}=%{x}<br>%{yaxis.title.text}=%{y}<extra></extra>",
         "legendgroup": "Congo, Dem. Rep.",
         "marker": {
          "color": "#B6E880",
          "symbol": "circle"
         },
         "name": "Congo, Dem. Rep.",
         "showlegend": true,
         "type": "splom"
        },
        {
         "diagonal": {
          "visible": false
         },
         "dimensions": [
          {
           "axis": {
            "matches": true
           },
           "label": "GDP per capita",
           "values": {
            "bdata": "jA+zlx1hrEA=",
            "dtype": "f8"
           }
          },
          {
           "axis": {
            "matches": true
           },
           "label": "Score",
           "values": {
            "bdata": "8KfGSzepS0A=",
            "dtype": "f8"
           }
          },
          {
           "axis": {
            "matches": true
           },
           "label": "Overall rank",
           "values": {
            "bdata": "cw==",
            "dtype": "i1"
           }
          }
         ],
         "hovertemplate": "Country or region=Congo, Rep.<br>%{xaxis.title.text}=%{x}<br>%{yaxis.title.text}=%{y}<extra></extra>",
         "legendgroup": "Congo, Rep.",
         "marker": {
          "color": "#FF97FF",
          "symbol": "circle"
         },
         "name": "Congo, Rep.",
         "showlegend": true,
         "type": "splom"
        },
        {
         "diagonal": {
          "visible": false
         },
         "dimensions": [
          {
           "axis": {
            "matches": true
           },
           "label": "GDP per capita",
           "values": {
            "bdata": "qU2c3IfWwkA=",
            "dtype": "f8"
           }
          },
          {
           "axis": {
            "matches": true
           },
           "label": "Score",
           "values": {
            "bdata": "NV66SQyyU0A=",
            "dtype": "f8"
           }
          },
          {
           "axis": {
            "matches": true
           },
           "label": "Overall rank",
           "values": {
            "bdata": "bQ==",
            "dtype": "i1"
           }
          }
         ],
         "hovertemplate": "Country or region=Costa Rica<br>%{xaxis.title.text}=%{x}<br>%{yaxis.title.text}=%{y}<extra></extra>",
         "legendgroup": "Costa Rica",
         "marker": {
          "color": "#FECB52",
          "symbol": "circle"
         },
         "name": "Costa Rica",
         "showlegend": true,
         "type": "splom"
        },
        {
         "diagonal": {
          "visible": false
         },
         "dimensions": [
          {
           "axis": {
            "matches": true
           },
           "label": "GDP per capita",
           "values": {
            "bdata": "WTFcHQAjmEA=",
            "dtype": "f8"
           }
          },
          {
           "axis": {
            "matches": true
           },
           "label": "Score",
           "values": {
            "bdata": "RIts5/spSEA=",
            "dtype": "f8"
           }
          },
          {
           "axis": {
            "matches": true
           },
           "label": "Overall rank",
           "values": {
            "bdata": "Ng==",
            "dtype": "i1"
           }
          }
         ],
         "hovertemplate": "Country or region=Cote d'Ivoire<br>%{xaxis.title.text}=%{x}<br>%{yaxis.title.text}=%{y}<extra></extra>",
         "legendgroup": "Cote d'Ivoire",
         "marker": {
          "color": "#636efa",
          "symbol": "circle"
         },
         "name": "Cote d'Ivoire",
         "showlegend": true,
         "type": "splom"
        },
        {
         "diagonal": {
          "visible": false
         },
         "dimensions": [
          {
           "axis": {
            "matches": true
           },
           "label": "GDP per capita",
           "values": {
            "bdata": "FMYWgpyNzEA=",
            "dtype": "f8"
           }
          },
          {
           "axis": {
            "matches": true
           },
           "label": "Score",
           "values": {
            "bdata": "HVpkO9/vUkA=",
            "dtype": "f8"
           }
          },
          {
           "axis": {
            "matches": true
           },
           "label": "Overall rank",
           "values": {
            "bdata": "aw==",
            "dtype": "i1"
           }
          }
         ],
         "hovertemplate": "Country or region=Croatia<br>%{xaxis.title.text}=%{x}<br>%{yaxis.title.text}=%{y}<extra></extra>",
         "legendgroup": "Croatia",
         "marker": {
          "color": "#EF553B",
          "symbol": "circle"
         },
         "name": "Croatia",
         "showlegend": true,
         "type": "splom"
        },
        {
         "diagonal": {
          "visible": false
         },
         "dimensions": [
          {
           "axis": {
            "matches": true
           },
           "label": "GDP per capita",
           "values": {
            "bdata": "gbOULA16wUA=",
            "dtype": "f8"
           }
          },
          {
           "axis": {
            "matches": true
           },
           "label": "Score",
           "values": {
            "bdata": "tvP91HiRU0A=",
            "dtype": "f8"
           }
          },
          {
           "axis": {
            "matches": true
           },
           "label": "Overall rank",
           "values": {
            "bdata": "RQ==",
            "dtype": "i1"
           }
          }
         ],
         "hovertemplate": "Country or region=Cuba<br>%{xaxis.title.text}=%{x}<br>%{yaxis.title.text}=%{y}<extra></extra>",
         "legendgroup": "Cuba",
         "marker": {
          "color": "#00cc96",
          "symbol": "circle"
         },
         "name": "Cuba",
         "showlegend": true,
         "type": "splom"
        },
        {
         "diagonal": {
          "visible": false
         },
         "dimensions": [
          {
           "axis": {
            "matches": true
           },
           "label": "GDP per capita",
           "values": {
            "bdata": "H7qgvlNM1kA=",
            "dtype": "f8"
           }
          },
          {
           "axis": {
            "matches": true
           },
           "label": "Score",
           "values": {
            "bdata": "yXa+nxofU0A=",
            "dtype": "f8"
           }
          },
          {
           "axis": {
            "matches": true
           },
           "label": "Overall rank",
           "values": {
            "bdata": "Sw==",
            "dtype": "i1"
           }
          }
         ],
         "hovertemplate": "Country or region=Czech Republic<br>%{xaxis.title.text}=%{x}<br>%{yaxis.title.text}=%{y}<extra></extra>",
         "legendgroup": "Czech Republic",
         "marker": {
          "color": "#ab63fa",
          "symbol": "circle"
         },
         "name": "Czech Republic",
         "showlegend": true,
         "type": "splom"
        },
        {
         "diagonal": {
          "visible": false
         },
         "dimensions": [
          {
           "axis": {
            "matches": true
           },
           "label": "GDP per capita",
           "values": {
            "bdata": "sW1RZs054UA=",
            "dtype": "f8"
           }
          },
          {
           "axis": {
            "matches": true
           },
           "label": "Score",
           "values": {
            "bdata": "aJHtfD+VU0A=",
            "dtype": "f8"
           }
          },
          {
           "axis": {
            "matches": true
           },
           "label": "Overall rank",
           "values": {
            "bdata": "ZA==",
            "dtype": "i1"
           }
          }
         ],
         "hovertemplate": "Country or region=Denmark<br>%{xaxis.title.text}=%{x}<br>%{yaxis.title.text}=%{y}<extra></extra>",
         "legendgroup": "Denmark",
         "marker": {
          "color": "#FFA15A",
          "symbol": "circle"
         },
         "name": "Denmark",
         "showlegend": true,
         "type": "splom"
        },
        {
         "diagonal": {
          "visible": false
         },
         "dimensions": [
          {
           "axis": {
            "matches": true
           },
           "label": "GDP per capita",
           "values": {
            "bdata": "rCfzj/ZEoEA=",
            "dtype": "f8"
           }
          },
          {
           "axis": {
            "matches": true
           },
           "label": "Score",
           "values": {
            "bdata": "aJHtfD9lS0A=",
            "dtype": "f8"
           }
          },
          {
           "axis": {
            "matches": true
           },
           "label": "Overall rank",
           "values": {
            "bdata": "jAA=",
            "dtype": "i2"
           }
          }
         ],
         "hovertemplate": "Country or region=Djibouti<br>%{xaxis.title.text}=%{x}<br>%{yaxis.title.text}=%{y}<extra></extra>",
         "legendgroup": "Djibouti",
         "marker": {
          "color": "#19d3f3",
          "symbol": "circle"
         },
         "name": "Djibouti",
         "showlegend": true,
         "type": "splom"
        },
        {
         "diagonal": {
          "visible": false
         },
         "dimensions": [
          {
           "axis": {
            "matches": true
           },
           "label": "GDP per capita",
           "values": {
            "bdata": "HkC/71+Jt0A=",
            "dtype": "f8"
           }
          },
          {
           "axis": {
            "matches": true
           },
           "label": "Score",
           "values": {
            "bdata": "16NwPQoPUkA=",
            "dtype": "f8"
           }
          },
          {
           "axis": {
            "matches": true
           },
           "label": "Overall rank",
           "values": {
            "bdata": "Tw==",
            "dtype": "i1"
           }
          }
         ],
         "hovertemplate": "Country or region=Dominican Republic<br>%{xaxis.title.text}=%{x}<br>%{yaxis.title.text}=%{y}<extra></extra>",
         "legendgroup": "Dominican Republic",
         "marker": {
          "color": "#FF6692",
          "symbol": "circle"
         },
         "name": "Dominican Republic",
         "showlegend": true,
         "type": "splom"
        },
        {
         "diagonal": {
          "visible": false
         },
         "dimensions": [
          {
           "axis": {
            "matches": true
           },
           "label": "GDP per capita",
           "values": {
            "bdata": "5fbLJ0PZukA=",
            "dtype": "f8"
           }
          },
          {
           "axis": {
            "matches": true
           },
           "label": "Score",
           "values": {
            "bdata": "Vg4tsp2/UkA=",
            "dtype": "f8"
           }
          },
          {
           "axis": {
            "matches": true
           },
           "label": "Overall rank",
           "values": {
            "bdata": "PA==",
            "dtype": "i1"
           }
          }
         ],
         "hovertemplate": "Country or region=Ecuador<br>%{xaxis.title.text}=%{x}<br>%{yaxis.title.text}=%{y}<extra></extra>",
         "legendgroup": "Ecuador",
         "marker": {
          "color": "#B6E880",
          "symbol": "circle"
         },
         "name": "Ecuador",
         "showlegend": true,
         "type": "splom"
        },
        {
         "diagonal": {
          "visible": false
         },
         "dimensions": [
          {
           "axis": {
            "matches": true
           },
           "label": "GDP per capita",
           "values": {
            "bdata": "pIriVS7NtUA=",
            "dtype": "f8"
           }
          },
          {
           "axis": {
            "matches": true
           },
           "label": "Score",
           "values": {
            "bdata": "FIPAyqHVUUA=",
            "dtype": "f8"
           }
          },
          {
           "axis": {
            "matches": true
           },
           "label": "Overall rank",
           "values": {
            "bdata": "Dg==",
            "dtype": "i1"
           }
          }
         ],
         "hovertemplate": "Country or region=Egypt<br>%{xaxis.title.text}=%{x}<br>%{yaxis.title.text}=%{y}<extra></extra>",
         "legendgroup": "Egypt",
         "marker": {
          "color": "#FF97FF",
          "symbol": "circle"
         },
         "name": "Egypt",
         "showlegend": true,
         "type": "splom"
        },
        {
         "diagonal": {
          "visible": false
         },
         "dimensions": [
          {
           "axis": {
            "matches": true
           },
           "label": "GDP per capita",
           "values": {
            "bdata": "rrzkf1pgtkA=",
            "dtype": "f8"
           }
          },
          {
           "axis": {
            "matches": true
           },
           "label": "Score",
           "values": {
            "bdata": "1XjpJjH4UUA=",
            "dtype": "f8"
           }
          },
          {
           "axis": {
            "matches": true
           },
           "label": "Overall rank",
           "values": {
            "bdata": "XA==",
            "dtype": "i1"
           }
          }
         ],
         "hovertemplate": "Country or region=El Salvador<br>%{xaxis.title.text}=%{x}<br>%{yaxis.title.text}=%{y}<extra></extra>",
         "legendgroup": "El Salvador",
         "marker": {
          "color": "#FECB52",
          "symbol": "circle"
         },
         "name": "El Salvador",
         "showlegend": true,
         "type": "splom"
        },
        {
         "diagonal": {
          "visible": false
         },
         "dimensions": [
          {
           "axis": {
            "matches": true
           },
           "label": "GDP per capita",
           "values": {
            "bdata": "aJHtfAu9x0A=",
            "dtype": "f8"
           }
          },
          {
           "axis": {
            "matches": true
           },
           "label": "Score",
           "values": {
            "bdata": "JjEIrBzKSUA=",
            "dtype": "f8"
           }
          },
          {
           "axis": {
            "matches": true
           },
           "label": "Overall rank",
           "values": {
            "bdata": "iwA=",
            "dtype": "i2"
           }
          }
         ],
         "hovertemplate": "Country or region=Equatorial Guinea<br>%{xaxis.title.text}=%{x}<br>%{yaxis.title.text}=%{y}<extra></extra>",
         "legendgroup": "Equatorial Guinea",
         "marker": {
          "color": "#636efa",
          "symbol": "circle"
         },
         "name": "Equatorial Guinea",
         "showlegend": true,
         "type": "splom"
        },
        {
         "diagonal": {
          "visible": false
         },
         "dimensions": [
          {
           "axis": {
            "matches": true
           },
           "label": "GDP per capita",
           "values": {
            "bdata": "zwjKyPQKhEA=",
            "dtype": "f8"
           }
          },
          {
           "axis": {
            "matches": true
           },
           "label": "Score",
           "values": {
            "bdata": "hetRuB4FTUA=",
            "dtype": "f8"
           }
          },
          {
           "axis": {
            "matches": true
           },
           "label": "Overall rank",
           "values": {
            "bdata": "Zw==",
            "dtype": "i1"
           }
          }
         ],
         "hovertemplate": "Country or region=Eritrea<br>%{xaxis.title.text}=%{x}<br>%{yaxis.title.text}=%{y}<extra></extra>",
         "legendgroup": "Eritrea",
         "marker": {
          "color": "#EF553B",
          "symbol": "circle"
         },
         "name": "Eritrea",
         "showlegend": true,
         "type": "splom"
        },
        {
         "diagonal": {
          "visible": false
         },
         "dimensions": [
          {
           "axis": {
            "matches": true
           },
           "label": "GDP per capita",
           "values": {
            "bdata": "kQfH0XGWhUA=",
            "dtype": "f8"
           }
          },
          {
           "axis": {
            "matches": true
           },
           "label": "Score",
           "values": {
            "bdata": "8KfGSzd5SkA=",
            "dtype": "f8"
           }
          },
          {
           "axis": {
            "matches": true
           },
           "label": "Overall rank",
           "values": {
            "bdata": "Dw==",
            "dtype": "i1"
           }
          }
         ],
         "hovertemplate": "Country or region=Ethiopia<br>%{xaxis.title.text}=%{x}<br>%{yaxis.title.text}=%{y}<extra></extra>",
         "legendgroup": "Ethiopia",
         "marker": {
          "color": "#00cc96",
          "symbol": "circle"
         },
         "name": "Ethiopia",
         "showlegend": true,
         "type": "splom"
        },
        {
         "diagonal": {
          "visible": false
         },
         "dimensions": [
          {
           "axis": {
            "matches": true
           },
           "label": "GDP per capita",
           "values": {
            "bdata": "+aBns+I24EA=",
            "dtype": "f8"
           }
          },
          {
           "axis": {
            "matches": true
           },
           "label": "Score",
           "values": {
            "bdata": "eekmMQjUU0A=",
            "dtype": "f8"
           }
          },
          {
           "axis": {
            "matches": true
           },
           "label": "Overall rank",
           "values": {
            "bdata": "Zg==",
            "dtype": "i1"
           }
          }
         ],
         "hovertemplate": "Country or region=Finland<br>%{xaxis.title.text}=%{x}<br>%{yaxis.title.text}=%{y}<extra></extra>",
         "legendgroup": "Finland",
         "marker": {
          "color": "#ab63fa",
          "symbol": "circle"
         },
         "name": "Finland",
         "showlegend": true,
         "type": "splom"
        },
        {
         "diagonal": {
          "visible": false
         },
         "dimensions": [
          {
           "axis": {
            "matches": true
           },
           "label": "GDP per capita",
           "values": {
            "bdata": "duCcEYHB3UA=",
            "dtype": "f8"
           }
          },
          {
           "axis": {
            "matches": true
           },
           "label": "Score",
           "values": {
            "bdata": "NV66SQwqVEA=",
            "dtype": "f8"
           }
          },
          {
           "axis": {
            "matches": true
           },
           "label": "Overall rank",
           "values": {
            "bdata": "FA==",
            "dtype": "i1"
           }
          }
         ],
         "hovertemplate": "Country or region=France<br>%{xaxis.title.text}=%{x}<br>%{yaxis.title.text}=%{y}<extra></extra>",
         "legendgroup": "France",
         "marker": {
          "color": "#FFA15A",
          "symbol": "circle"
         },
         "name": "France",
         "showlegend": true,
         "type": "splom"
        },
        {
         "diagonal": {
          "visible": false
         },
         "dimensions": [
          {
           "axis": {
            "matches": true
           },
           "label": "GDP per capita",
           "values": {
            "bdata": "IVnABD7LyUA=",
            "dtype": "f8"
           }
          },
          {
           "axis": {
            "matches": true
           },
           "label": "Score",
           "values": {
            "bdata": "rkfhehReTEA=",
            "dtype": "f8"
           }
          },
          {
           "axis": {
            "matches": true
           },
           "label": "Overall rank",
           "values": {
            "bdata": "gwA=",
            "dtype": "i2"
           }
          }
         ],
         "hovertemplate": "Country or region=Gabon<br>%{xaxis.title.text}=%{x}<br>%{yaxis.title.text}=%{y}<extra></extra>",
         "legendgroup": "Gabon",
         "marker": {
          "color": "#19d3f3",
          "symbol": "circle"
         },
         "name": "Gabon",
         "showlegend": true,
         "type": "splom"
        },
        {
         "diagonal": {
          "visible": false
         },
         "dimensions": [
          {
           "axis": {
            "matches": true
           },
           "label": "GDP per capita",
           "values": {
            "bdata": "jnObcP+Fh0A=",
            "dtype": "f8"
           }
          },
          {
           "axis": {
            "matches": true
           },
           "label": "Score",
           "values": {
            "bdata": "001iEFi5TUA=",
            "dtype": "f8"
           }
          },
          {
           "axis": {
            "matches": true
           },
           "label": "Overall rank",
           "values": {
            "bdata": "gAA=",
            "dtype": "i2"
           }
          }
         ],
         "hovertemplate": "Country or region=Gambia<br>%{xaxis.title.text}=%{x}<br>%{yaxis.title.text}=%{y}<extra></extra>",
         "legendgroup": "Gambia",
         "marker": {
          "color": "#FF6692",
          "symbol": "circle"
         },
         "name": "Gambia",
         "showlegend": true,
         "type": "splom"
        },
        {
         "diagonal": {
          "visible": false
         },
         "dimensions": [
          {
           "axis": {
            "matches": true
           },
           "label": "GDP per capita",
           "values": {
            "bdata": "vk1/9pdq30A=",
            "dtype": "f8"
           }
          },
          {
           "axis": {
            "matches": true
           },
           "label": "Score",
           "values": {
            "bdata": "RIts5/vZU0A=",
            "dtype": "f8"
           }
          },
          {
           "axis": {
            "matches": true
           },
           "label": "Overall rank",
           "values": {
            "bdata": "DQ==",
            "dtype": "i1"
           }
          }
         ],
         "hovertemplate": "Country or region=Germany<br>%{xaxis.title.text}=%{x}<br>%{yaxis.title.text}=%{y}<extra></extra>",
         "legendgroup": "Germany",
         "marker": {
          "color": "#B6E880",
          "symbol": "circle"
         },
         "name": "Germany",
         "showlegend": true,
         "type": "splom"
        },
        {
         "diagonal": {
          "visible": false
         },
         "dimensions": [
          {
           "axis": {
            "matches": true
           },
           "label": "GDP per capita",
           "values": {
            "bdata": "1GAahm++lEA=",
            "dtype": "f8"
           }
          },
          {
           "axis": {
            "matches": true
           },
           "label": "Score",
           "values": {
            "bdata": "iUFg5dACTkA=",
            "dtype": "f8"
           }
          },
          {
           "axis": {
            "matches": true
           },
           "label": "Overall rank",
           "values": {
            "bdata": "Lg==",
            "dtype": "i1"
           }
          }
         ],
         "hovertemplate": "Country or region=Ghana<br>%{xaxis.title.text}=%{x}<br>%{yaxis.title.text}=%{y}<extra></extra>",
         "legendgroup": "Ghana",
         "marker": {
          "color": "#FF97FF",
          "symbol": "circle"
         },
         "name": "Ghana",
         "showlegend": true,
         "type": "splom"
        },
        {
         "diagonal": {
          "visible": false
         },
         "dimensions": [
          {
           "axis": {
            "matches": true
           },
           "label": "GDP per capita",
           "values": {
            "bdata": "eO49XJrk2kA=",
            "dtype": "f8"
           }
          },
          {
           "axis": {
            "matches": true
           },
           "label": "Score",
           "values": {
            "bdata": "9P3UeOneU0A=",
            "dtype": "f8"
           }
          },
          {
           "axis": {
            "matches": true
           },
           "label": "Overall rank",
           "values": {
            "bdata": "Rg==",
            "dtype": "i1"
           }
          }
         ],
         "hovertemplate": "Country or region=Greece<br>%{xaxis.title.text}=%{x}<br>%{yaxis.title.text}=%{y}<extra></extra>",
         "legendgroup": "Greece",
         "marker": {
          "color": "#FECB52",
          "symbol": "circle"
         },
         "name": "Greece",
         "showlegend": true,
         "type": "splom"
        },
        {
         "diagonal": {
          "visible": false
         },
         "dimensions": [
          {
           "axis": {
            "matches": true
           },
           "label": "GDP per capita",
           "values": {
            "bdata": "tCH/zAxCtEA=",
            "dtype": "f8"
           }
          },
          {
           "axis": {
            "matches": true
           },
           "label": "Score",
           "values": {
            "bdata": "f2q8dJOQUUA=",
            "dtype": "f8"
           }
          },
          {
           "axis": {
            "matches": true
           },
           "label": "Overall rank",
           "values": {
            "bdata": "Pw==",
            "dtype": "i1"
           }
          }
         ],
         "hovertemplate": "Country or region=Guatemala<br>%{xaxis.title.text}=%{x}<br>%{yaxis.title.text}=%{y}<extra></extra>",
         "legendgroup": "Guatemala",
         "marker": {
          "color": "#636efa",
          "symbol": "circle"
         },
         "name": "Guatemala",
         "showlegend": true,
         "type": "splom"
        },
        {
         "diagonal": {
          "visible": false
         },
         "dimensions": [
          {
           "axis": {
            "matches": true
           },
           "label": "GDP per capita",
           "values": {
            "bdata": "cXkH0zt1jUA=",
            "dtype": "f8"
           }
          },
          {
           "axis": {
            "matches": true
           },
           "label": "Score",
           "values": {
            "bdata": "N4lBYOUATEA=",
            "dtype": "f8"
           }
          },
          {
           "axis": {
            "matches": true
           },
           "label": "Overall rank",
           "values": {
            "bdata": "Tg==",
            "dtype": "i1"
           }
          }
         ],
         "hovertemplate": "Country or region=Guinea<br>%{xaxis.title.text}=%{x}<br>%{yaxis.title.text}=%{y}<extra></extra>",
         "legendgroup": "Guinea",
         "marker": {
          "color": "#EF553B",
          "symbol": "circle"
         },
         "name": "Guinea",
         "showlegend": true,
         "type": "splom"
        },
        {
         "diagonal": {
          "visible": false
         },
         "dimensions": [
          {
           "axis": {
            "matches": true
           },
           "label": "GDP per capita",
           "values": {
            "bdata": "nPASnNoZgkA=",
            "dtype": "f8"
           }
          },
          {
           "axis": {
            "matches": true
           },
           "label": "Score",
           "values": {
            "bdata": "jWzn+6kxR0A=",
            "dtype": "f8"
           }
          },
          {
           "axis": {
            "matches": true
           },
           "label": "Overall rank",
           "values": {
            "bdata": "ggA=",
            "dtype": "i2"
           }
          }
         ],
         "hovertemplate": "Country or region=Guinea-Bissau<br>%{xaxis.title.text}=%{x}<br>%{yaxis.title.text}=%{y}<extra></extra>",
         "legendgroup": "Guinea-Bissau",
         "marker": {
          "color": "#00cc96",
          "symbol": "circle"
         },
         "name": "Guinea-Bissau",
         "showlegend": true,
         "type": "splom"
        },
        {
         "diagonal": {
          "visible": false
         },
         "dimensions": [
          {
           "axis": {
            "matches": true
           },
           "label": "GDP per capita",
           "values": {
            "bdata": "ECIZcozGkkA=",
            "dtype": "f8"
           }
          },
          {
           "axis": {
            "matches": true
           },
           "label": "Score",
           "values": {
            "bdata": "aJHtfD91TkA=",
            "dtype": "f8"
           }
          },
          {
           "axis": {
            "matches": true
           },
           "label": "Overall rank",
           "values": {
            "bdata": "VA==",
            "dtype": "i1"
           }
          }
         ],
         "hovertemplate": "Country or region=Haiti<br>%{xaxis.title.text}=%{x}<br>%{yaxis.title.text}=%{y}<extra></extra>",
         "legendgroup": "Haiti",
         "marker": {
          "color": "#ab63fa",
          "symbol": "circle"
         },
         "name": "Haiti",
         "showlegend": true,
         "type": "splom"
        },
        {
         "diagonal": {
          "visible": false
         },
         "dimensions": [
          {
           "axis": {
            "matches": true
           },
           "label": "GDP per capita",
           "values": {
            "bdata": "CJylZKm4q0A=",
            "dtype": "f8"
           }
          },
          {
           "axis": {
            "matches": true
           },
           "label": "Score",
           "values": {
            "bdata": "6iYxCKyMUUA=",
            "dtype": "f8"
           }
          },
          {
           "axis": {
            "matches": true
           },
           "label": "Overall rank",
           "values": {
            "bdata": "WQ==",
            "dtype": "i1"
           }
          }
         ],
         "hovertemplate": "Country or region=Honduras<br>%{xaxis.title.text}=%{x}<br>%{yaxis.title.text}=%{y}<extra></extra>",
         "legendgroup": "Honduras",
         "marker": {
          "color": "#FFA15A",
          "symbol": "circle"
         },
         "name": "Honduras",
         "showlegend": true,
         "type": "splom"
        },
        {
         "diagonal": {
          "visible": false
         },
         "dimensions": [
          {
           "axis": {
            "matches": true
           },
           "label": "GDP per capita",
           "values": {
            "bdata": "cr9DUZ9l40A=",
            "dtype": "f8"
           }
          },
          {
           "axis": {
            "matches": true
           },
           "label": "Score",
           "values": {
            "bdata": "WmQ730+NVEA=",
            "dtype": "f8"
           }
          },
          {
           "axis": {
            "matches": true
           },
           "label": "Overall rank",
           "values": {
            "bdata": "Ww==",
            "dtype": "i1"
           }
          }
         ],
         "hovertemplate": "Country or region=Hong Kong, China<br>%{xaxis.title.text}=%{x}<br>%{yaxis.title.text}=%{y}<extra></extra>",
         "legendgroup": "Hong Kong, China",
         "marker": {
          "color": "#19d3f3",
          "symbol": "circle"
         },
         "name": "Hong Kong, China",
         "showlegend": true,
         "type": "splom"
        },
        {
         "diagonal": {
          "visible": false
         },
         "dimensions": [
          {
           "axis": {
            "matches": true
           },
           "label": "GDP per capita",
           "values": {
            "bdata": "Qni0cTyW0UA=",
            "dtype": "f8"
           }
          },
          {
           "axis": {
            "matches": true
           },
           "label": "Score",
           "values": {
            "bdata": "FIPAyqFVUkA=",
            "dtype": "f8"
           }
          },
          {
           "axis": {
            "matches": true
           },
           "label": "Overall rank",
           "values": {
            "bdata": "TQ==",
            "dtype": "i1"
           }
          }
         ],
         "hovertemplate": "Country or region=Hungary<br>%{xaxis.title.text}=%{x}<br>%{yaxis.title.text}=%{y}<extra></extra>",
         "legendgroup": "Hungary",
         "marker": {
          "color": "#FF6692",
          "symbol": "circle"
         },
         "name": "Hungary",
         "showlegend": true,
         "type": "splom"
        },
        {
         "diagonal": {
          "visible": false
         },
         "dimensions": [
          {
           "axis": {
            "matches": true
           },
           "label": "GDP per capita",
           "values": {
            "bdata": "C2MLQZmq4UA=",
            "dtype": "f8"
           }
          },
          {
           "axis": {
            "matches": true
           },
           "label": "Score",
           "values": {
            "bdata": "nMQgsHJwVEA=",
            "dtype": "f8"
           }
          },
          {
           "axis": {
            "matches": true
           },
           "label": "Overall rank",
           "values": {
            "bdata": "jQA=",
            "dtype": "i2"
           }
          }
         ],
         "hovertemplate": "Country or region=Iceland<br>%{xaxis.title.text}=%{x}<br>%{yaxis.title.text}=%{y}<extra></extra>",
         "legendgroup": "Iceland",
         "marker": {
          "color": "#B6E880",
          "symbol": "circle"
         },
         "name": "Iceland",
         "showlegend": true,
         "type": "splom"
        },
        {
         "diagonal": {
          "visible": false
         },
         "dimensions": [
          {
           "axis": {
            "matches": true
           },
           "label": "GDP per capita",
           "values": {
            "bdata": "s193umsoo0A=",
            "dtype": "f8"
           }
          },
          {
           "axis": {
            "matches": true
           },
           "label": "Score",
           "values": {
            "bdata": "6iYxCKwsUEA=",
            "dtype": "f8"
           }
          },
          {
           "axis": {
            "matches": true
           },
           "label": "Overall rank",
           "values": {
            "bdata": "Ag==",
            "dtype": "i1"
           }
          }
         ],
         "hovertemplate": "Country or region=India<br>%{xaxis.title.text}=%{x}<br>%{yaxis.title.text}=%{y}<extra></extra>",
         "legendgroup": "India",
         "marker": {
          "color": "#FF97FF",
          "symbol": "circle"
         },
         "name": "India",
         "showlegend": true,
         "type": "splom"
        },
        {
         "diagonal": {
          "visible": false
         },
         "dimensions": [
          {
           "axis": {
            "matches": true
           },
           "label": "GDP per capita",
           "values": {
            "bdata": "gO7LmU2pq0A=",
            "dtype": "f8"
           }
          },
          {
           "axis": {
            "matches": true
           },
           "label": "Score",
           "values": {
            "bdata": "mpmZmZmpUUA=",
            "dtype": "f8"
           }
          },
          {
           "axis": {
            "matches": true
           },
           "label": "Overall rank",
           "values": {
            "bdata": "BA==",
            "dtype": "i1"
           }
          }
         ],
         "hovertemplate": "Country or region=Indonesia<br>%{xaxis.title.text}=%{x}<br>%{yaxis.title.text}=%{y}<extra></extra>",
         "legendgroup": "Indonesia",
         "marker": {
          "color": "#FECB52",
          "symbol": "circle"
         },
         "name": "Indonesia",
         "showlegend": true,
         "type": "splom"
        },
        {
         "diagonal": {
          "visible": false
         },
         "dimensions": [
          {
           "axis": {
            "matches": true
           },
           "label": "GDP per capita",
           "values": {
            "bdata": "qYdodNuqxkA=",
            "dtype": "f8"
           }
          },
          {
           "axis": {
            "matches": true
           },
           "label": "Score",
           "values": {
            "bdata": "BFYOLbK9UUA=",
            "dtype": "f8"
           }
          },
          {
           "axis": {
            "matches": true
           },
           "label": "Overall rank",
           "values": {
            "bdata": "EQ==",
            "dtype": "i1"
           }
          }
         ],
         "hovertemplate": "Country or region=Iran<br>%{xaxis.title.text}=%{x}<br>%{yaxis.title.text}=%{y}<extra></extra>",
         "legendgroup": "Iran",
         "marker": {
          "color": "#636efa",
          "symbol": "circle"
         },
         "name": "Iran",
         "showlegend": true,
         "type": "splom"
        },
        {
         "diagonal": {
          "visible": false
         },
         "dimensions": [
          {
           "axis": {
            "matches": true
           },
           "label": "GDP per capita",
           "values": {
            "bdata": "bVUS2Q93sUA=",
            "dtype": "f8"
           }
          },
          {
           "axis": {
            "matches": true
           },
           "label": "Score",
           "values": {
            "bdata": "9ihcj8LFTUA=",
            "dtype": "f8"
           }
          },
          {
           "axis": {
            "matches": true
           },
           "label": "Overall rank",
           "values": {
            "bdata": "KQ==",
            "dtype": "i1"
           }
          }
         ],
         "hovertemplate": "Country or region=Iraq<br>%{xaxis.title.text}=%{x}<br>%{yaxis.title.text}=%{y}<extra></extra>",
         "legendgroup": "Iraq",
         "marker": {
          "color": "#EF553B",
          "symbol": "circle"
         },
         "name": "Iraq",
         "showlegend": true,
         "type": "splom"
        },
        {
         "diagonal": {
          "visible": false
         },
         "dimensions": [
          {
           "axis": {
            "matches": true
           },
           "label": "GDP per capita",
           "values": {
            "bdata": "LGUZ4n/c40A=",
            "dtype": "f8"
           }
          },
          {
           "axis": {
            "matches": true
           },
           "label": "Score",
           "values": {
            "bdata": "cT0K16O4U0A=",
            "dtype": "f8"
           }
          },
          {
           "axis": {
            "matches": true
           },
           "label": "Overall rank",
           "values": {
            "bdata": "bw==",
            "dtype": "i1"
           }
          }
         ],
         "hovertemplate": "Country or region=Ireland<br>%{xaxis.title.text}=%{x}<br>%{yaxis.title.text}=%{y}<extra></extra>",
         "legendgroup": "Ireland",
         "marker": {
          "color": "#00cc96",
          "symbol": "circle"
         },
         "name": "Ireland",
         "showlegend": true,
         "type": "splom"
        },
        {
         "diagonal": {
          "visible": false
         },
         "dimensions": [
          {
           "axis": {
            "matches": true
           },
           "label": "GDP per capita",
           "values": {
            "bdata": "bqMBvNHs2EA=",
            "dtype": "f8"
           }
          },
          {
           "axis": {
            "matches": true
           },
           "label": "Score",
           "values": {
            "bdata": "SOF6FK4vVEA=",
            "dtype": "f8"
           }
          },
          {
           "axis": {
            "matches": true
           },
           "label": "Overall rank",
           "values": {
            "bdata": "Xg==",
            "dtype": "i1"
           }
          }
         ],
         "hovertemplate": "Country or region=Israel<br>%{xaxis.title.text}=%{x}<br>%{yaxis.title.text}=%{y}<extra></extra>",
         "legendgroup": "Israel",
         "marker": {
          "color": "#ab63fa",
          "symbol": "circle"
         },
         "name": "Israel",
         "showlegend": true,
         "type": "splom"
        },
        {
         "diagonal": {
          "visible": false
         },
         "dimensions": [
          {
           "axis": {
            "matches": true
           },
           "label": "GDP per capita",
           "values": {
            "bdata": "vJaQD27m20A=",
            "dtype": "f8"
           }
          },
          {
           "axis": {
            "matches": true
           },
           "label": "Score",
           "values": {
            "bdata": "bef7qfEiVEA=",
            "dtype": "f8"
           }
          },
          {
           "axis": {
            "matches": true
           },
           "label": "Overall rank",
           "values": {
            "bdata": "Fg==",
            "dtype": "i1"
           }
          }
         ],
         "hovertemplate": "Country or region=Italy<br>%{xaxis.title.text}=%{x}<br>%{yaxis.title.text}=%{y}<extra></extra>",
         "legendgroup": "Italy",
         "marker": {
          "color": "#FFA15A",
          "symbol": "circle"
         },
         "name": "Italy",
         "showlegend": true,
         "type": "splom"
        },
        {
         "diagonal": {
          "visible": false
         },
         "dimensions": [
          {
           "axis": {
            "matches": true
           },
           "label": "GDP per capita",
           "values": {
            "bdata": "67XZWOGYvEA=",
            "dtype": "f8"
           }
          },
          {
           "axis": {
            "matches": true
           },
           "label": "Score",
           "values": {
            "bdata": "PzVeukkkUkA=",
            "dtype": "f8"
           }
          },
          {
           "axis": {
            "matches": true
           },
           "label": "Overall rank",
           "values": {
            "bdata": "ew==",
            "dtype": "i1"
           }
          }
         ],
         "hovertemplate": "Country or region=Jamaica<br>%{xaxis.title.text}=%{x}<br>%{yaxis.title.text}=%{y}<extra></extra>",
         "legendgroup": "Jamaica",
         "marker": {
          "color": "#19d3f3",
          "symbol": "circle"
         },
         "name": "Jamaica",
         "showlegend": true,
         "type": "splom"
        },
        {
         "diagonal": {
          "visible": false
         },
         "dimensions": [
          {
           "axis": {
            "matches": true
           },
           "label": "GDP per capita",
           "values": {
            "bdata": "i1QYWwTq3kA=",
            "dtype": "f8"
           }
          },
          {
           "axis": {
            "matches": true
           },
           "label": "Score",
           "values": {
            "bdata": "O99PjZemVEA=",
            "dtype": "f8"
           }
          },
          {
           "axis": {
            "matches": true
           },
           "label": "Overall rank",
           "values": {
            "bdata": "CQ==",
            "dtype": "i1"
           }
          }
         ],
         "hovertemplate": "Country or region=Japan<br>%{xaxis.title.text}=%{x}<br>%{yaxis.title.text}=%{y}<extra></extra>",
         "legendgroup": "Japan",
         "marker": {
          "color": "#FF6692",
          "symbol": "circle"
         },
         "name": "Japan",
         "showlegend": true,
         "type": "splom"
        },
        {
         "diagonal": {
          "visible": false
         },
         "dimensions": [
          {
           "axis": {
            "matches": true
           },
           "label": "GDP per capita",
           "values": {
            "bdata": "3XpND3ansUA=",
            "dtype": "f8"
           }
          },
          {
           "axis": {
            "matches": true
           },
           "label": "Score",
           "values": {
            "bdata": "CtejcD0iUkA=",
            "dtype": "f8"
           }
          },
          {
           "axis": {
            "matches": true
           },
           "label": "Overall rank",
           "values": {
            "bdata": "YA==",
            "dtype": "i1"
           }
          }
         ],
         "hovertemplate": "Country or region=Jordan<br>%{xaxis.title.text}=%{x}<br>%{yaxis.title.text}=%{y}<extra></extra>",
         "legendgroup": "Jordan",
         "marker": {
          "color": "#B6E880",
          "symbol": "circle"
         },
         "name": "Jordan",
         "showlegend": true,
         "type": "splom"
        },
        {
         "diagonal": {
          "visible": false
         },
         "dimensions": [
          {
           "axis": {
            "matches": true
           },
           "label": "GDP per capita",
           "values": {
            "bdata": "7dXHQ//clkA=",
            "dtype": "f8"
           }
          },
          {
           "axis": {
            "matches": true
           },
           "label": "Score",
           "values": {
            "bdata": "rkfhehQOS0A=",
            "dtype": "f8"
           }
          },
          {
           "axis": {
            "matches": true
           },
           "label": "Overall rank",
           "values": {
            "bdata": "IA==",
            "dtype": "i1"
           }
          }
         ],
         "hovertemplate": "Country or region=Kenya<br>%{xaxis.title.text}=%{x}<br>%{yaxis.title.text}=%{y}<extra></extra>",
         "legendgroup": "Kenya",
         "marker": {
          "color": "#FF97FF",
          "symbol": "circle"
         },
         "name": "Kenya",
         "showlegend": true,
         "type": "splom"
        },
        {
         "diagonal": {
          "visible": false
         },
         "dimensions": [
          {
           "axis": {
            "matches": true
           },
           "label": "GDP per capita",
           "values": {
            "bdata": "K2owDUPkmEA=",
            "dtype": "f8"
           }
          },
          {
           "axis": {
            "matches": true
           },
           "label": "Score",
           "values": {
            "bdata": "XrpJDALTUEA=",
            "dtype": "f8"
           }
          },
          {
           "axis": {
            "matches": true
           },
           "label": "Overall rank",
           "values": {
            "bdata": "LA==",
            "dtype": "i1"
           }
          }
         ],
         "hovertemplate": "Country or region=Korea, Dem. Rep.<br>%{xaxis.title.text}=%{x}<br>%{yaxis.title.text}=%{y}<extra></extra>",
         "legendgroup": "Korea, Dem. Rep.",
         "marker": {
          "color": "#FECB52",
          "symbol": "circle"
         },
         "name": "Korea, Dem. Rep.",
         "showlegend": true,
         "type": "splom"
        },
        {
         "diagonal": {
          "visible": false
         },
         "dimensions": [
          {
           "axis": {
            "matches": true
           },
           "label": "GDP per capita",
           "values": {
            "bdata": "ExlW8QjN1kA=",
            "dtype": "f8"
           }
          },
          {
           "axis": {
            "matches": true
           },
           "label": "Score",
           "values": {
            "bdata": "HVpkO9+nU0A=",
            "dtype": "f8"
           }
          },
          {
           "axis": {
            "matches": true
           },
           "label": "Overall rank",
           "values": {
            "bdata": "Fw==",
            "dtype": "i1"
           }
          }
         ],
         "hovertemplate": "Country or region=Korea, Rep.<br>%{xaxis.title.text}=%{x}<br>%{yaxis.title.text}=%{y}<extra></extra>",
         "legendgroup": "Korea, Rep.",
         "marker": {
          "color": "#636efa",
          "symbol": "circle"
         },
         "name": "Korea, Rep.",
         "showlegend": true,
         "type": "splom"
        },
        {
         "diagonal": {
          "visible": false
         },
         "dimensions": [
          {
           "axis": {
            "matches": true
           },
           "label": "GDP per capita",
           "values": {
            "bdata": "SBtHrF8Z50A=",
            "dtype": "f8"
           }
          },
          {
           "axis": {
            "matches": true
           },
           "label": "Score",
           "values": {
            "bdata": "FIPAyqFlU0A=",
            "dtype": "f8"
           }
          },
          {
           "axis": {
            "matches": true
           },
           "label": "Overall rank",
           "values": {
            "bdata": "fA==",
            "dtype": "i1"
           }
          }
         ],
         "hovertemplate": "Country or region=Kuwait<br>%{xaxis.title.text}=%{x}<br>%{yaxis.title.text}=%{y}<extra></extra>",
         "legendgroup": "Kuwait",
         "marker": {
          "color": "#EF553B",
          "symbol": "circle"
         },
         "name": "Kuwait",
         "showlegend": true,
         "type": "splom"
        },
        {
         "diagonal": {
          "visible": false
         },
         "dimensions": [
          {
           "axis": {
            "matches": true
           },
           "label": "GDP per capita",
           "values": {
            "bdata": "d4TTgoduxEA=",
            "dtype": "f8"
           }
          },
          {
           "axis": {
            "matches": true
           },
           "label": "Score",
           "values": {
            "bdata": "ZDvfT43/UUA=",
            "dtype": "f8"
           }
          },
          {
           "axis": {
            "matches": true
           },
           "label": "Overall rank",
           "values": {
            "bdata": "cg==",
            "dtype": "i1"
           }
          }
         ],
         "hovertemplate": "Country or region=Lebanon<br>%{xaxis.title.text}=%{x}<br>%{yaxis.title.text}=%{y}<extra></extra>",
         "legendgroup": "Lebanon",
         "marker": {
          "color": "#00cc96",
          "symbol": "circle"
         },
         "name": "Lebanon",
         "showlegend": true,
         "type": "splom"
        },
        {
         "diagonal": {
          "visible": false
         },
         "dimensions": [
          {
           "axis": {
            "matches": true
           },
           "label": "GDP per capita",
           "values": {
            "bdata": "FRqIZVOFmEA=",
            "dtype": "f8"
           }
          },
          {
           "axis": {
            "matches": true
           },
           "label": "Score",
           "values": {
            "bdata": "sp3vp8ZLRUA=",
            "dtype": "f8"
           }
          },
          {
           "axis": {
            "matches": true
           },
           "label": "Overall rank",
           "values": {
            "bdata": "fg==",
            "dtype": "i1"
           }
          }
         ],
         "hovertemplate": "Country or region=Lesotho<br>%{xaxis.title.text}=%{x}<br>%{yaxis.title.text}=%{y}<extra></extra>",
         "legendgroup": "Lesotho",
         "marker": {
          "color": "#ab63fa",
          "symbol": "circle"
         },
         "name": "Lesotho",
         "showlegend": true,
         "type": "splom"
        },
        {
         "diagonal": {
          "visible": false
         },
         "dimensions": [
          {
           "axis": {
            "matches": true
           },
           "label": "GDP per capita",
           "values": {
            "bdata": "deYeEh7oeUA=",
            "dtype": "f8"
           }
          },
          {
           "axis": {
            "matches": true
           },
           "label": "Score",
           "values": {
            "bdata": "EFg5tMjWRkA=",
            "dtype": "f8"
           }
          },
          {
           "axis": {
            "matches": true
           },
           "label": "Overall rank",
           "values": {
            "bdata": "eQ==",
            "dtype": "i1"
           }
          }
         ],
         "hovertemplate": "Country or region=Liberia<br>%{xaxis.title.text}=%{x}<br>%{yaxis.title.text}=%{y}<extra></extra>",
         "legendgroup": "Liberia",
         "marker": {
          "color": "#FFA15A",
          "symbol": "circle"
         },
         "name": "Liberia",
         "showlegend": true,
         "type": "splom"
        },
        {
         "diagonal": {
          "visible": false
         },
         "dimensions": [
          {
           "axis": {
            "matches": true
           },
           "label": "GDP per capita",
           "values": {
            "bdata": "xjNo6L+Mx0A=",
            "dtype": "f8"
           }
          },
          {
           "axis": {
            "matches": true
           },
           "label": "Score",
           "values": {
            "bdata": "sHJoke18UkA=",
            "dtype": "f8"
           }
          },
          {
           "axis": {
            "matches": true
           },
           "label": "Overall rank",
           "values": {
            "bdata": "YQ==",
            "dtype": "i1"
           }
          }
         ],
         "hovertemplate": "Country or region=Libya<br>%{xaxis.title.text}=%{x}<br>%{yaxis.title.text}=%{y}<extra></extra>",
         "legendgroup": "Libya",
         "marker": {
          "color": "#19d3f3",
          "symbol": "circle"
         },
         "name": "Libya",
         "showlegend": true,
         "type": "splom"
        },
        {
         "diagonal": {
          "visible": false
         },
         "dimensions": [
          {
           "axis": {
            "matches": true
           },
           "label": "GDP per capita",
           "values": {
            "bdata": "Mv/omxRTkEA=",
            "dtype": "f8"
           }
          },
          {
           "axis": {
            "matches": true
           },
           "label": "Score",
           "values": {
            "bdata": "ZBBYObS4TUA=",
            "dtype": "f8"
           }
          },
          {
           "axis": {
            "matches": true
           },
           "label": "Overall rank",
           "values": {
            "bdata": "NQ==",
            "dtype": "i1"
           }
          }
         ],
         "hovertemplate": "Country or region=Madagascar<br>%{xaxis.title.text}=%{x}<br>%{yaxis.title.text}=%{y}<extra></extra>",
         "legendgroup": "Madagascar",
         "marker": {
          "color": "#FF6692",
          "symbol": "circle"
         },
         "name": "Madagascar",
         "showlegend": true,
         "type": "splom"
        },
        {
         "diagonal": {
          "visible": false
         },
         "dimensions": [
          {
           "axis": {
            "matches": true
           },
           "label": "GDP per capita",
           "values": {
            "bdata": "UqCqncy6h0A=",
            "dtype": "f8"
           }
          },
          {
           "axis": {
            "matches": true
           },
           "label": "Score",
           "values": {
            "bdata": "EFg5tMgmSEA=",
            "dtype": "f8"
           }
          },
          {
           "axis": {
            "matches": true
           },
           "label": "Overall rank",
           "values": {
            "bdata": "PQ==",
            "dtype": "i1"
           }
          }
         ],
         "hovertemplate": "Country or region=Malawi<br>%{xaxis.title.text}=%{x}<br>%{yaxis.title.text}=%{y}<extra></extra>",
         "legendgroup": "Malawi",
         "marker": {
          "color": "#B6E880",
          "symbol": "circle"
         },
         "name": "Malawi",
         "showlegend": true,
         "type": "splom"
        },
        {
         "diagonal": {
          "visible": false
         },
         "dimensions": [
          {
           "axis": {
            "matches": true
           },
           "label": "GDP per capita",
           "values": {
            "bdata": "XCBB8dNRyEA=",
            "dtype": "f8"
           }
          },
          {
           "axis": {
            "matches": true
           },
           "label": "Score",
           "values": {
            "bdata": "gZVDi2yPUkA=",
            "dtype": "f8"
           }
          },
          {
           "axis": {
            "matches": true
           },
           "label": "Overall rank",
           "values": {
            "bdata": "Kw==",
            "dtype": "i1"
           }
          }
         ],
         "hovertemplate": "Country or region=Malaysia<br>%{xaxis.title.text}=%{x}<br>%{yaxis.title.text}=%{y}<extra></extra>",
         "legendgroup": "Malaysia",
         "marker": {
          "color": "#FF97FF",
          "symbol": "circle"
         },
         "name": "Malaysia",
         "showlegend": true,
         "type": "splom"
        },
        {
         "diagonal": {
          "visible": false
         },
         "dimensions": [
          {
           "axis": {
            "matches": true
           },
           "label": "GDP per capita",
           "values": {
            "bdata": "Cp+tg1NKkEA=",
            "dtype": "f8"
           }
          },
          {
           "axis": {
            "matches": true
           },
           "label": "Score",
           "values": {
            "bdata": "sp3vp8Y7S0A=",
            "dtype": "f8"
           }
          },
          {
           "axis": {
            "matches": true
           },
           "label": "Overall rank",
           "values": {
            "bdata": "Qw==",
            "dtype": "i1"
           }
          }
         ],
         "hovertemplate": "Country or region=Mali<br>%{xaxis.title.text}=%{x}<br>%{yaxis.title.text}=%{y}<extra></extra>",
         "legendgroup": "Mali",
         "marker": {
          "color": "#FECB52",
          "symbol": "circle"
         },
         "name": "Mali",
         "showlegend": true,
         "type": "splom"
        },
        {
         "diagonal": {
          "visible": false
         },
         "dimensions": [
          {
           "axis": {
            "matches": true
           },
           "label": "GDP per capita",
           "values": {
            "bdata": "5nXEIZssnEA=",
            "dtype": "f8"
           }
          },
          {
           "axis": {
            "matches": true
           },
           "label": "Score",
           "values": {
            "bdata": "0SLb+X4KUEA=",
            "dtype": "f8"
           }
          },
          {
           "axis": {
            "matches": true
           },
           "label": "Overall rank",
           "values": {
            "bdata": "dg==",
            "dtype": "i1"
           }
          }
         ],
         "hovertemplate": "Country or region=Mauritania<br>%{xaxis.title.text}=%{x}<br>%{yaxis.title.text}=%{y}<extra></extra>",
         "legendgroup": "Mauritania",
         "marker": {
          "color": "#636efa",
          "symbol": "circle"
         },
         "name": "Mauritania",
         "showlegend": true,
         "type": "splom"
        },
        {
         "diagonal": {
          "visible": false
         },
         "dimensions": [
          {
           "axis": {
            "matches": true
           },
           "label": "GDP per capita",
           "values": {
            "bdata": "NSkF3X5mxUA=",
            "dtype": "f8"
           }
          },
          {
           "axis": {
            "matches": true
           },
           "label": "Score",
           "values": {
            "bdata": "JQaBlUMzUkA=",
            "dtype": "f8"
           }
          },
          {
           "axis": {
            "matches": true
           },
           "label": "Overall rank",
           "values": {
            "bdata": "hAA=",
            "dtype": "i2"
           }
          }
         ],
         "hovertemplate": "Country or region=Mauritius<br>%{xaxis.title.text}=%{x}<br>%{yaxis.title.text}=%{y}<extra></extra>",
         "legendgroup": "Mauritius",
         "marker": {
          "color": "#EF553B",
          "symbol": "circle"
         },
         "name": "Mauritius",
         "showlegend": true,
         "type": "splom"
        },
        {
         "diagonal": {
          "visible": false
         },
         "dimensions": [
          {
           "axis": {
            "matches": true
           },
           "label": "GDP per capita",
           "values": {
            "bdata": "QQ5KmMlkx0A=",
            "dtype": "f8"
           }
          },
          {
           "axis": {
            "matches": true
           },
           "label": "Score",
           "values": {
            "bdata": "FK5H4XoMU0A=",
            "dtype": "f8"
           }
          },
          {
           "axis": {
            "matches": true
           },
           "label": "Overall rank",
           "values": {
            "bdata": "Cg==",
            "dtype": "i1"
           }
          }
         ],
         "hovertemplate": "Country or region=Mexico<br>%{xaxis.title.text}=%{x}<br>%{yaxis.title.text}=%{y}<extra></extra>",
         "legendgroup": "Mexico",
         "marker": {
          "color": "#00cc96",
          "symbol": "circle"
         },
         "name": "Mexico",
         "showlegend": true,
         "type": "splom"
        },
        {
         "diagonal": {
          "visible": false
         },
         "dimensions": [
          {
           "axis": {
            "matches": true
           },
           "label": "GDP per capita",
           "values": {
            "bdata": "TsEaZ4svqEA=",
            "dtype": "f8"
           }
          },
          {
           "axis": {
            "matches": true
           },
           "label": "Score",
           "values": {
            "bdata": "CKwcWmSzUEA=",
            "dtype": "f8"
           }
          },
          {
           "axis": {
            "matches": true
           },
           "label": "Overall rank",
           "values": {
            "bdata": "eg==",
            "dtype": "i1"
           }
          }
         ],
         "hovertemplate": "Country or region=Mongolia<br>%{xaxis.title.text}=%{x}<br>%{yaxis.title.text}=%{y}<extra></extra>",
         "legendgroup": "Mongolia",
         "marker": {
          "color": "#ab63fa",
          "symbol": "circle"
         },
         "name": "Mongolia",
         "showlegend": true,
         "type": "splom"
        },
        {
         "diagonal": {
          "visible": false
         },
         "dimensions": [
          {
           "axis": {
            "matches": true
           },
           "label": "GDP per capita",
           "values": {
            "bdata": "S+fDs/ISwkA=",
            "dtype": "f8"
           }
          },
          {
           "axis": {
            "matches": true
           },
           "label": "Score",
           "values": {
            "bdata": "mG4Sg8CiUkA=",
            "dtype": "f8"
           }
          },
          {
           "axis": {
            "matches": true
           },
           "label": "Overall rank",
           "values": {
            "bdata": "igA=",
            "dtype": "i2"
           }
          }
         ],
         "hovertemplate": "Country or region=Montenegro<br>%{xaxis.title.text}=%{x}<br>%{yaxis.title.text}=%{y}<extra></extra>",
         "legendgroup": "Montenegro",
         "marker": {
          "color": "#FFA15A",
          "symbol": "circle"
         },
         "name": "Montenegro",
         "showlegend": true,
         "type": "splom"
        },
        {
         "diagonal": {
          "visible": false
         },
         "dimensions": [
          {
           "axis": {
            "matches": true
           },
           "label": "GDP per capita",
           "values": {
            "bdata": "jh6/t1nYrUA=",
            "dtype": "f8"
           }
          },
          {
           "axis": {
            "matches": true
           },
           "label": "Score",
           "values": {
            "bdata": "0SLb+X7KUUA=",
            "dtype": "f8"
           }
          },
          {
           "axis": {
            "matches": true
           },
           "label": "Overall rank",
           "values": {
            "bdata": "IQ==",
            "dtype": "i1"
           }
          }
         ],
         "hovertemplate": "Country or region=Morocco<br>%{xaxis.title.text}=%{x}<br>%{yaxis.title.text}=%{y}<extra></extra>",
         "legendgroup": "Morocco",
         "marker": {
          "color": "#19d3f3",
          "symbol": "circle"
         },
         "name": "Morocco",
         "showlegend": true,
         "type": "splom"
        },
        {
         "diagonal": {
          "visible": false
         },
         "dimensions": [
          {
           "axis": {
            "matches": true
           },
           "label": "GDP per capita",
           "values": {
            "bdata": "vceZJny9iUA=",
            "dtype": "f8"
           }
          },
          {
           "axis": {
            "matches": true
           },
           "label": "Score",
           "values": {
            "bdata": "0SLb+X4KRUA=",
            "dtype": "f8"
           }
          },
          {
           "axis": {
            "matches": true
           },
           "label": "Overall rank",
           "values": {
            "bdata": "Mw==",
            "dtype": "i1"
           }
          }
         ],
         "hovertemplate": "Country or region=Mozambique<br>%{xaxis.title.text}=%{x}<br>%{yaxis.title.text}=%{y}<extra></extra>",
         "legendgroup": "Mozambique",
         "marker": {
          "color": "#FF6692",
          "symbol": "circle"
         },
         "name": "Mozambique",
         "showlegend": true,
         "type": "splom"
        },
        {
         "diagonal": {
          "visible": false
         },
         "dimensions": [
          {
           "axis": {
            "matches": true
           },
           "label": "GDP per capita",
           "values": {
            "bdata": "AAAAAACAjUA=",
            "dtype": "f8"
           }
          },
          {
           "axis": {
            "matches": true
           },
           "label": "Score",
           "values": {
            "bdata": "Rrbz/dQIT0A=",
            "dtype": "f8"
           }
          },
          {
           "axis": {
            "matches": true
           },
           "label": "Overall rank",
           "values": {
            "bdata": "GA==",
            "dtype": "i1"
           }
          }
         ],
         "hovertemplate": "Country or region=Myanmar<br>%{xaxis.title.text}=%{x}<br>%{yaxis.title.text}=%{y}<extra></extra>",
         "legendgroup": "Myanmar",
         "marker": {
          "color": "#B6E880",
          "symbol": "circle"
         },
         "name": "Myanmar",
         "showlegend": true,
         "type": "splom"
        },
        {
         "diagonal": {
          "visible": false
         },
         "dimensions": [
          {
           "axis": {
            "matches": true
           },
           "label": "GDP per capita",
           "values": {
            "bdata": "u2JGeA/LskA=",
            "dtype": "f8"
           }
          },
          {
           "axis": {
            "matches": true
           },
           "label": "Score",
           "values": {
            "bdata": "iRbZzvdzSkA=",
            "dtype": "f8"
           }
          },
          {
           "axis": {
            "matches": true
           },
           "label": "Overall rank",
           "values": {
            "bdata": "fQ==",
            "dtype": "i1"
           }
          }
         ],
         "hovertemplate": "Country or region=Namibia<br>%{xaxis.title.text}=%{x}<br>%{yaxis.title.text}=%{y}<extra></extra>",
         "legendgroup": "Namibia",
         "marker": {
          "color": "#FF97FF",
          "symbol": "circle"
         },
         "name": "Namibia",
         "showlegend": true,
         "type": "splom"
        },
        {
         "diagonal": {
          "visible": false
         },
         "dimensions": [
          {
           "axis": {
            "matches": true
           },
           "label": "GDP per capita",
           "values": {
            "bdata": "SN+kaXANkUA=",
            "dtype": "f8"
           }
          },
          {
           "axis": {
            "matches": true
           },
           "label": "Score",
           "values": {
            "bdata": "FK5H4XrkT0A=",
            "dtype": "f8"
           }
          },
          {
           "axis": {
            "matches": true
           },
           "label": "Overall rank",
           "values": {
            "bdata": "Jg==",
            "dtype": "i1"
           }
          }
         ],
         "hovertemplate": "Country or region=Nepal<br>%{xaxis.title.text}=%{x}<br>%{yaxis.title.text}=%{y}<extra></extra>",
         "legendgroup": "Nepal",
         "marker": {
          "color": "#FECB52",
          "symbol": "circle"
         },
         "name": "Nepal",
         "showlegend": true,
         "type": "splom"
        },
        {
         "diagonal": {
          "visible": false
         },
         "dimensions": [
          {
           "axis": {
            "matches": true
           },
           "label": "GDP per capita",
           "values": {
            "bdata": "lufB3b334UA=",
            "dtype": "f8"
           }
          },
          {
           "axis": {
            "matches": true
           },
           "label": "Score",
           "values": {
            "bdata": "VOOlm8TwU0A=",
            "dtype": "f8"
           }
          },
          {
           "axis": {
            "matches": true
           },
           "label": "Overall rank",
           "values": {
            "bdata": "OA==",
            "dtype": "i1"
           }
          }
         ],
         "hovertemplate": "Country or region=Netherlands<br>%{xaxis.title.text}=%{x}<br>%{yaxis.title.text}=%{y}<extra></extra>",
         "legendgroup": "Netherlands",
         "marker": {
          "color": "#636efa",
          "symbol": "circle"
         },
         "name": "Netherlands",
         "showlegend": true,
         "type": "splom"
        },
        {
         "diagonal": {
          "visible": false
         },
         "dimensions": [
          {
           "axis": {
            "matches": true
           },
           "label": "GDP per capita",
           "values": {
            "bdata": "BBxClUCY2EA=",
            "dtype": "f8"
           }
          },
          {
           "axis": {
            "matches": true
           },
           "label": "Score",
           "values": {
            "bdata": "kxgEVg4NVEA=",
            "dtype": "f8"
           }
          },
          {
           "axis": {
            "matches": true
           },
           "label": "Overall rank",
           "values": {
            "bdata": "bg==",
            "dtype": "i1"
           }
          }
         ],
         "hovertemplate": "Country or region=New Zealand<br>%{xaxis.title.text}=%{x}<br>%{yaxis.title.text}=%{y}<extra></extra>",
         "legendgroup": "New Zealand",
         "marker": {
          "color": "#EF553B",
          "symbol": "circle"
         },
         "name": "New Zealand",
         "showlegend": true,
         "type": "splom"
        },
        {
         "diagonal": {
          "visible": false
         },
         "dimensions": [
          {
           "axis": {
            "matches": true
           },
           "label": "GDP per capita",
           "values": {
            "bdata": "UkSGVaR6pUA=",
            "dtype": "f8"
           }
          },
          {
           "axis": {
            "matches": true
           },
           "label": "Score",
           "values": {
            "bdata": "qMZLN4k5UkA=",
            "dtype": "f8"
           }
          },
          {
           "axis": {
            "matches": true
           },
           "label": "Overall rank",
           "values": {
            "bdata": "Yw==",
            "dtype": "i1"
           }
          }
         ],
         "hovertemplate": "Country or region=Nicaragua<br>%{xaxis.title.text}=%{x}<br>%{yaxis.title.text}=%{y}<extra></extra>",
         "legendgroup": "Nicaragua",
         "marker": {
          "color": "#00cc96",
          "symbol": "circle"
         },
         "name": "Nicaragua",
         "showlegend": true,
         "type": "splom"
        },
        {
         "diagonal": {
          "visible": false
         },
         "dimensions": [
          {
           "axis": {
            "matches": true
           },
           "label": "GDP per capita",
           "values": {
            "bdata": "SAeQRmpdg0A=",
            "dtype": "f8"
           }
          },
          {
           "axis": {
            "matches": true
           },
           "label": "Score",
           "values": {
            "bdata": "5dAi2/luTEA=",
            "dtype": "f8"
           }
          },
          {
           "axis": {
            "matches": true
           },
           "label": "Overall rank",
           "values": {
            "bdata": "Pg==",
            "dtype": "i1"
           }
          }
         ],
         "hovertemplate": "Country or region=Niger<br>%{xaxis.title.text}=%{x}<br>%{yaxis.title.text}=%{y}<extra></extra>",
         "legendgroup": "Niger",
         "marker": {
          "color": "#ab63fa",
          "symbol": "circle"
         },
         "name": "Niger",
         "showlegend": true,
         "type": "splom"
        },
        {
         "diagonal": {
          "visible": false
         },
         "dimensions": [
          {
           "axis": {
            "matches": true
           },
           "label": "GDP per capita",
           "values": {
            "bdata": "3lSkwuh3n0A=",
            "dtype": "f8"
           }
          },
          {
           "axis": {
            "matches": true
           },
           "label": "Score",
           "values": {
            "bdata": "y6FFtvNtR0A=",
            "dtype": "f8"
           }
          },
          {
           "axis": {
            "matches": true
           },
           "label": "Overall rank",
           "values": {
            "bdata": "CA==",
            "dtype": "i1"
           }
          }
         ],
         "hovertemplate": "Country or region=Nigeria<br>%{xaxis.title.text}=%{x}<br>%{yaxis.title.text}=%{y}<extra></extra>",
         "legendgroup": "Nigeria",
         "marker": {
          "color": "#FFA15A",
          "symbol": "circle"
         },
         "name": "Nigeria",
         "showlegend": true,
         "type": "splom"
        },
        {
         "diagonal": {
          "visible": false
         },
         "dimensions": [
          {
           "axis": {
            "matches": true
           },
           "label": "GDP per capita",
           "values": {
            "bdata": "VmXfFaYZ6EA=",
            "dtype": "f8"
           }
          },
          {
           "axis": {
            "matches": true
           },
           "label": "Score",
           "values": {
            "bdata": "BoGVQ4sMVEA=",
            "dtype": "f8"
           }
          },
          {
           "axis": {
            "matches": true
           },
           "label": "Overall rank",
           "values": {
            "bdata": "aA==",
            "dtype": "i1"
           }
          }
         ],
         "hovertemplate": "Country or region=Norway<br>%{xaxis.title.text}=%{x}<br>%{yaxis.title.text}=%{y}<extra></extra>",
         "legendgroup": "Norway",
         "marker": {
          "color": "#19d3f3",
          "symbol": "circle"
         },
         "name": "Norway",
         "showlegend": true,
         "type": "splom"
        },
        {
         "diagonal": {
          "visible": false
         },
         "dimensions": [
          {
           "axis": {
            "matches": true
           },
           "label": "GDP per capita",
           "values": {
            "bdata": "mGn7VwzL1UA=",
            "dtype": "f8"
           }
          },
          {
           "axis": {
            "matches": true
           },
           "label": "Score",
           "values": {
            "bdata": "KVyPwvXoUkA=",
            "dtype": "f8"
           }
          },
          {
           "axis": {
            "matches": true
           },
           "label": "Overall rank",
           "values": {
            "bdata": "eA==",
            "dtype": "i1"
           }
          }
         ],
         "hovertemplate": "Country or region=Oman<br>%{xaxis.title.text}=%{x}<br>%{yaxis.title.text}=%{y}<extra></extra>",
         "legendgroup": "Oman",
         "marker": {
          "color": "#FF6692",
          "symbol": "circle"
         },
         "name": "Oman",
         "showlegend": true,
         "type": "splom"
        },
        {
         "diagonal": {
          "visible": false
         },
         "dimensions": [
          {
           "axis": {
            "matches": true
           },
           "label": "GDP per capita",
           "values": {
            "bdata": "sKw0KeVbpEA=",
            "dtype": "f8"
           }
          },
          {
           "axis": {
            "matches": true
           },
           "label": "Score",
           "values": {
            "bdata": "9P3UeOleUEA=",
            "dtype": "f8"
           }
          },
          {
           "axis": {
            "matches": true
           },
           "label": "Overall rank",
           "values": {
            "bdata": "Bg==",
            "dtype": "i1"
           }
          }
         ],
         "hovertemplate": "Country or region=Pakistan<br>%{xaxis.title.text}=%{x}<br>%{yaxis.title.text}=%{y}<extra></extra>",
         "legendgroup": "Pakistan",
         "marker": {
          "color": "#B6E880",
          "symbol": "circle"
         },
         "name": "Pakistan",
         "showlegend": true,
         "type": "splom"
        },
        {
         "diagonal": {
          "visible": false
         },
         "dimensions": [
          {
           "axis": {
            "matches": true
           },
           "label": "GDP per capita",
           "values": {
            "bdata": "e6Lrwpcow0A=",
            "dtype": "f8"
           }
          },
          {
           "axis": {
            "matches": true
           },
           "label": "Score",
           "values": {
            "bdata": "7Hw/NV7iUkA=",
            "dtype": "f8"
           }
          },
          {
           "axis": {
            "matches": true
           },
           "label": "Overall rank",
           "values": {
            "bdata": "dw==",
            "dtype": "i1"
           }
          }
         ],
         "hovertemplate": "Country or region=Panama<br>%{xaxis.title.text}=%{x}<br>%{yaxis.title.text}=%{y}<extra></extra>",
         "legendgroup": "Panama",
         "marker": {
          "color": "#FF97FF",
          "symbol": "circle"
         },
         "name": "Panama",
         "showlegend": true,
         "type": "splom"
        },
        {
         "diagonal": {
          "visible": false
         },
         "dimensions": [
          {
           "axis": {
            "matches": true
           },
           "label": "GDP per capita",
           "values": {
            "bdata": "4KKTpdZMsEA=",
            "dtype": "f8"
           }
          },
          {
           "axis": {
            "matches": true
           },
           "label": "Score",
           "values": {
            "bdata": "46WbxCDwUUA=",
            "dtype": "f8"
           }
          },
          {
           "axis": {
            "matches": true
           },
           "label": "Overall rank",
           "values": {
            "bdata": "XQ==",
            "dtype": "i1"
           }
          }
         ],
         "hovertemplate": "Country or region=Paraguay<br>%{xaxis.title.text}=%{x}<br>%{yaxis.title.text}=%{y}<extra></extra>",
         "legendgroup": "Paraguay",
         "marker": {
          "color": "#FECB52",
          "symbol": "circle"
         },
         "name": "Paraguay",
         "showlegend": true,
         "type": "splom"
        },
        {
         "diagonal": {
          "visible": false
         },
         "dimensions": [
          {
           "axis": {
            "matches": true
           },
           "label": "GDP per capita",
           "values": {
            "bdata": "iH/Y0ufwvEA=",
            "dtype": "f8"
           }
          },
          {
           "axis": {
            "matches": true
           },
           "label": "Score",
           "values": {
            "bdata": "bef7qfHaUUA=",
            "dtype": "f8"
           }
          },
          {
           "axis": {
            "matches": true
           },
           "label": "Overall rank",
           "values": {
            "bdata": "Jw==",
            "dtype": "i1"
           }
          }
         ],
         "hovertemplate": "Country or region=Peru<br>%{xaxis.title.text}=%{x}<br>%{yaxis.title.text}=%{y}<extra></extra>",
         "legendgroup": "Peru",
         "marker": {
          "color": "#636efa",
          "symbol": "circle"
         },
         "name": "Peru",
         "showlegend": true,
         "type": "splom"
        },
        {
         "diagonal": {
          "visible": false
         },
         "dimensions": [
          {
           "axis": {
            "matches": true
           },
           "label": "GDP per capita",
           "values": {
            "bdata": "tam6R/bsqEA=",
            "dtype": "f8"
           }
          },
          {
           "axis": {
            "matches": true
           },
           "label": "Score",
           "values": {
            "bdata": "eekmMQjsUUA=",
            "dtype": "f8"
           }
          },
          {
           "axis": {
            "matches": true
           },
           "label": "Overall rank",
           "values": {
            "bdata": "Cw==",
            "dtype": "i1"
           }
          }
         ],
         "hovertemplate": "Country or region=Philippines<br>%{xaxis.title.text}=%{x}<br>%{yaxis.title.text}=%{y}<extra></extra>",
         "legendgroup": "Philippines",
         "marker": {
          "color": "#EF553B",
          "symbol": "circle"
         },
         "name": "Philippines",
         "showlegend": true,
         "type": "splom"
        },
        {
         "diagonal": {
          "visible": false
         },
         "dimensions": [
          {
           "axis": {
            "matches": true
           },
           "label": "GDP per capita",
           "values": {
            "bdata": "owvqW/YOzkA=",
            "dtype": "f8"
           }
          },
          {
           "axis": {
            "matches": true
           },
           "label": "Score",
           "values": {
            "bdata": "eekmMQjkUkA=",
            "dtype": "f8"
           }
          },
          {
           "axis": {
            "matches": true
           },
           "label": "Overall rank",
           "values": {
            "bdata": "Hg==",
            "dtype": "i1"
           }
          }
         ],
         "hovertemplate": "Country or region=Poland<br>%{xaxis.title.text}=%{x}<br>%{yaxis.title.text}=%{y}<extra></extra>",
         "legendgroup": "Poland",
         "marker": {
          "color": "#00cc96",
          "symbol": "circle"
         },
         "name": "Poland",
         "showlegend": true,
         "type": "splom"
        },
        {
         "diagonal": {
          "visible": false
         },
         "dimensions": [
          {
           "axis": {
            "matches": true
           },
           "label": "GDP per capita",
           "values": {
            "bdata": "VU0QdWkH1EA=",
            "dtype": "f8"
           }
          },
          {
           "axis": {
            "matches": true
           },
           "label": "Score",
           "values": {
            "bdata": "g8DKoUWGU0A=",
            "dtype": "f8"
           }
          },
          {
           "axis": {
            "matches": true
           },
           "label": "Overall rank",
           "values": {
            "bdata": "Rw==",
            "dtype": "i1"
           }
          }
         ],
         "hovertemplate": "Country or region=Portugal<br>%{xaxis.title.text}=%{x}<br>%{yaxis.title.text}=%{y}<extra></extra>",
         "legendgroup": "Portugal",
         "marker": {
          "color": "#ab63fa",
          "symbol": "circle"
         },
         "name": "Portugal",
         "showlegend": true,
         "type": "splom"
        },
        {
         "diagonal": {
          "visible": false
         },
         "dimensions": [
          {
           "axis": {
            "matches": true
           },
           "label": "GDP per capita",
           "values": {
            "bdata": "onprYC3g0kA=",
            "dtype": "f8"
           }
          },
          {
           "axis": {
            "matches": true
           },
           "label": "Score",
           "values": {
            "bdata": "O7TIdr6vU0A=",
            "dtype": "f8"
           }
          },
          {
           "axis": {
            "matches": true
           },
           "label": "Overall rank",
           "values": {
            "bdata": "cQ==",
            "dtype": "i1"
           }
          }
         ],
         "hovertemplate": "Country or region=Puerto Rico<br>%{xaxis.title.text}=%{x}<br>%{yaxis.title.text}=%{y}<extra></extra>",
         "legendgroup": "Puerto Rico",
         "marker": {
          "color": "#FFA15A",
          "symbol": "circle"
         },
         "name": "Puerto Rico",
         "showlegend": true,
         "type": "splom"
        },
        {
         "diagonal": {
          "visible": false
         },
         "dimensions": [
          {
           "axis": {
            "matches": true
           },
           "label": "GDP per capita",
           "values": {
            "bdata": "3Qn2Xx/2vUA=",
            "dtype": "f8"
           }
          },
          {
           "axis": {
            "matches": true
           },
           "label": "Score",
           "values": {
            "bdata": "PzVeukkcU0A=",
            "dtype": "f8"
           }
          },
          {
           "axis": {
            "matches": true
           },
           "label": "Overall rank",
           "values": {
            "bdata": "hwA=",
            "dtype": "i2"
           }
          }
         ],
         "hovertemplate": "Country or region=Reunion<br>%{xaxis.title.text}=%{x}<br>%{yaxis.title.text}=%{y}<extra></extra>",
         "legendgroup": "Reunion",
         "marker": {
          "color": "#19d3f3",
          "symbol": "circle"
         },
         "name": "Reunion",
         "showlegend": true,
         "type": "splom"
        },
        {
         "diagonal": {
          "visible": false
         },
         "dimensions": [
          {
           "axis": {
            "matches": true
           },
           "label": "GDP per capita",
           "values": {
            "bdata": "09nJ4DwcxUA=",
            "dtype": "f8"
           }
          },
          {
           "axis": {
            "matches": true
           },
           "label": "Score",
           "values": {
            "bdata": "WDm0yHYeUkA=",
            "dtype": "f8"
           }
          },
          {
           "axis": {
            "matches": true
           },
           "label": "Overall rank",
           "values": {
            "bdata": "Lw==",
            "dtype": "i1"
           }
          }
         ],
         "hovertemplate": "Country or region=Romania<br>%{xaxis.title.text}=%{x}<br>%{yaxis.title.text}=%{y}<extra></extra>",
         "legendgroup": "Romania",
         "marker": {
          "color": "#FF6692",
          "symbol": "circle"
         },
         "name": "Romania",
         "showlegend": true,
         "type": "splom"
        },
        {
         "diagonal": {
          "visible": false
         },
         "dimensions": [
          {
           "axis": {
            "matches": true
           },
           "label": "GDP per capita",
           "values": {
            "bdata": "BauPLLX4ikA=",
            "dtype": "f8"
           }
          },
          {
           "axis": {
            "matches": true
           },
           "label": "Score",
           "values": {
            "bdata": "5dAi2/keR0A=",
            "dtype": "f8"
           }
          },
          {
           "axis": {
            "matches": true
           },
           "label": "Overall rank",
           "values": {
            "bdata": "Uw==",
            "dtype": "i1"
           }
          }
         ],
         "hovertemplate": "Country or region=Rwanda<br>%{xaxis.title.text}=%{x}<br>%{yaxis.title.text}=%{y}<extra></extra>",
         "legendgroup": "Rwanda",
         "marker": {
          "color": "#B6E880",
          "symbol": "circle"
         },
         "name": "Rwanda",
         "showlegend": true,
         "type": "splom"
        },
        {
         "diagonal": {
          "visible": false
         },
         "dimensions": [
          {
           "axis": {
            "matches": true
           },
           "label": "GDP per capita",
           "values": {
            "bdata": "Zof4h735mEA=",
            "dtype": "f8"
           }
          },
          {
           "axis": {
            "matches": true
           },
           "label": "Score",
           "values": {
            "bdata": "bxKDwMphUEA=",
            "dtype": "f8"
           }
          },
          {
           "axis": {
            "matches": true
           },
           "label": "Overall rank",
           "values": {
            "bdata": "jgA=",
            "dtype": "i2"
           }
          }
         ],
         "hovertemplate": "Country or region=Sao Tome and Principe<br>%{xaxis.title.text}=%{x}<br>%{yaxis.title.text}=%{y}<extra></extra>",
         "legendgroup": "Sao Tome and Principe",
         "marker": {
          "color": "#FF97FF",
          "symbol": "circle"
         },
         "name": "Sao Tome and Principe",
         "showlegend": true,
         "type": "splom"
        },
        {
         "diagonal": {
          "visible": false
         },
         "dimensions": [
          {
           "axis": {
            "matches": true
           },
           "label": "GDP per capita",
           "values": {
            "bdata": "D0WBPrUl1UA=",
            "dtype": "f8"
           }
          },
          {
           "axis": {
            "matches": true
           },
           "label": "Score",
           "values": {
            "bdata": "fT81XroxUkA=",
            "dtype": "f8"
           }
          },
          {
           "axis": {
            "matches": true
           },
           "label": "Overall rank",
           "values": {
            "bdata": "KA==",
            "dtype": "i1"
           }
          }
         ],
         "hovertemplate": "Country or region=Saudi Arabia<br>%{xaxis.title.text}=%{x}<br>%{yaxis.title.text}=%{y}<extra></extra>",
         "legendgroup": "Saudi Arabia",
         "marker": {
          "color": "#FECB52",
          "symbol": "circle"
         },
         "name": "Saudi Arabia",
         "showlegend": true,
         "type": "splom"
        },
        {
         "diagonal": {
          "visible": false
         },
         "dimensions": [
          {
           "axis": {
            "matches": true
           },
           "label": "GDP per capita",
           "values": {
            "bdata": "D52ed+PBmkA=",
            "dtype": "f8"
           }
          },
          {
           "axis": {
            "matches": true
           },
           "label": "Score",
           "values": {
            "bdata": "Di2yne+HT0A=",
            "dtype": "f8"
           }
          },
          {
           "axis": {
            "matches": true
           },
           "label": "Overall rank",
           "values": {
            "bdata": "Qg==",
            "dtype": "i1"
           }
          }
         ],
         "hovertemplate": "Country or region=Senegal<br>%{xaxis.title.text}=%{x}<br>%{yaxis.title.text}=%{y}<extra></extra>",
         "legendgroup": "Senegal",
         "marker": {
          "color": "#636efa",
          "symbol": "circle"
         },
         "name": "Senegal",
         "showlegend": true,
         "type": "splom"
        },
        {
         "diagonal": {
          "visible": false
         },
         "dimensions": [
          {
           "axis": {
            "matches": true
           },
           "label": "GDP per capita",
           "values": {
            "bdata": "WyOCcUQdw0A=",
            "dtype": "f8"
           }
          },
          {
           "axis": {
            "matches": true
           },
           "label": "Score",
           "values": {
            "bdata": "46WbxCCAUkA=",
            "dtype": "f8"
           }
          },
          {
           "axis": {
            "matches": true
           },
           "label": "Overall rank",
           "values": {
            "bdata": "TA==",
            "dtype": "i1"
           }
          }
         ],
         "hovertemplate": "Country or region=Serbia<br>%{xaxis.title.text}=%{x}<br>%{yaxis.title.text}=%{y}<extra></extra>",
         "legendgroup": "Serbia",
         "marker": {
          "color": "#EF553B",
          "symbol": "circle"
         },
         "name": "Serbia",
         "showlegend": true,
         "type": "splom"
        },
        {
         "diagonal": {
          "visible": false
         },
         "dimensions": [
          {
           "axis": {
            "matches": true
           },
           "label": "GDP per capita",
           "values": {
            "bdata": "6CTvd1P0ikA=",
            "dtype": "f8"
           }
          },
          {
           "axis": {
            "matches": true
           },
           "label": "Score",
           "values": {
            "bdata": "ZBBYObRIRUA=",
            "dtype": "f8"
           }
          },
          {
           "axis": {
            "matches": true
           },
           "label": "Overall rank",
           "values": {
            "bdata": "Xw==",
            "dtype": "i1"
           }
          }
         ],
         "hovertemplate": "Country or region=Sierra Leone<br>%{xaxis.title.text}=%{x}<br>%{yaxis.title.text}=%{y}<extra></extra>",
         "legendgroup": "Sierra Leone",
         "marker": {
          "color": "#00cc96",
          "symbol": "circle"
         },
         "name": "Sierra Leone",
         "showlegend": true,
         "type": "splom"
        },
        {
         "diagonal": {
          "visible": false
         },
         "dimensions": [
          {
           "axis": {
            "matches": true
           },
           "label": "GDP per capita",
           "values": {
            "bdata": "omKcv+UE50A=",
            "dtype": "f8"
           }
          },
          {
           "axis": {
            "matches": true
           },
           "label": "Score",
           "values": {
            "bdata": "ke18PzX+U0A=",
            "dtype": "f8"
           }
          },
          {
           "axis": {
            "matches": true
           },
           "label": "Overall rank",
           "values": {
            "bdata": "aQ==",
            "dtype": "i1"
           }
          }
         ],
         "hovertemplate": "Country or region=Singapore<br>%{xaxis.title.text}=%{x}<br>%{yaxis.title.text}=%{y}<extra></extra>",
         "legendgroup": "Singapore",
         "marker": {
          "color": "#ab63fa",
          "symbol": "circle"
         },
         "name": "Singapore",
         "showlegend": true,
         "type": "splom"
        },
        {
         "diagonal": {
          "visible": false
         },
         "dimensions": [
          {
           "axis": {
            "matches": true
           },
           "label": "GDP per capita",
           "values": {
            "bdata": "YHZPHpQ90kA=",
            "dtype": "f8"
           }
          },
          {
           "axis": {
            "matches": true
           },
           "label": "Score",
           "values": {
            "bdata": "30+Nl26qUkA=",
            "dtype": "f8"
           }
          },
          {
           "axis": {
            "matches": true
           },
           "label": "Overall rank",
           "values": {
            "bdata": "ZQ==",
            "dtype": "i1"
           }
          }
         ],
         "hovertemplate": "Country or region=Slovak Republic<br>%{xaxis.title.text}=%{x}<br>%{yaxis.title.text}=%{y}<extra></extra>",
         "legendgroup": "Slovak Republic",
         "marker": {
          "color": "#FFA15A",
          "symbol": "circle"
         },
         "name": "Slovak Republic",
         "showlegend": true,
         "type": "splom"
        },
        {
         "diagonal": {
          "visible": false
         },
         "dimensions": [
          {
           "axis": {
            "matches": true
           },
           "label": "GDP per capita",
           "values": {
            "bdata": "csRafBAq2UA=",
            "dtype": "f8"
           }
          },
          {
           "axis": {
            "matches": true
           },
           "label": "Score",
           "values": {
            "bdata": "JQaBlUN7U0A=",
            "dtype": "f8"
           }
          },
          {
           "axis": {
            "matches": true
           },
           "label": "Overall rank",
           "values": {
            "bdata": "fw==",
            "dtype": "i1"
           }
          }
         ],
         "hovertemplate": "Country or region=Slovenia<br>%{xaxis.title.text}=%{x}<br>%{yaxis.title.text}=%{y}<extra></extra>",
         "legendgroup": "Slovenia",
         "marker": {
          "color": "#19d3f3",
          "symbol": "circle"
         },
         "name": "Slovenia",
         "showlegend": true,
         "type": "splom"
        },
        {
         "diagonal": {
          "visible": false
         },
         "dimensions": [
          {
           "axis": {
            "matches": true
           },
           "label": "GDP per capita",
           "values": {
            "bdata": "Bbhq6CDxjEA=",
            "dtype": "f8"
           }
          },
          {
           "axis": {
            "matches": true
           },
           "label": "Score",
           "values": {
            "bdata": "MQisHFoUSEA=",
            "dtype": "f8"
           }
          },
          {
           "axis": {
            "matches": true
           },
           "label": "Overall rank",
           "values": {
            "bdata": "UQ==",
            "dtype": "i1"
           }
          }
         ],
         "hovertemplate": "Country or region=Somalia<br>%{xaxis.title.text}=%{x}<br>%{yaxis.title.text}=%{y}<extra></extra>",
         "legendgroup": "Somalia",
         "marker": {
          "color": "#FF6692",
          "symbol": "circle"
         },
         "name": "Somalia",
         "showlegend": true,
         "type": "splom"
        },
        {
         "diagonal": {
          "visible": false
         },
         "dimensions": [
          {
           "axis": {
            "matches": true
           },
           "label": "GDP per capita",
           "values": {
            "bdata": "hnMNM9QawkA=",
            "dtype": "f8"
           }
          },
          {
           "axis": {
            "matches": true
           },
           "label": "Score",
           "values": {
            "bdata": "CKwcWmSrSEA=",
            "dtype": "f8"
           }
          },
          {
           "axis": {
            "matches": true
           },
           "label": "Overall rank",
           "values": {
            "bdata": "Gg==",
            "dtype": "i1"
           }
          }
         ],
         "hovertemplate": "Country or region=South Africa<br>%{xaxis.title.text}=%{x}<br>%{yaxis.title.text}=%{y}<extra></extra>",
         "legendgroup": "South Africa",
         "marker": {
          "color": "#B6E880",
          "symbol": "circle"
         },
         "name": "South Africa",
         "showlegend": true,
         "type": "splom"
        },
        {
         "diagonal": {
          "visible": false
         },
         "dimensions": [
          {
           "axis": {
            "matches": true
           },
           "label": "GDP per capita",
           "values": {
            "bdata": "MCqpE0Ql3EA=",
            "dtype": "f8"
           }
          },
          {
           "axis": {
            "matches": true
           },
           "label": "Score",
           "values": {
            "bdata": "TmIQWDk8VEA=",
            "dtype": "f8"
           }
          },
          {
           "axis": {
            "matches": true
           },
           "label": "Overall rank",
           "values": {
            "bdata": "HA==",
            "dtype": "i1"
           }
          }
         ],
         "hovertemplate": "Country or region=Spain<br>%{xaxis.title.text}=%{x}<br>%{yaxis.title.text}=%{y}<extra></extra>",
         "legendgroup": "Spain",
         "marker": {
          "color": "#FF97FF",
          "symbol": "circle"
         },
         "name": "Spain",
         "showlegend": true,
         "type": "splom"
        },
        {
         "diagonal": {
          "visible": false
         },
         "dimensions": [
          {
           "axis": {
            "matches": true
           },
           "label": "GDP per capita",
           "values": {
            "bdata": "nrEv2TAEr0A=",
            "dtype": "f8"
           }
          },
          {
           "axis": {
            "matches": true
           },
           "label": "Score",
           "values": {
            "bdata": "001iEFgZUkA=",
            "dtype": "f8"
           }
          },
          {
           "axis": {
            "matches": true
           },
           "label": "Overall rank",
           "values": {
            "bdata": "Mg==",
            "dtype": "i1"
           }
          }
         ],
         "hovertemplate": "Country or region=Sri Lanka<br>%{xaxis.title.text}=%{x}<br>%{yaxis.title.text}=%{y}<extra></extra>",
         "legendgroup": "Sri Lanka",
         "marker": {
          "color": "#FECB52",
          "symbol": "circle"
         },
         "name": "Sri Lanka",
         "showlegend": true,
         "type": "splom"
        },
        {
         "diagonal": {
          "visible": false
         },
         "dimensions": [
          {
           "axis": {
            "matches": true
           },
           "label": "GDP per capita",
           "values": {
            "bdata": "K97IPMpUpEA=",
            "dtype": "f8"
           }
          },
          {
           "axis": {
            "matches": true
           },
           "label": "Score",
           "values": {
            "bdata": "ukkMAitHTUA=",
            "dtype": "f8"
           }
          },
          {
           "axis": {
            "matches": true
           },
           "label": "Overall rank",
           "values": {
            "bdata": "Gw==",
            "dtype": "i1"
           }
          }
         ],
         "hovertemplate": "Country or region=Sudan<br>%{xaxis.title.text}=%{x}<br>%{yaxis.title.text}=%{y}<extra></extra>",
         "legendgroup": "Sudan",
         "marker": {
          "color": "#636efa",
          "symbol": "circle"
         },
         "name": "Sudan",
         "showlegend": true,
         "type": "splom"
        },
        {
         "diagonal": {
          "visible": false
         },
         "dimensions": [
          {
           "axis": {
            "matches": true
           },
           "label": "GDP per capita",
           "values": {
            "bdata": "DW5rC3uhsUA=",
            "dtype": "f8"
           }
          },
          {
           "axis": {
            "matches": true
           },
           "label": "Score",
           "values": {
            "bdata": "WDm0yHbOQ0A=",
            "dtype": "f8"
           }
          },
          {
           "axis": {
            "matches": true
           },
           "label": "Overall rank",
           "values": {
            "bdata": "hQA=",
            "dtype": "i2"
           }
          }
         ],
         "hovertemplate": "Country or region=Swaziland<br>%{xaxis.title.text}=%{x}<br>%{yaxis.title.text}=%{y}<extra></extra>",
         "legendgroup": "Swaziland",
         "marker": {
          "color": "#EF553B",
          "symbol": "circle"
         },
         "name": "Swaziland",
         "showlegend": true,
         "type": "splom"
        },
        {
         "diagonal": {
          "visible": false
         },
         "dimensions": [
          {
           "axis": {
            "matches": true
           },
           "label": "GDP per capita",
           "values": {
            "bdata": "/7J78neI4EA=",
            "dtype": "f8"
           }
          },
          {
           "axis": {
            "matches": true
           },
           "label": "Score",
           "values": {
            "bdata": "f2q8dJM4VEA=",
            "dtype": "f8"
           }
          },
          {
           "axis": {
            "matches": true
           },
           "label": "Overall rank",
           "values": {
            "bdata": "Ug==",
            "dtype": "i1"
           }
          }
         ],
         "hovertemplate": "Country or region=Sweden<br>%{xaxis.title.text}=%{x}<br>%{yaxis.title.text}=%{y}<extra></extra>",
         "legendgroup": "Sweden",
         "marker": {
          "color": "#00cc96",
          "symbol": "circle"
         },
         "name": "Sweden",
         "showlegend": true,
         "type": "splom"
        },
        {
         "diagonal": {
          "visible": false
         },
         "dimensions": [
          {
           "axis": {
            "matches": true
           },
           "label": "GDP per capita",
           "values": {
            "bdata": "GH0FaU1Q4kA=",
            "dtype": "f8"
           }
          },
          {
           "axis": {
            "matches": true
           },
           "label": "Score",
           "values": {
            "bdata": "wJ8aL91sVEA=",
            "dtype": "f8"
           }
          },
          {
           "axis": {
            "matches": true
           },
           "label": "Overall rank",
           "values": {
            "bdata": "WA==",
            "dtype": "i1"
           }
          }
         ],
         "hovertemplate": "Country or region=Switzerland<br>%{xaxis.title.text}=%{x}<br>%{yaxis.title.text}=%{y}<extra></extra>",
         "legendgroup": "Switzerland",
         "marker": {
          "color": "#ab63fa",
          "symbol": "circle"
         },
         "name": "Switzerland",
         "showlegend": true,
         "type": "splom"
        },
        {
         "diagonal": {
          "visible": false
         },
         "dimensions": [
          {
           "axis": {
            "matches": true
           },
           "label": "GDP per capita",
           "values": {
            "bdata": "TIqPT4xYsEA=",
            "dtype": "f8"
           }
          },
          {
           "axis": {
            "matches": true
           },
           "label": "Score",
           "values": {
            "bdata": "/tR46SaJUkA=",
            "dtype": "f8"
           }
          },
          {
           "axis": {
            "matches": true
           },
           "label": "Overall rank",
           "values": {
            "bdata": "NA==",
            "dtype": "i1"
           }
          }
         ],
         "hovertemplate": "Country or region=Syria<br>%{xaxis.title.text}=%{x}<br>%{yaxis.title.text}=%{y}<extra></extra>",
         "legendgroup": "Syria",
         "marker": {
          "color": "#FFA15A",
          "symbol": "circle"
         },
         "name": "Syria",
         "showlegend": true,
         "type": "splom"
        },
        {
         "diagonal": {
          "visible": false
         },
         "dimensions": [
          {
           "axis": {
            "matches": true
           },
           "label": "GDP per capita",
           "values": {
            "bdata": "jh6/t5EL3EA=",
            "dtype": "f8"
           }
          },
          {
           "axis": {
            "matches": true
           },
           "label": "Score",
           "values": {
            "bdata": "mpmZmZmZU0A=",
            "dtype": "f8"
           }
          },
          {
           "axis": {
            "matches": true
           },
           "label": "Overall rank",
           "values": {
            "bdata": "LQ==",
            "dtype": "i1"
           }
          }
         ],
         "hovertemplate": "Country or region=Taiwan<br>%{xaxis.title.text}=%{x}<br>%{yaxis.title.text}=%{y}<extra></extra>",
         "legendgroup": "Taiwan",
         "marker": {
          "color": "#19d3f3",
          "symbol": "circle"
         },
         "name": "Taiwan",
         "showlegend": true,
         "type": "splom"
        },
        {
         "diagonal": {
          "visible": false
         },
         "dimensions": [
          {
           "axis": {
            "matches": true
           },
           "label": "GDP per capita",
           "values": {
            "bdata": "4UIewe1NkUA=",
            "dtype": "f8"
           }
          },
          {
           "axis": {
            "matches": true
           },
           "label": "Score",
           "values": {
            "bdata": "GQRWDi1CSkA=",
            "dtype": "f8"
           }
          },
          {
           "axis": {
            "matches": true
           },
           "label": "Overall rank",
           "values": {
            "bdata": "Hw==",
            "dtype": "i1"
           }
          }
         ],
         "hovertemplate": "Country or region=Tanzania<br>%{xaxis.title.text}=%{x}<br>%{yaxis.title.text}=%{y}<extra></extra>",
         "legendgroup": "Tanzania",
         "marker": {
          "color": "#FF6692",
          "symbol": "circle"
         },
         "name": "Tanzania",
         "showlegend": true,
         "type": "splom"
        },
        {
         "diagonal": {
          "visible": false
         },
         "dimensions": [
          {
           "axis": {
            "matches": true
           },
           "label": "GDP per capita",
           "values": {
            "bdata": "g6+vdWUivUA=",
            "dtype": "f8"
           }
          },
          {
           "axis": {
            "matches": true
           },
           "label": "Score",
           "values": {
            "bdata": "gZVDi2ynUUA=",
            "dtype": "f8"
           }
          },
          {
           "axis": {
            "matches": true
           },
           "label": "Overall rank",
           "values": {
            "bdata": "Eg==",
            "dtype": "i1"
           }
          }
         ],
         "hovertemplate": "Country or region=Thailand<br>%{xaxis.title.text}=%{x}<br>%{yaxis.title.text}=%{y}<extra></extra>",
         "legendgroup": "Thailand",
         "marker": {
          "color": "#B6E880",
          "symbol": "circle"
         },
         "name": "Thailand",
         "showlegend": true,
         "type": "splom"
        },
        {
         "diagonal": {
          "visible": false
         },
         "dimensions": [
          {
           "axis": {
            "matches": true
           },
           "label": "GDP per capita",
           "values": {
            "bdata": "qR/lccKXi0A=",
            "dtype": "f8"
           }
          },
          {
           "axis": {
            "matches": true
           },
           "label": "Score",
           "values": {
            "bdata": "9ihcj8I1TUA=",
            "dtype": "f8"
           }
          },
          {
           "axis": {
            "matches": true
           },
           "label": "Overall rank",
           "values": {
            "bdata": "Yg==",
            "dtype": "i1"
           }
          }
         ],
         "hovertemplate": "Country or region=Togo<br>%{xaxis.title.text}=%{x}<br>%{yaxis.title.text}=%{y}<extra></extra>",
         "legendgroup": "Togo",
         "marker": {
          "color": "#FF97FF",
          "symbol": "circle"
         },
         "name": "Togo",
         "showlegend": true,
         "type": "splom"
        },
        {
         "diagonal": {
          "visible": false
         },
         "dimensions": [
          {
           "axis": {
            "matches": true
           },
           "label": "GDP per capita",
           "values": {
            "bdata": "dF5jlyCW0UA=",
            "dtype": "f8"
           }
          },
          {
           "axis": {
            "matches": true
           },
           "label": "Score",
           "values": {
            "bdata": "I9v5fmp0UUA=",
            "dtype": "f8"
           }
          },
          {
           "axis": {
            "matches": true
           },
           "label": "Overall rank",
           "values": {
            "bdata": "hgA=",
            "dtype": "i2"
           }
          }
         ],
         "hovertemplate": "Country or region=Trinidad and Tobago<br>%{xaxis.title.text}=%{x}<br>%{yaxis.title.text}=%{y}<extra></extra>",
         "legendgroup": "Trinidad and Tobago",
         "marker": {
          "color": "#FECB52",
          "symbol": "circle"
         },
         "name": "Trinidad and Tobago",
         "showlegend": true,
         "type": "splom"
        },
        {
         "diagonal": {
          "visible": false
         },
         "dimensions": [
          {
           "axis": {
            "matches": true
           },
           "label": "GDP per capita",
           "values": {
            "bdata": "ZMxdS+y0u0A=",
            "dtype": "f8"
           }
          },
          {
           "axis": {
            "matches": true
           },
           "label": "Score",
           "values": {
            "bdata": "UI2XbhJ7UkA=",
            "dtype": "f8"
           }
          },
          {
           "axis": {
            "matches": true
           },
           "label": "Overall rank",
           "values": {
            "bdata": "SQ==",
            "dtype": "i1"
           }
          }
         ],
         "hovertemplate": "Country or region=Tunisia<br>%{xaxis.title.text}=%{x}<br>%{yaxis.title.text}=%{y}<extra></extra>",
         "legendgroup": "Tunisia",
         "marker": {
          "color": "#636efa",
          "symbol": "circle"
         },
         "name": "Tunisia",
         "showlegend": true,
         "type": "splom"
        },
        {
         "diagonal": {
          "visible": false
         },
         "dimensions": [
          {
           "axis": {
            "matches": true
           },
           "label": "GDP per capita",
           "values": {
            "bdata": "kgiNYCOFwEA=",
            "dtype": "f8"
           }
          },
          {
           "axis": {
            "matches": true
           },
           "label": "Score",
           "values": {
            "bdata": "fT81XrrxUUA=",
            "dtype": "f8"
           }
          },
          {
           "axis": {
            "matches": true
           },
           "label": "Overall rank",
           "values": {
            "bdata": "EA==",
            "dtype": "i1"
           }
          }
         ],
         "hovertemplate": "Country or region=Turkey<br>%{xaxis.title.text}=%{x}<br>%{yaxis.title.text}=%{y}<extra></extra>",
         "legendgroup": "Turkey",
         "marker": {
          "color": "#EF553B",
          "symbol": "circle"
         },
         "name": "Turkey",
         "showlegend": true,
         "type": "splom"
        },
        {
         "diagonal": {
          "visible": false
         },
         "dimensions": [
          {
           "axis": {
            "matches": true
           },
           "label": "GDP per capita",
           "values": {
            "bdata": "F35wPoWBkEA=",
            "dtype": "f8"
           }
          },
          {
           "axis": {
            "matches": true
           },
           "label": "Score",
           "values": {
            "bdata": "TDeJQWDFSUA=",
            "dtype": "f8"
           }
          },
          {
           "axis": {
            "matches": true
           },
           "label": "Overall rank",
           "values": {
            "bdata": "JQ==",
            "dtype": "i1"
           }
          }
         ],
         "hovertemplate": "Country or region=Uganda<br>%{xaxis.title.text}=%{x}<br>%{yaxis.title.text}=%{y}<extra></extra>",
         "legendgroup": "Uganda",
         "marker": {
          "color": "#00cc96",
          "symbol": "circle"
         },
         "name": "Uganda",
         "showlegend": true,
         "type": "splom"
        },
        {
         "diagonal": {
          "visible": false
         },
         "dimensions": [
          {
           "axis": {
            "matches": true
           },
           "label": "GDP per capita",
           "values": {
            "bdata": "499nXGg24EA=",
            "dtype": "f8"
           }
          },
          {
           "axis": {
            "matches": true
           },
           "label": "Score",
           "values": {
            "bdata": "MzMzMzPbU0A=",
            "dtype": "f8"
           }
          },
          {
           "axis": {
            "matches": true
           },
           "label": "Overall rank",
           "values": {
            "bdata": "FQ==",
            "dtype": "i1"
           }
          }
         ],
         "hovertemplate": "Country or region=United Kingdom<br>%{xaxis.title.text}=%{x}<br>%{yaxis.title.text}=%{y}<extra></extra>",
         "legendgroup": "United Kingdom",
         "marker": {
          "color": "#ab63fa",
          "symbol": "circle"
         },
         "name": "United Kingdom",
         "showlegend": true,
         "type": "splom"
        },
        {
         "diagonal": {
          "visible": false
         },
         "dimensions": [
          {
           "axis": {
            "matches": true
           },
           "label": "GDP per capita",
           "values": {
            "bdata": "6/8c5vT45EA=",
            "dtype": "f8"
           }
          },
          {
           "axis": {
            "matches": true
           },
           "label": "Score",
           "values": {
            "bdata": "c2iR7XyPU0A=",
            "dtype": "f8"
           }
          },
          {
           "axis": {
            "matches": true
           },
           "label": "Overall rank",
           "values": {
            "bdata": "Aw==",
            "dtype": "i1"
           }
          }
         ],
         "hovertemplate": "Country or region=United States<br>%{xaxis.title.text}=%{x}<br>%{yaxis.title.text}=%{y}<extra></extra>",
         "legendgroup": "United States",
         "marker": {
          "color": "#FFA15A",
          "symbol": "circle"
         },
         "name": "United States",
         "showlegend": true,
         "type": "splom"
        },
        {
         "diagonal": {
          "visible": false
         },
         "dimensions": [
          {
           "axis": {
            "matches": true
           },
           "label": "GDP per capita",
           "values": {
            "bdata": "MJ5BQ7u5xEA=",
            "dtype": "f8"
           }
          },
          {
           "axis": {
            "matches": true
           },
           "label": "Score",
           "values": {
            "bdata": "f2q8dJMYU0A=",
            "dtype": "f8"
           }
          },
          {
           "axis": {
            "matches": true
           },
           "label": "Overall rank",
           "values": {
            "bdata": "dQ==",
            "dtype": "i1"
           }
          }
         ],
         "hovertemplate": "Country or region=Uruguay<br>%{xaxis.title.text}=%{x}<br>%{yaxis.title.text}=%{y}<extra></extra>",
         "legendgroup": "Uruguay",
         "marker": {
          "color": "#19d3f3",
          "symbol": "circle"
         },
         "name": "Uruguay",
         "showlegend": true,
         "type": "splom"
        },
        {
         "diagonal": {
          "visible": false
         },
         "dimensions": [
          {
           "axis": {
            "matches": true
           },
           "label": "GDP per capita",
           "values": {
            "bdata": "W5TZIOdLxkA=",
            "dtype": "f8"
           }
          },
          {
           "axis": {
            "matches": true
           },
           "label": "Score",
           "values": {
            "bdata": "K4cW2c5vUkA=",
            "dtype": "f8"
           }
          },
          {
           "axis": {
            "matches": true
           },
           "label": "Overall rank",
           "values": {
            "bdata": "Kg==",
            "dtype": "i1"
           }
          }
         ],
         "hovertemplate": "Country or region=Venezuela<br>%{xaxis.title.text}=%{x}<br>%{yaxis.title.text}=%{y}<extra></extra>",
         "legendgroup": "Venezuela",
         "marker": {
          "color": "#FF6692",
          "symbol": "circle"
         },
         "name": "Venezuela",
         "showlegend": true,
         "type": "splom"
        },
        {
         "diagonal": {
          "visible": false
         },
         "dimensions": [
          {
           "axis": {
            "matches": true
           },
           "label": "GDP per capita",
           "values": {
            "bdata": "kdJsHicTo0A=",
            "dtype": "f8"
           }
          },
          {
           "axis": {
            "matches": true
           },
           "label": "Score",
           "values": {
            "bdata": "Di2yne+PUkA=",
            "dtype": "f8"
           }
          },
          {
           "axis": {
            "matches": true
           },
           "label": "Overall rank",
           "values": {
            "bdata": "DA==",
            "dtype": "i1"
           }
          }
         ],
         "hovertemplate": "Country or region=Vietnam<br>%{xaxis.title.text}=%{x}<br>%{yaxis.title.text}=%{y}<extra></extra>",
         "legendgroup": "Vietnam",
         "marker": {
          "color": "#B6E880",
          "symbol": "circle"
         },
         "name": "Vietnam",
         "showlegend": true,
         "type": "splom"
        },
        {
         "diagonal": {
          "visible": false
         },
         "dimensions": [
          {
           "axis": {
            "matches": true
           },
           "label": "GDP per capita",
           "values": {
            "bdata": "ajS5GLOip0A=",
            "dtype": "f8"
           }
          },
          {
           "axis": {
            "matches": true
           },
           "label": "Score",
           "values": {
            "bdata": "XrpJDAJbUkA=",
            "dtype": "f8"
           }
          },
          {
           "axis": {
            "matches": true
           },
           "label": "Overall rank",
           "values": {
            "bdata": "cA==",
            "dtype": "i1"
           }
          }
         ],
         "hovertemplate": "Country or region=West Bank and Gaza<br>%{xaxis.title.text}=%{x}<br>%{yaxis.title.text}=%{y}<extra></extra>",
         "legendgroup": "West Bank and Gaza",
         "marker": {
          "color": "#FF97FF",
          "symbol": "circle"
         },
         "name": "West Bank and Gaza",
         "showlegend": true,
         "type": "splom"
        },
        {
         "diagonal": {
          "visible": false
         },
         "dimensions": [
          {
           "axis": {
            "matches": true
           },
           "label": "GDP per capita",
           "values": {
            "bdata": "/YUeMYrRoUA=",
            "dtype": "f8"
           }
          },
          {
           "axis": {
            "matches": true
           },
           "label": "Score",
           "values": {
            "bdata": "001iEFhZT0A=",
            "dtype": "f8"
           }
          },
          {
           "axis": {
            "matches": true
           },
           "label": "Overall rank",
           "values": {
            "bdata": "MA==",
            "dtype": "i1"
           }
          }
         ],
         "hovertemplate": "Country or region=Yemen, Rep.<br>%{xaxis.title.text}=%{x}<br>%{yaxis.title.text}=%{y}<extra></extra>",
         "legendgroup": "Yemen, Rep.",
         "marker": {
          "color": "#FECB52",
          "symbol": "circle"
         },
         "name": "Yemen, Rep.",
         "showlegend": true,
         "type": "splom"
        },
        {
         "diagonal": {
          "visible": false
         },
         "dimensions": [
          {
           "axis": {
            "matches": true
           },
           "label": "GDP per capita",
           "values": {
            "bdata": "QNzVq9jck0A=",
            "dtype": "f8"
           }
          },
          {
           "axis": {
            "matches": true
           },
           "label": "Score",
           "values": {
            "bdata": "/dR46SYxRUA=",
            "dtype": "f8"
           }
          },
          {
           "axis": {
            "matches": true
           },
           "label": "Overall rank",
           "values": {
            "bdata": "RA==",
            "dtype": "i1"
           }
          }
         ],
         "hovertemplate": "Country or region=Zambia<br>%{xaxis.title.text}=%{x}<br>%{yaxis.title.text}=%{y}<extra></extra>",
         "legendgroup": "Zambia",
         "marker": {
          "color": "#636efa",
          "symbol": "circle"
         },
         "name": "Zambia",
         "showlegend": true,
         "type": "splom"
        },
        {
         "diagonal": {
          "visible": false
         },
         "dimensions": [
          {
           "axis": {
            "matches": true
           },
           "label": "GDP per capita",
           "values": {
            "bdata": "2On2SFlbfUA=",
            "dtype": "f8"
           }
          },
          {
           "axis": {
            "matches": true
           },
           "label": "Score",
           "values": {
            "bdata": "dZMYBFa+RUA=",
            "dtype": "f8"
           }
          },
          {
           "axis": {
            "matches": true
           },
           "label": "Overall rank",
           "values": {
            "bdata": "QQ==",
            "dtype": "i1"
           }
          }
         ],
         "hovertemplate": "Country or region=Zimbabwe<br>%{xaxis.title.text}=%{x}<br>%{yaxis.title.text}=%{y}<extra></extra>",
         "legendgroup": "Zimbabwe",
         "marker": {
          "color": "#EF553B",
          "symbol": "circle"
         },
         "name": "Zimbabwe",
         "showlegend": true,
         "type": "splom"
        }
       ],
       "layout": {
        "dragmode": "select",
        "legend": {
         "title": {
          "text": "Country or region"
         },
         "tracegroupgap": 0
        },
        "template": {
         "data": {
          "bar": [
           {
            "error_x": {
             "color": "#2a3f5f"
            },
            "error_y": {
             "color": "#2a3f5f"
            },
            "marker": {
             "line": {
              "color": "#E5ECF6",
              "width": 0.5
             },
             "pattern": {
              "fillmode": "overlay",
              "size": 10,
              "solidity": 0.2
             }
            },
            "type": "bar"
           }
          ],
          "barpolar": [
           {
            "marker": {
             "line": {
              "color": "#E5ECF6",
              "width": 0.5
             },
             "pattern": {
              "fillmode": "overlay",
              "size": 10,
              "solidity": 0.2
             }
            },
            "type": "barpolar"
           }
          ],
          "carpet": [
           {
            "aaxis": {
             "endlinecolor": "#2a3f5f",
             "gridcolor": "white",
             "linecolor": "white",
             "minorgridcolor": "white",
             "startlinecolor": "#2a3f5f"
            },
            "baxis": {
             "endlinecolor": "#2a3f5f",
             "gridcolor": "white",
             "linecolor": "white",
             "minorgridcolor": "white",
             "startlinecolor": "#2a3f5f"
            },
            "type": "carpet"
           }
          ],
          "choropleth": [
           {
            "colorbar": {
             "outlinewidth": 0,
             "ticks": ""
            },
            "type": "choropleth"
           }
          ],
          "contour": [
           {
            "colorbar": {
             "outlinewidth": 0,
             "ticks": ""
            },
            "colorscale": [
             [
              0,
              "#0d0887"
             ],
             [
              0.1111111111111111,
              "#46039f"
             ],
             [
              0.2222222222222222,
              "#7201a8"
             ],
             [
              0.3333333333333333,
              "#9c179e"
             ],
             [
              0.4444444444444444,
              "#bd3786"
             ],
             [
              0.5555555555555556,
              "#d8576b"
             ],
             [
              0.6666666666666666,
              "#ed7953"
             ],
             [
              0.7777777777777778,
              "#fb9f3a"
             ],
             [
              0.8888888888888888,
              "#fdca26"
             ],
             [
              1,
              "#f0f921"
             ]
            ],
            "type": "contour"
           }
          ],
          "contourcarpet": [
           {
            "colorbar": {
             "outlinewidth": 0,
             "ticks": ""
            },
            "type": "contourcarpet"
           }
          ],
          "heatmap": [
           {
            "colorbar": {
             "outlinewidth": 0,
             "ticks": ""
            },
            "colorscale": [
             [
              0,
              "#0d0887"
             ],
             [
              0.1111111111111111,
              "#46039f"
             ],
             [
              0.2222222222222222,
              "#7201a8"
             ],
             [
              0.3333333333333333,
              "#9c179e"
             ],
             [
              0.4444444444444444,
              "#bd3786"
             ],
             [
              0.5555555555555556,
              "#d8576b"
             ],
             [
              0.6666666666666666,
              "#ed7953"
             ],
             [
              0.7777777777777778,
              "#fb9f3a"
             ],
             [
              0.8888888888888888,
              "#fdca26"
             ],
             [
              1,
              "#f0f921"
             ]
            ],
            "type": "heatmap"
           }
          ],
          "histogram": [
           {
            "marker": {
             "pattern": {
              "fillmode": "overlay",
              "size": 10,
              "solidity": 0.2
             }
            },
            "type": "histogram"
           }
          ],
          "histogram2d": [
           {
            "colorbar": {
             "outlinewidth": 0,
             "ticks": ""
            },
            "colorscale": [
             [
              0,
              "#0d0887"
             ],
             [
              0.1111111111111111,
              "#46039f"
             ],
             [
              0.2222222222222222,
              "#7201a8"
             ],
             [
              0.3333333333333333,
              "#9c179e"
             ],
             [
              0.4444444444444444,
              "#bd3786"
             ],
             [
              0.5555555555555556,
              "#d8576b"
             ],
             [
              0.6666666666666666,
              "#ed7953"
             ],
             [
              0.7777777777777778,
              "#fb9f3a"
             ],
             [
              0.8888888888888888,
              "#fdca26"
             ],
             [
              1,
              "#f0f921"
             ]
            ],
            "type": "histogram2d"
           }
          ],
          "histogram2dcontour": [
           {
            "colorbar": {
             "outlinewidth": 0,
             "ticks": ""
            },
            "colorscale": [
             [
              0,
              "#0d0887"
             ],
             [
              0.1111111111111111,
              "#46039f"
             ],
             [
              0.2222222222222222,
              "#7201a8"
             ],
             [
              0.3333333333333333,
              "#9c179e"
             ],
             [
              0.4444444444444444,
              "#bd3786"
             ],
             [
              0.5555555555555556,
              "#d8576b"
             ],
             [
              0.6666666666666666,
              "#ed7953"
             ],
             [
              0.7777777777777778,
              "#fb9f3a"
             ],
             [
              0.8888888888888888,
              "#fdca26"
             ],
             [
              1,
              "#f0f921"
             ]
            ],
            "type": "histogram2dcontour"
           }
          ],
          "mesh3d": [
           {
            "colorbar": {
             "outlinewidth": 0,
             "ticks": ""
            },
            "type": "mesh3d"
           }
          ],
          "parcoords": [
           {
            "line": {
             "colorbar": {
              "outlinewidth": 0,
              "ticks": ""
             }
            },
            "type": "parcoords"
           }
          ],
          "pie": [
           {
            "automargin": true,
            "type": "pie"
           }
          ],
          "scatter": [
           {
            "fillpattern": {
             "fillmode": "overlay",
             "size": 10,
             "solidity": 0.2
            },
            "type": "scatter"
           }
          ],
          "scatter3d": [
           {
            "line": {
             "colorbar": {
              "outlinewidth": 0,
              "ticks": ""
             }
            },
            "marker": {
             "colorbar": {
              "outlinewidth": 0,
              "ticks": ""
             }
            },
            "type": "scatter3d"
           }
          ],
          "scattercarpet": [
           {
            "marker": {
             "colorbar": {
              "outlinewidth": 0,
              "ticks": ""
             }
            },
            "type": "scattercarpet"
           }
          ],
          "scattergeo": [
           {
            "marker": {
             "colorbar": {
              "outlinewidth": 0,
              "ticks": ""
             }
            },
            "type": "scattergeo"
           }
          ],
          "scattergl": [
           {
            "marker": {
             "colorbar": {
              "outlinewidth": 0,
              "ticks": ""
             }
            },
            "type": "scattergl"
           }
          ],
          "scattermap": [
           {
            "marker": {
             "colorbar": {
              "outlinewidth": 0,
              "ticks": ""
             }
            },
            "type": "scattermap"
           }
          ],
          "scattermapbox": [
           {
            "marker": {
             "colorbar": {
              "outlinewidth": 0,
              "ticks": ""
             }
            },
            "type": "scattermapbox"
           }
          ],
          "scatterpolar": [
           {
            "marker": {
             "colorbar": {
              "outlinewidth": 0,
              "ticks": ""
             }
            },
            "type": "scatterpolar"
           }
          ],
          "scatterpolargl": [
           {
            "marker": {
             "colorbar": {
              "outlinewidth": 0,
              "ticks": ""
             }
            },
            "type": "scatterpolargl"
           }
          ],
          "scatterternary": [
           {
            "marker": {
             "colorbar": {
              "outlinewidth": 0,
              "ticks": ""
             }
            },
            "type": "scatterternary"
           }
          ],
          "surface": [
           {
            "colorbar": {
             "outlinewidth": 0,
             "ticks": ""
            },
            "colorscale": [
             [
              0,
              "#0d0887"
             ],
             [
              0.1111111111111111,
              "#46039f"
             ],
             [
              0.2222222222222222,
              "#7201a8"
             ],
             [
              0.3333333333333333,
              "#9c179e"
             ],
             [
              0.4444444444444444,
              "#bd3786"
             ],
             [
              0.5555555555555556,
              "#d8576b"
             ],
             [
              0.6666666666666666,
              "#ed7953"
             ],
             [
              0.7777777777777778,
              "#fb9f3a"
             ],
             [
              0.8888888888888888,
              "#fdca26"
             ],
             [
              1,
              "#f0f921"
             ]
            ],
            "type": "surface"
           }
          ],
          "table": [
           {
            "cells": {
             "fill": {
              "color": "#EBF0F8"
             },
             "line": {
              "color": "white"
             }
            },
            "header": {
             "fill": {
              "color": "#C8D4E3"
             },
             "line": {
              "color": "white"
             }
            },
            "type": "table"
           }
          ]
         },
         "layout": {
          "annotationdefaults": {
           "arrowcolor": "#2a3f5f",
           "arrowhead": 0,
           "arrowwidth": 1
          },
          "autotypenumbers": "strict",
          "coloraxis": {
           "colorbar": {
            "outlinewidth": 0,
            "ticks": ""
           }
          },
          "colorscale": {
           "diverging": [
            [
             0,
             "#8e0152"
            ],
            [
             0.1,
             "#c51b7d"
            ],
            [
             0.2,
             "#de77ae"
            ],
            [
             0.3,
             "#f1b6da"
            ],
            [
             0.4,
             "#fde0ef"
            ],
            [
             0.5,
             "#f7f7f7"
            ],
            [
             0.6,
             "#e6f5d0"
            ],
            [
             0.7,
             "#b8e186"
            ],
            [
             0.8,
             "#7fbc41"
            ],
            [
             0.9,
             "#4d9221"
            ],
            [
             1,
             "#276419"
            ]
           ],
           "sequential": [
            [
             0,
             "#0d0887"
            ],
            [
             0.1111111111111111,
             "#46039f"
            ],
            [
             0.2222222222222222,
             "#7201a8"
            ],
            [
             0.3333333333333333,
             "#9c179e"
            ],
            [
             0.4444444444444444,
             "#bd3786"
            ],
            [
             0.5555555555555556,
             "#d8576b"
            ],
            [
             0.6666666666666666,
             "#ed7953"
            ],
            [
             0.7777777777777778,
             "#fb9f3a"
            ],
            [
             0.8888888888888888,
             "#fdca26"
            ],
            [
             1,
             "#f0f921"
            ]
           ],
           "sequentialminus": [
            [
             0,
             "#0d0887"
            ],
            [
             0.1111111111111111,
             "#46039f"
            ],
            [
             0.2222222222222222,
             "#7201a8"
            ],
            [
             0.3333333333333333,
             "#9c179e"
            ],
            [
             0.4444444444444444,
             "#bd3786"
            ],
            [
             0.5555555555555556,
             "#d8576b"
            ],
            [
             0.6666666666666666,
             "#ed7953"
            ],
            [
             0.7777777777777778,
             "#fb9f3a"
            ],
            [
             0.8888888888888888,
             "#fdca26"
            ],
            [
             1,
             "#f0f921"
            ]
           ]
          },
          "colorway": [
           "#636efa",
           "#EF553B",
           "#00cc96",
           "#ab63fa",
           "#FFA15A",
           "#19d3f3",
           "#FF6692",
           "#B6E880",
           "#FF97FF",
           "#FECB52"
          ],
          "font": {
           "color": "#2a3f5f"
          },
          "geo": {
           "bgcolor": "white",
           "lakecolor": "white",
           "landcolor": "#E5ECF6",
           "showlakes": true,
           "showland": true,
           "subunitcolor": "white"
          },
          "hoverlabel": {
           "align": "left"
          },
          "hovermode": "closest",
          "mapbox": {
           "style": "light"
          },
          "paper_bgcolor": "white",
          "plot_bgcolor": "#E5ECF6",
          "polar": {
           "angularaxis": {
            "gridcolor": "white",
            "linecolor": "white",
            "ticks": ""
           },
           "bgcolor": "#E5ECF6",
           "radialaxis": {
            "gridcolor": "white",
            "linecolor": "white",
            "ticks": ""
           }
          },
          "scene": {
           "xaxis": {
            "backgroundcolor": "#E5ECF6",
            "gridcolor": "white",
            "gridwidth": 2,
            "linecolor": "white",
            "showbackground": true,
            "ticks": "",
            "zerolinecolor": "white"
           },
           "yaxis": {
            "backgroundcolor": "#E5ECF6",
            "gridcolor": "white",
            "gridwidth": 2,
            "linecolor": "white",
            "showbackground": true,
            "ticks": "",
            "zerolinecolor": "white"
           },
           "zaxis": {
            "backgroundcolor": "#E5ECF6",
            "gridcolor": "white",
            "gridwidth": 2,
            "linecolor": "white",
            "showbackground": true,
            "ticks": "",
            "zerolinecolor": "white"
           }
          },
          "shapedefaults": {
           "line": {
            "color": "#2a3f5f"
           }
          },
          "ternary": {
           "aaxis": {
            "gridcolor": "white",
            "linecolor": "white",
            "ticks": ""
           },
           "baxis": {
            "gridcolor": "white",
            "linecolor": "white",
            "ticks": ""
           },
           "bgcolor": "#E5ECF6",
           "caxis": {
            "gridcolor": "white",
            "linecolor": "white",
            "ticks": ""
           }
          },
          "title": {
           "x": 0.05
          },
          "xaxis": {
           "automargin": true,
           "gridcolor": "white",
           "linecolor": "white",
           "ticks": "",
           "title": {
            "standoff": 15
           },
           "zerolinecolor": "white",
           "zerolinewidth": 2
          },
          "yaxis": {
           "automargin": true,
           "gridcolor": "white",
           "linecolor": "white",
           "ticks": "",
           "title": {
            "standoff": 15
           },
           "zerolinecolor": "white",
           "zerolinewidth": 2
          }
         }
        },
        "title": {
         "text": "Scatter Matrix"
        }
       }
      }
     },
     "metadata": {},
     "output_type": "display_data"
    },
    {
     "name": "stdout",
     "output_type": "stream",
     "text": [
      "\n",
      "⚠️ kaleido failed:\n",
      " \n",
      "\n",
      "Kaleido requires Google Chrome to be installed.\n",
      "\n",
      "Either download and install Chrome yourself following Google's instructions for your operating system,\n",
      "or install it from your terminal by running:\n",
      "\n",
      "    $ plotly_get_chrome\n",
      "\n",
      " \n",
      "\n",
      "\n",
      "⚠️ to_image failed:\n",
      " \n",
      "\n",
      "Kaleido requires Google Chrome to be installed.\n",
      "\n",
      "Either download and install Chrome yourself following Google's instructions for your operating system,\n",
      "or install it from your terminal by running:\n",
      "\n",
      "    $ plotly_get_chrome\n",
      "\n",
      " \n",
      "\n",
      "💾 Saved HTML fallback: fig3.html\n",
      "🖼️ Static PNG fallback created: fig3_static.png\n"
     ]
    }
   ],
   "source": [
    "fig = px.scatter_matrix(\n",
    "    happy_df,\n",
    "    dimensions=[\"GDP per capita\", \"Score\", \"Overall rank\"],\n",
    "    color=\"Country or region\",\n",
    "    title=\"Scatter Matrix\"\n",
    ")\n",
    "fig.update_traces(diagonal_visible=False)\n",
    "fig.show()\n",
    "out = save_plotly_png_failsafe(fig, 'fig3.png')\n",
    "if out.endswith('.html'):\n",
    "    ensure_static_fallback_from_dataframe('scatter_matrix', happy_df, 'fig3_static.png')\n"
   ]
  },
  {
   "cell_type": "markdown",
   "id": "d44b6e28",
   "metadata": {},
   "source": [
    "![fig3](fig3.png)\n",
    "\n",
    "*If PNG failed above, a static fallback may be saved as `fig3_static.png`.*"
   ]
  }
 ],
 "metadata": {
  "kernelspec": {
   "display_name": "Python 3 (ipykernel)",
   "language": "python",
   "name": "python3"
  },
  "language_info": {
   "codemirror_mode": {
    "name": "ipython",
    "version": 3
   },
   "file_extension": ".py",
   "mimetype": "text/x-python",
   "name": "python",
   "nbconvert_exporter": "python",
   "pygments_lexer": "ipython3",
   "version": "3.10.6"
  }
 },
 "nbformat": 4,
 "nbformat_minor": 5
}
