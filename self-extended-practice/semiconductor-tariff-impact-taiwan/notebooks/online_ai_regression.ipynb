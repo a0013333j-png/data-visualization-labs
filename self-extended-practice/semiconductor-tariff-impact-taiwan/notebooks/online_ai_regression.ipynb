{
 "cells": [
  {
   "cell_type": "code",
   "execution_count": 1,
   "id": "6c849020-ea22-42c7-9e8c-f7f38e87a1ba",
   "metadata": {},
   "outputs": [
    {
     "name": "stdout",
     "output_type": "stream",
     "text": [
      "Collecting statsmodels\n",
      "  Downloading statsmodels-0.14.5-cp312-cp312-manylinux2014_x86_64.manylinux_2_17_x86_64.manylinux_2_28_x86_64.whl.metadata (9.5 kB)\n",
      "Collecting linearmodels\n",
      "  Downloading linearmodels-6.1-cp312-cp312-manylinux_2_17_x86_64.manylinux2014_x86_64.whl.metadata (7.9 kB)\n",
      "Requirement already satisfied: numpy<3,>=1.22.3 in /home/codespace/.local/lib/python3.12/site-packages (from statsmodels) (2.3.1)\n",
      "Requirement already satisfied: scipy!=1.9.2,>=1.8 in /home/codespace/.local/lib/python3.12/site-packages (from statsmodels) (1.16.0)\n",
      "Requirement already satisfied: pandas!=2.1.0,>=1.4 in /home/codespace/.local/lib/python3.12/site-packages (from statsmodels) (2.3.1)\n",
      "Collecting patsy>=0.5.6 (from statsmodels)\n",
      "  Downloading patsy-1.0.1-py2.py3-none-any.whl.metadata (3.3 kB)\n",
      "Requirement already satisfied: packaging>=21.3 in /home/codespace/.local/lib/python3.12/site-packages (from statsmodels) (25.0)\n",
      "Collecting mypy-extensions>=0.4 (from linearmodels)\n",
      "  Downloading mypy_extensions-1.1.0-py3-none-any.whl.metadata (1.1 kB)\n",
      "Collecting Cython>=3.0.10 (from linearmodels)\n",
      "  Downloading cython-3.1.4-cp312-cp312-manylinux2014_x86_64.manylinux_2_17_x86_64.manylinux_2_28_x86_64.whl.metadata (5.0 kB)\n",
      "Collecting pyhdfe>=0.1 (from linearmodels)\n",
      "  Downloading pyhdfe-0.2.0-py3-none-any.whl.metadata (4.0 kB)\n",
      "Collecting formulaic>=1.0.0 (from linearmodels)\n",
      "  Downloading formulaic-1.2.0-py3-none-any.whl.metadata (7.0 kB)\n",
      "Collecting setuptools-scm<9.0.0,>=8.0.0 (from setuptools-scm[toml]<9.0.0,>=8.0.0->linearmodels)\n",
      "  Downloading setuptools_scm-8.3.1-py3-none-any.whl.metadata (7.0 kB)\n",
      "Requirement already satisfied: setuptools in /home/codespace/.local/lib/python3.12/site-packages (from setuptools-scm<9.0.0,>=8.0.0->setuptools-scm[toml]<9.0.0,>=8.0.0->linearmodels) (80.9.0)\n",
      "Collecting interface-meta>=1.2.0 (from formulaic>=1.0.0->linearmodels)\n",
      "  Downloading interface_meta-1.3.0-py3-none-any.whl.metadata (6.7 kB)\n",
      "Requirement already satisfied: narwhals>=1.17 in /home/codespace/.local/lib/python3.12/site-packages (from formulaic>=1.0.0->linearmodels) (1.46.0)\n",
      "Requirement already satisfied: typing-extensions>=4.2.0 in /home/codespace/.local/lib/python3.12/site-packages (from formulaic>=1.0.0->linearmodels) (4.14.1)\n",
      "Collecting wrapt>=1.0 (from formulaic>=1.0.0->linearmodels)\n",
      "  Downloading wrapt-1.17.3-cp312-cp312-manylinux1_x86_64.manylinux_2_28_x86_64.manylinux_2_5_x86_64.whl.metadata (6.4 kB)\n",
      "Requirement already satisfied: python-dateutil>=2.8.2 in /home/codespace/.local/lib/python3.12/site-packages (from pandas!=2.1.0,>=1.4->statsmodels) (2.9.0.post0)\n",
      "Requirement already satisfied: pytz>=2020.1 in /home/codespace/.local/lib/python3.12/site-packages (from pandas!=2.1.0,>=1.4->statsmodels) (2025.2)\n",
      "Requirement already satisfied: tzdata>=2022.7 in /home/codespace/.local/lib/python3.12/site-packages (from pandas!=2.1.0,>=1.4->statsmodels) (2025.2)\n",
      "Requirement already satisfied: six>=1.5 in /home/codespace/.local/lib/python3.12/site-packages (from python-dateutil>=2.8.2->pandas!=2.1.0,>=1.4->statsmodels) (1.17.0)\n",
      "Downloading statsmodels-0.14.5-cp312-cp312-manylinux2014_x86_64.manylinux_2_17_x86_64.manylinux_2_28_x86_64.whl (10.4 MB)\n",
      "\u001b[2K   \u001b[90m━━━━━━━━━━━━━━━━━━━━━━━━━━━━━━━━━━━━━━━━\u001b[0m \u001b[32m10.4/10.4 MB\u001b[0m \u001b[31m44.0 MB/s\u001b[0m eta \u001b[36m0:00:00\u001b[0m:00:01\u001b[0m\n",
      "\u001b[?25hDownloading linearmodels-6.1-cp312-cp312-manylinux_2_17_x86_64.manylinux2014_x86_64.whl (1.7 MB)\n",
      "\u001b[2K   \u001b[90m━━━━━━━━━━━━━━━━━━━━━━━━━━━━━━━━━━━━━━━━\u001b[0m \u001b[32m1.7/1.7 MB\u001b[0m \u001b[31m31.0 MB/s\u001b[0m eta \u001b[36m0:00:00\u001b[0m\n",
      "\u001b[?25hDownloading setuptools_scm-8.3.1-py3-none-any.whl (43 kB)\n",
      "Downloading cython-3.1.4-cp312-cp312-manylinux2014_x86_64.manylinux_2_17_x86_64.manylinux_2_28_x86_64.whl (3.3 MB)\n",
      "\u001b[2K   \u001b[90m━━━━━━━━━━━━━━━━━━━━━━━━━━━━━━━━━━━━━━━━\u001b[0m \u001b[32m3.3/3.3 MB\u001b[0m \u001b[31m46.5 MB/s\u001b[0m eta \u001b[36m0:00:00\u001b[0m\n",
      "\u001b[?25hDownloading formulaic-1.2.0-py3-none-any.whl (117 kB)\n",
      "Downloading interface_meta-1.3.0-py3-none-any.whl (14 kB)\n",
      "Downloading mypy_extensions-1.1.0-py3-none-any.whl (5.0 kB)\n",
      "Downloading patsy-1.0.1-py2.py3-none-any.whl (232 kB)\n",
      "Downloading pyhdfe-0.2.0-py3-none-any.whl (19 kB)\n",
      "Downloading wrapt-1.17.3-cp312-cp312-manylinux1_x86_64.manylinux_2_28_x86_64.manylinux_2_5_x86_64.whl (88 kB)\n",
      "Installing collected packages: wrapt, setuptools-scm, patsy, mypy-extensions, interface-meta, Cython, pyhdfe, statsmodels, formulaic, linearmodels\n",
      "\u001b[2K   \u001b[90m━━━━━━━━━━━━━━━━━━━━━━━━━━━━━━━━━━━━━━━━\u001b[0m \u001b[32m10/10\u001b[0m [linearmodels][0m [linearmodels]\n",
      "\u001b[1A\u001b[2KSuccessfully installed Cython-3.1.4 formulaic-1.2.0 interface-meta-1.3.0 linearmodels-6.1 mypy-extensions-1.1.0 patsy-1.0.1 pyhdfe-0.2.0 setuptools-scm-8.3.1 statsmodels-0.14.5 wrapt-1.17.3\n",
      "\n",
      "\u001b[1m[\u001b[0m\u001b[34;49mnotice\u001b[0m\u001b[1;39;49m]\u001b[0m\u001b[39;49m A new release of pip is available: \u001b[0m\u001b[31;49m25.1.1\u001b[0m\u001b[39;49m -> \u001b[0m\u001b[32;49m25.2\u001b[0m\n",
      "\u001b[1m[\u001b[0m\u001b[34;49mnotice\u001b[0m\u001b[1;39;49m]\u001b[0m\u001b[39;49m To update, run: \u001b[0m\u001b[32;49mpython3 -m pip install --upgrade pip\u001b[0m\n"
     ]
    }
   ],
   "source": [
    "!pip install statsmodels linearmodels"
   ]
  },
  {
   "cell_type": "code",
   "execution_count": 4,
   "id": "d0c6c407",
   "metadata": {
    "vscode": {
     "languageId": "plaintext"
    }
   },
   "outputs": [
    {
     "name": "stdout",
     "output_type": "stream",
     "text": [
      "目前資料路徑： /workspaces/data-visualization-labs/self-extended-practice/semiconductor-tariff-impact-taiwan/data\n",
      "ic_exports_comparison.csv exists? -> True\n",
      "資料筆數： 48\n"
     ]
    }
   ],
   "source": [
    "# === 1. Imports & Paths ===\n",
    "import os\n",
    "import math\n",
    "import numpy as np\n",
    "import pandas as pd\n",
    "import matplotlib.pyplot as plt\n",
    "import statsmodels.formula.api as smf\n",
    "from pathlib import Path\n",
    "\n",
    "# 避免中文字亂碼（Codespaces常用字型）\n",
    "plt.rcParams[\"font.family\"] = \"DejaVu Sans\"\n",
    "\n",
    "# 以 Codespaces 專案根目錄為基準\n",
    "BASE = Path(\"/workspaces/data-visualization-labs\")  # 你的 repo 根目錄\n",
    "PROJ = BASE / \"self-extended-practice\" / \"semiconductor-tariff-impact-taiwan\"\n",
    "DATA = PROJ / \"data\"               # 資料資料夾\n",
    "OUT = PROJ / \"output\" / \"ai\"       # AI 分析輸出資料夾\n",
    "OUT.mkdir(parents=True, exist_ok=True)\n",
    "\n",
    "print(\"目前資料路徑：\", DATA)\n",
    "\n",
    "# === 2. 讀取既有 IC 出口整理後資料 ===\n",
    "ic_path = DATA / \"processed\" / \"ic_exports_comparison.csv\"\n",
    "print(\"ic_exports_comparison.csv exists? ->\", ic_path.exists())  # 檢查是否存在\n",
    "df = pd.read_csv(ic_path)\n",
    "print(\"資料筆數：\", len(df))\n"
   ]
  },
  {
   "cell_type": "code",
   "execution_count": 5,
   "id": "3adf619d-af0f-4a97-a2bc-066051c651b7",
   "metadata": {},
   "outputs": [
    {
     "name": "stdout",
     "output_type": "stream",
     "text": [
      "ai_demand_index_2015_2025.csv exists? -> True\n",
      "AI 指標資料筆數： 11\n"
     ]
    },
    {
     "data": {
      "text/html": [
       "<div>\n",
       "<style scoped>\n",
       "    .dataframe tbody tr th:only-of-type {\n",
       "        vertical-align: middle;\n",
       "    }\n",
       "\n",
       "    .dataframe tbody tr th {\n",
       "        vertical-align: top;\n",
       "    }\n",
       "\n",
       "    .dataframe thead th {\n",
       "        text-align: right;\n",
       "    }\n",
       "</style>\n",
       "<table border=\"1\" class=\"dataframe\">\n",
       "  <thead>\n",
       "    <tr style=\"text-align: right;\">\n",
       "      <th></th>\n",
       "      <th>Year</th>\n",
       "      <th>AI_Demand_Index</th>\n",
       "      <th>Source</th>\n",
       "    </tr>\n",
       "  </thead>\n",
       "  <tbody>\n",
       "    <tr>\n",
       "      <th>0</th>\n",
       "      <td>2015</td>\n",
       "      <td>NaN</td>\n",
       "      <td>NaN</td>\n",
       "    </tr>\n",
       "    <tr>\n",
       "      <th>1</th>\n",
       "      <td>2016</td>\n",
       "      <td>NaN</td>\n",
       "      <td>NaN</td>\n",
       "    </tr>\n",
       "    <tr>\n",
       "      <th>2</th>\n",
       "      <td>2017</td>\n",
       "      <td>NaN</td>\n",
       "      <td>NaN</td>\n",
       "    </tr>\n",
       "    <tr>\n",
       "      <th>3</th>\n",
       "      <td>2018</td>\n",
       "      <td>NaN</td>\n",
       "      <td>NaN</td>\n",
       "    </tr>\n",
       "    <tr>\n",
       "      <th>4</th>\n",
       "      <td>2019</td>\n",
       "      <td>NaN</td>\n",
       "      <td>NaN</td>\n",
       "    </tr>\n",
       "  </tbody>\n",
       "</table>\n",
       "</div>"
      ],
      "text/plain": [
       "   Year  AI_Demand_Index  Source\n",
       "0  2015              NaN     NaN\n",
       "1  2016              NaN     NaN\n",
       "2  2017              NaN     NaN\n",
       "3  2018              NaN     NaN\n",
       "4  2019              NaN     NaN"
      ]
     },
     "execution_count": 5,
     "metadata": {},
     "output_type": "execute_result"
    }
   ],
   "source": [
    "# === 3. 讀取 AI 需求指標 ===\n",
    "ai_index_path = DATA / \"external\" / \"ai_demand_index_2015_2025.csv\"\n",
    "print(\"ai_demand_index_2015_2025.csv exists? ->\", ai_index_path.exists())\n",
    "\n",
    "ai_df = pd.read_csv(ai_index_path)\n",
    "print(\"AI 指標資料筆數：\", len(ai_df))\n",
    "ai_df.head()\n"
   ]
  },
  {
   "cell_type": "code",
   "execution_count": null,
   "id": "b29bbf48",
   "metadata": {
    "vscode": {
     "languageId": "plaintext"
    }
   },
   "outputs": [],
   "source": [
    "# === 可選：簡單檢視 AI_Index 與世界 IC 出口對照 ===\n",
    "# 若要畫圖、或計算某些摘要便於 sanity check\n",
    "group = df.groupby(\"Year\", as_index=False).agg(\n",
    "    WorldLogExp=(\"log_exports\", \"mean\")\n",
    ")\n",
    "fig, ax = plt.subplots(figsize=(7,4))\n",
    "ax.plot(group[\"Year\"], group[\"WorldLogExp\"], marker=\"o\", label=\"Avg log(exports)\")\n",
    "ax2 = ax.twinx()\n",
    "ax2.plot(ai[\"Year\"], ai[\"AI_Index\"], marker=\"s\", linestyle=\"--\", label=\"AI Index\", alpha=0.6, color=\"tab:orange\")\n",
    "ax.set_title(\"Avg log(exports) vs AI Index\")\n",
    "ax.set_xlabel(\"Year\")\n",
    "ax.legend(loc=\"upper left\")\n",
    "ax2.legend(loc=\"upper right\")\n",
    "plt.tight_layout()\n",
    "plt.show()\n"
   ]
  },
  {
   "cell_type": "code",
   "execution_count": null,
   "id": "d06d4045",
   "metadata": {
    "vscode": {
     "languageId": "plaintext"
    }
   },
   "outputs": [],
   "source": [
    "# === TWFE Regression: log_exports ~ Country FE + Year FE + TW_AIBoom（核心） ===\n",
    "# 注意：AIBoom 本身會被 Year FE 吸收（所以只留交互項 TW_AIBoom）\n",
    "# 與你原本模型一致的思路。\n",
    "\n",
    "# 只跑我們要的國家（如果檔內就這四國：Taiwan/USA/China/Korea，可省略）\n",
    "# df = df[df[\"Country\"].isin([\"Taiwan\", \"USA\", \"China\", \"Korea\"])]\n",
    "\n",
    "# OLS with two-way FE: C(Country) + C(Year)\n",
    "import statsmodels.api as sm\n",
    "mod = smf.ols(\"log_exports ~ C(Country) + C(Year) + TW_AIBoom\", data=df)\n",
    "res = mod.fit(cov_type=\"HAC\", cov_kwds={\"maxlags\":1})  # 時序誤差調整\n",
    "print(res.summary())\n",
    "\n",
    "# 存回歸結果表（CSV）\n",
    "res_df = pd.concat([\n",
    "    res.params.rename(\"coef\"),\n",
    "    res.bse.rename(\"stderr\"),\n",
    "    res.tvalues.rename(\"t\"),\n",
    "    res.pvalues.rename(\"p\")\n",
    "], axis=1).reset_index().rename(columns={\"index\":\"term\"})\n",
    "res_path = OUT / \"ai_regression_results_TWFE.csv\"\n",
    "res_df.to_csv(res_path, index=False)\n",
    "print(\"✅ Saved regression results ->\", res_path)\n"
   ]
  },
  {
   "cell_type": "code",
   "execution_count": null,
   "id": "a2549868",
   "metadata": {
    "vscode": {
     "languageId": "plaintext"
    }
   },
   "outputs": [],
   "source": [
    "# === 抽出 TW_* 係數並畫圖（這裡只有 TW_AIBoom 一個） ===\n",
    "coef_tbl = res_df.copy()\n",
    "\n",
    "row = coef_tbl.loc[coef_tbl[\"term\"]==\"TW_AIBoom\"]\n",
    "if row.empty:\n",
    "    raise RuntimeError(\"抓不到 TW_AIBoom 係數，請檢查模型式或欄位命名。\")\n",
    "\n",
    "coef = float(row[\"coef\"])\n",
    "stderr = float(row[\"stderr\"])\n",
    "p = float(row[\"p\"])\n",
    "low = coef - 1.96*stderr\n",
    "high = coef + 1.96*stderr\n",
    "\n",
    "label = \"TW_AIBoom\"\n",
    "bar_color = \"#8dd3c7\"\n",
    "\n",
    "fig, ax = plt.subplots(figsize=(8,5))\n",
    "ax.bar([label], [coef], color=bar_color, edgecolor=\"k\", alpha=0.7, yerr=[[coef-low],[high-coef]], capsize=8)\n",
    "\n",
    "# 數值標籤\n",
    "ax.text(0, coef + (0.02 if coef>=0 else -0.02), f\"{coef:.2f}\", ha=\"center\", va=\"bottom\" if coef>=0 else \"top\", fontsize=11)\n",
    "\n",
    "# 美化\n",
    "ax.axhline(0, color=\"gray\", lw=1, linestyle=\"--\")\n",
    "ax.set_ylabel(\"Effect on log(exports) (≈ % change)\")\n",
    "ax.set_title(\"Taiwan Relative Effect — AI Demand Boom (TWFE)\")\n",
    "ax.set_ylim(min(-0.25, low-0.05), max(0.30, high+0.05))\n",
    "\n",
    "png_path = OUT / \"tw_ai_effects_bar_labeled.png\"\n",
    "plt.tight_layout()\n",
    "plt.savefig(png_path, dpi=150)\n",
    "plt.show()\n",
    "print(\"✅ Saved figure ->\", png_path)\n"
   ]
  },
  {
   "cell_type": "code",
   "execution_count": null,
   "id": "4e58920e",
   "metadata": {
    "vscode": {
     "languageId": "plaintext"
    }
   },
   "outputs": [],
   "source": [
    "# === 匯出這次 AI 需求回歸所用的資料集 ===\n",
    "save_cols = [\n",
    "    \"Country\", \"Year\", \"log_exports\",\n",
    "    \"AI_Index\", \"AIBoom\", \"TW_AIBoom\"\n",
    "]\n",
    "reg_data_path = OUT / \"ai_regression_dataset_TWFE.csv\"\n",
    "df[save_cols].to_csv(reg_data_path, index=False)\n",
    "print(\"✅ Saved dataset ->\", reg_data_path)\n"
   ]
  }
 ],
 "metadata": {
  "kernelspec": {
   "display_name": "Python 3 (ipykernel)",
   "language": "python",
   "name": "python3"
  },
  "language_info": {
   "codemirror_mode": {
    "name": "ipython",
    "version": 3
   },
   "file_extension": ".py",
   "mimetype": "text/x-python",
   "name": "python",
   "nbconvert_exporter": "python",
   "pygments_lexer": "ipython3",
   "version": "3.12.1"
  }
 },
 "nbformat": 4,
 "nbformat_minor": 5
}
